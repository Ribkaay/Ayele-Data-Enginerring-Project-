{
 "cells": [
  {
   "cell_type": "markdown",
   "metadata": {},
   "source": [
    "CAP 350 - Data Engineering - Capstone Project"
   ]
  },
  {
   "cell_type": "markdown",
   "metadata": {},
   "source": [
    "This project is a Data Extraction, Transformation, load (ETL) proccess implemented using  with Python and PySpark. \n",
    "It proccess two datasets: Loan Application and a Credit Card dataset. This project use various technologies and libraries Python (Pandas, advanced modules, e.g., Matplotlib), SQL,\n",
    "Apache Spark (Spark Core, Spark SQL), and Python Visualization and Analytics libraries.   \n",
    "\n",
    "Author: Ribka Ayele\n",
    "Date: 10/14/2023"
   ]
  },
  {
   "cell_type": "code",
   "execution_count": 1,
   "metadata": {},
   "outputs": [],
   "source": [
    "import os\n",
    "import sys\n",
    "import pyspark\n",
    "import requests\n",
    "import pandas as pd \n",
    "import random\n",
    "import secret\n",
    "import matplotlib.pyplot as plt\n",
    "import mysql.connector\n",
    "\n",
    "from mysql.connector import Error\n",
    "from pyspark.sql.functions import when,col, substring, concat,lit,initcap, lpad,substring, lower\n",
    "from pyspark.sql.types import IntegerType,StringType,TimestampType, DoubleType\n",
    "from pyspark.sql import SparkSession  #import sparksession from pyspark.sql"
   ]
  },
  {
   "cell_type": "code",
   "execution_count": 2,
   "metadata": {},
   "outputs": [],
   "source": [
    " #Create a Spark session\n",
    "spark = SparkSession.builder.appName(\"Credit Card System\").getOrCreate()"
   ]
  },
  {
   "cell_type": "markdown",
   "metadata": {},
   "source": [
    "Data extraction\n"
   ]
  },
  {
   "cell_type": "code",
   "execution_count": 3,
   "metadata": {},
   "outputs": [
    {
     "name": "stdout",
     "output_type": "stream",
     "text": [
      "root\n",
      " |-- APT_NO: string (nullable = true)\n",
      " |-- CREDIT_CARD_NO: string (nullable = true)\n",
      " |-- CUST_CITY: string (nullable = true)\n",
      " |-- CUST_COUNTRY: string (nullable = true)\n",
      " |-- CUST_EMAIL: string (nullable = true)\n",
      " |-- CUST_PHONE: long (nullable = true)\n",
      " |-- CUST_STATE: string (nullable = true)\n",
      " |-- CUST_ZIP: string (nullable = true)\n",
      " |-- FIRST_NAME: string (nullable = true)\n",
      " |-- LAST_NAME: string (nullable = true)\n",
      " |-- LAST_UPDATED: string (nullable = true)\n",
      " |-- MIDDLE_NAME: string (nullable = true)\n",
      " |-- SSN: long (nullable = true)\n",
      " |-- STREET_NAME: string (nullable = true)\n",
      "\n",
      "+------+----------------+------------+-------------+--------------------+----------+----------+--------+----------+---------+--------------------+-----------+---------+-----------------+\n",
      "|APT_NO|  CREDIT_CARD_NO|   CUST_CITY| CUST_COUNTRY|          CUST_EMAIL|CUST_PHONE|CUST_STATE|CUST_ZIP|FIRST_NAME|LAST_NAME|        LAST_UPDATED|MIDDLE_NAME|      SSN|      STREET_NAME|\n",
      "+------+----------------+------------+-------------+--------------------+----------+----------+--------+----------+---------+--------------------+-----------+---------+-----------------+\n",
      "|   656|4210653310061055|     Natchez|United States| AHooper@example.com|   1237818|        MS|   39120|      Alec|   Hooper|2018-04-21T12:49:...|         Wm|123456100|Main Street North|\n",
      "|   829|4210653310102868|Wethersfield|United States| EHolman@example.com|   1238933|        CT|   06109|      Etta|   Holman|2018-04-21T12:49:...|    Brendan|123453023|    Redwood Drive|\n",
      "|   683|4210653310116272|     Huntley|United States| WDunham@example.com|   1243018|        IL|   60142|    Wilber|   Dunham|2018-04-21T12:49:...|   Ezequiel|123454487| 12th Street East|\n",
      "|   253|4210653310195948|   NewBerlin|United States|  EHardy@example.com|   1243215|        WI|   53151|   Eugenio|    Hardy|2018-04-21T12:49:...|      Trina|123459758|Country Club Road|\n",
      "|   301|4210653310356919|      ElPaso|United States|  WAyers@example.com|   1242074|        TX|   79930|   Wilfred|    Ayers|2018-04-21T12:49:...|        May|123454431|   Madison Street|\n",
      "|     3|4210653310395982|NorthOlmsted|United States|BWoodard@example.com|   1242570|        OH|   44070|      Beau|  Woodard|2018-04-21T12:49:...|    Ambrose|123454202|   Colonial Drive|\n",
      "|    84|4210653310400536|      Vienna|United States|   SKemp@example.com|   1239685|        VA|   22180|    Sheila|     Kemp|2018-04-21T12:49:...|      Larry|123451799|   Belmont Avenue|\n",
      "|   728|4210653310459911|      Duarte|United States| WHurley@example.com|   1238213|        CA|   91010|     Wendy|   Hurley|2018-04-21T12:49:...|        Ora|123453875|     Oxford Court|\n",
      "|    81|4210653310773972|      Owosso|United States|AGilmore@example.com|   1240689|        MI|   48867|      Alec|  Gilmore|2018-04-21T12:49:...|     Tracie|123457511|    Forest Street|\n",
      "|   561|4210653310794854|        Zion|United States|    BLau@example.com|   1235222|        IL|   60099|    Barbra|      Lau|2018-04-21T12:49:...|    Mitchel|123457464|     Court Street|\n",
      "|   622|4210653310817373|  Youngstown|United States|EThomson@example.com|   1241363|        OH|   44512|   Edmundo|  Thomson|2018-04-21T12:49:...|      Denny|123457639|    Cypress Court|\n",
      "|   924|4210653310844617| Summerville|United States| ETruong@example.com|   1236228|        SC|   29483|      Elsa|   Truong|2018-04-21T12:49:...|   Isabelle|123453242|  8th Street West|\n",
      "|   611|4210653311015303|      ElPaso|United States|HMckinney@example...|   1238165|        TX|   79930|     Homer| Mckinney|2018-04-21T12:49:...|      Henry|123454339|      East Avenue|\n",
      "|   680|4210653311215039|      Fenton|United States|   RKidd@example.com|   1234730|        MI|   48430|      Rita|     Kidd|2018-04-21T12:49:...|     Rickey|123454537|         Route 44|\n",
      "|    71|4210653311229354|  Grandville|United States|ABallard@example.com|   1242113|        MI|   49418|    Amalia|  Ballard|2018-04-21T12:49:...|  Heriberto|123452373|    Warren Street|\n",
      "|   195|4210653311652836|    YubaCity|United States| PThomas@example.com|   1239888|        CA|   95993|     Patty|   Thomas|2018-04-21T12:49:...|   Angelita|123455343|     Jones Street|\n",
      "|   500|4210653311707126|   CapeCoral|United States| JMorrow@example.com|   1240158|        FL|   33904|  Josefina|   Morrow|2018-04-21T12:49:...|   Dorothea|123451533|       New Street|\n",
      "|   989|4210653311730764|  Brookfield|United States|NAndrews@example.com|   1241408|        WI|   53045|    Nelson|  Andrews|2018-04-21T12:49:...|  Jefferson|123459278|  Division Street|\n",
      "|   810|4210653311898082|    Richmond|United States|MSchneider@exampl...|   1238390|        VA|   23223|    Miquel|Schneider|2018-04-21T12:49:...|     Maximo|123456915|     Maple Street|\n",
      "|   649|4210653312021765| WestChester|United States|PTidwell@example.com|   1235067|        PA|   19380|    Parker|  Tidwell|2018-04-21T12:49:...|    Arnulfo|123453807|       Eagle Road|\n",
      "+------+----------------+------------+-------------+--------------------+----------+----------+--------+----------+---------+--------------------+-----------+---------+-----------------+\n",
      "only showing top 20 rows\n",
      "\n",
      "None\n"
     ]
    }
   ],
   "source": [
    "#Extract cdw_sapp_custmer, cdw_sapp_branch, and cdw_sapp_creditJSON files\n",
    "#Read the Json data form my local computer \n",
    "df_cdw_sapp_custmer = spark.read.json(\"cdw_sapp_custmer.json\")\n",
    "df_cdw_sapp_custmer.printSchema() #show df_cdw_sapp_custmer schema\n",
    "print(df_cdw_sapp_custmer.show()) "
   ]
  },
  {
   "cell_type": "code",
   "execution_count": 4,
   "metadata": {},
   "outputs": [
    {
     "name": "stdout",
     "output_type": "stream",
     "text": [
      "root\n",
      " |-- BRANCH_CITY: string (nullable = true)\n",
      " |-- BRANCH_CODE: long (nullable = true)\n",
      " |-- BRANCH_NAME: string (nullable = true)\n",
      " |-- BRANCH_PHONE: string (nullable = true)\n",
      " |-- BRANCH_STATE: string (nullable = true)\n",
      " |-- BRANCH_STREET: string (nullable = true)\n",
      " |-- BRANCH_ZIP: long (nullable = true)\n",
      " |-- LAST_UPDATED: string (nullable = true)\n",
      "\n",
      "+-----------------+-----------+------------+------------+------------+-----------------+----------+--------------------+\n",
      "|      BRANCH_CITY|BRANCH_CODE| BRANCH_NAME|BRANCH_PHONE|BRANCH_STATE|    BRANCH_STREET|BRANCH_ZIP|        LAST_UPDATED|\n",
      "+-----------------+-----------+------------+------------+------------+-----------------+----------+--------------------+\n",
      "|        Lakeville|          1|Example Bank|  1234565276|          MN|     Bridle Court|     55044|2018-04-18T16:51:...|\n",
      "|          Huntley|          2|Example Bank|  1234618993|          IL|Washington Street|     60142|2018-04-18T16:51:...|\n",
      "|SouthRichmondHill|          3|Example Bank|  1234985926|          NY|    Warren Street|     11419|2018-04-18T16:51:...|\n",
      "|       Middleburg|          4|Example Bank|  1234663064|          FL| Cleveland Street|     32068|2018-04-18T16:51:...|\n",
      "|    KingOfPrussia|          5|Example Bank|  1234849701|          PA|      14th Street|     19406|2018-04-18T16:51:...|\n",
      "+-----------------+-----------+------------+------------+------------+-----------------+----------+--------------------+\n",
      "only showing top 5 rows\n",
      "\n",
      "None\n"
     ]
    }
   ],
   "source": [
    "#extract cdw_sapp_branch Json data\n",
    "df_cdw_sapp_branch = spark.read.json(\"cdw_sapp_branch.json\")\n",
    "df_cdw_sapp_branch.printSchema()\n",
    "print(df_cdw_sapp_branch.show(5))\n"
   ]
  },
  {
   "cell_type": "code",
   "execution_count": 5,
   "metadata": {},
   "outputs": [
    {
     "name": "stdout",
     "output_type": "stream",
     "text": [
      "root\n",
      " |-- BRANCH_CODE: long (nullable = true)\n",
      " |-- CREDIT_CARD_NO: string (nullable = true)\n",
      " |-- CUST_SSN: long (nullable = true)\n",
      " |-- DAY: long (nullable = true)\n",
      " |-- MONTH: long (nullable = true)\n",
      " |-- TRANSACTION_ID: long (nullable = true)\n",
      " |-- TRANSACTION_TYPE: string (nullable = true)\n",
      " |-- TRANSACTION_VALUE: double (nullable = true)\n",
      " |-- YEAR: long (nullable = true)\n",
      "\n",
      "+-----------+----------------+---------+---+-----+--------------+----------------+-----------------+----+\n",
      "|BRANCH_CODE|  CREDIT_CARD_NO| CUST_SSN|DAY|MONTH|TRANSACTION_ID|TRANSACTION_TYPE|TRANSACTION_VALUE|YEAR|\n",
      "+-----------+----------------+---------+---+-----+--------------+----------------+-----------------+----+\n",
      "|        114|4210653349028689|123459988| 14|    2|             1|       Education|             78.9|2018|\n",
      "|         35|4210653349028689|123459988| 20|    3|             2|   Entertainment|            14.24|2018|\n",
      "|        160|4210653349028689|123459988|  8|    7|             3|         Grocery|             56.7|2018|\n",
      "|        114|4210653349028689|123459988| 19|    4|             4|   Entertainment|            59.73|2018|\n",
      "|         93|4210653349028689|123459988| 10|   10|             5|             Gas|             3.59|2018|\n",
      "+-----------+----------------+---------+---+-----+--------------+----------------+-----------------+----+\n",
      "only showing top 5 rows\n",
      "\n",
      "None\n"
     ]
    }
   ],
   "source": [
    "\n",
    "#extract cdw_sapp_credit Json data\n",
    "df_cdw_sapp_credit = spark.read.json(\"cdw_sapp_credit.json\")\n",
    "df_cdw_sapp_credit.printSchema()\n",
    "print(df_cdw_sapp_credit.show(5))\n"
   ]
  },
  {
   "cell_type": "markdown",
   "metadata": {},
   "source": [
    "Data transformation (applying mapping)"
   ]
  },
  {
   "cell_type": "code",
   "execution_count": 6,
   "metadata": {},
   "outputs": [
    {
     "name": "stdout",
     "output_type": "stream",
     "text": [
      "+------+----------------+------------+-------------+-------------------+------------+----------+--------+----------+---------+--------------------+-----------+---------+-----------------+--------------------+\n",
      "|APT_NO|  CREDIT_CARD_NO|   CUST_CITY| CUST_COUNTRY|         CUST_EMAIL|  CUST_PHONE|CUST_STATE|CUST_ZIP|FIRST_NAME|LAST_NAME|        LAST_UPDATED|MIDDLE_NAME|      SSN|      STREET_NAME| FULL_STREET_ADDRESS|\n",
      "+------+----------------+------------+-------------+-------------------+------------+----------+--------+----------+---------+--------------------+-----------+---------+-----------------+--------------------+\n",
      "|   656|4210653310061055|     Natchez|United States|AHooper@example.com|(365)123)781|        MS|   39120|      Alec|   Hooper|2018-04-21T12:49:...|         wm|123456100|Main Street North|Main Street North...|\n",
      "|   829|4210653310102868|Wethersfield|United States|EHolman@example.com|(365)123)893|        CT|   06109|      Etta|   Holman|2018-04-21T12:49:...|    brendan|123453023|    Redwood Drive|   Redwood Drive,829|\n",
      "|   683|4210653310116272|     Huntley|United States|WDunham@example.com|(365)124)301|        IL|   60142|    Wilber|   Dunham|2018-04-21T12:49:...|   ezequiel|123454487| 12th Street East|12th Street East,683|\n",
      "|   253|4210653310195948|   NewBerlin|United States| EHardy@example.com|(365)124)321|        WI|   53151|   Eugenio|    Hardy|2018-04-21T12:49:...|      trina|123459758|Country Club Road|Country Club Road...|\n",
      "|   301|4210653310356919|      ElPaso|United States| WAyers@example.com|(365)124)207|        TX|   79930|   Wilfred|    Ayers|2018-04-21T12:49:...|        may|123454431|   Madison Street|  Madison Street,301|\n",
      "+------+----------------+------------+-------------+-------------------+------------+----------+--------+----------+---------+--------------------+-----------+---------+-----------------+--------------------+\n",
      "only showing top 5 rows\n",
      "\n",
      "cdw_sapp_custmer after mapping\n",
      "+---------+----------+-----------+---------+----------------+--------------------+------------+----------+-------------+--------+------------+--------------------+-------------------+\n",
      "|      SSN|FIRST_NAME|MIDDLE_NAME|LAST_NAME|  Credit_card_no| FULL_STREET_ADDRESS|   CUST_CITY|CUST_STATE| CUST_COUNTRY|CUST_ZIP|  CUST_PHONE|          CUST_EMAIL|       LAST_UPDATED|\n",
      "+---------+----------+-----------+---------+----------------+--------------------+------------+----------+-------------+--------+------------+--------------------+-------------------+\n",
      "|123456100|      Alec|         wm|   Hooper|4210653310061055|Main Street North...|     Natchez|        MS|United States|   39120|(365)123)781| AHooper@example.com|2018-04-21 09:49:02|\n",
      "|123453023|      Etta|    brendan|   Holman|4210653310102868|   Redwood Drive,829|Wethersfield|        CT|United States|   06109|(365)123)893| EHolman@example.com|2018-04-21 09:49:02|\n",
      "|123454487|    Wilber|   ezequiel|   Dunham|4210653310116272|12th Street East,683|     Huntley|        IL|United States|   60142|(365)124)301| WDunham@example.com|2018-04-21 09:49:02|\n",
      "|123459758|   Eugenio|      trina|    Hardy|4210653310195948|Country Club Road...|   NewBerlin|        WI|United States|   53151|(365)124)321|  EHardy@example.com|2018-04-21 09:49:02|\n",
      "|123454431|   Wilfred|        may|    Ayers|4210653310356919|  Madison Street,301|      ElPaso|        TX|United States|   79930|(365)124)207|  WAyers@example.com|2018-04-21 09:49:02|\n",
      "|123454202|      Beau|    ambrose|  Woodard|4210653310395982|    Colonial Drive,3|NorthOlmsted|        OH|United States|   44070|(365)124)257|BWoodard@example.com|2018-04-21 09:49:02|\n",
      "|123451799|    Sheila|      larry|     Kemp|4210653310400536|   Belmont Avenue,84|      Vienna|        VA|United States|   22180|(365)123)968|   SKemp@example.com|2018-04-21 09:49:02|\n",
      "|123453875|     Wendy|        ora|   Hurley|4210653310459911|    Oxford Court,728|      Duarte|        CA|United States|   91010|(365)123)821| WHurley@example.com|2018-04-21 09:49:02|\n",
      "+---------+----------+-----------+---------+----------------+--------------------+------------+----------+-------------+--------+------------+--------------------+-------------------+\n",
      "only showing top 8 rows\n",
      "\n"
     ]
    }
   ],
   "source": [
    "\"\"\"  Functional Requirements - Load Credit Card Database (SQL)\n",
    "Req-1.1 Data Extraction and Transformation with Python and  PySpark\n",
    "Transform cdw_sapp_custme file based on the mapping document according to the \n",
    "specifications found in the mapping document; \n",
    "- \"\"\"\n",
    "\n",
    "# Map df_cdw_sapp_custmer data\n",
    "#Phone number missed area code so that  generate random area code\n",
    "random_area_code = (random.randint(206, 789))\n",
    "\n",
    "  #covert area code to string  and amking sure 3 digit long\n",
    "random_area_code = f\"{random_area_code:03d}\"\n",
    "\n",
    "  #Apply Transformation First & last name to title case, middle name lower case \n",
    "  #phone number add area code and in (xxx)xxx-xxx format\n",
    "cdw_sapp_custmer= df_cdw_sapp_custmer.withColumn(\"FIRST_NAME\" , initcap(col(\"FIRST_NAME\"))  #tile case\n",
    "                                                    ).withColumn(\"LAST_NAME\" , initcap(col(\"LAST_NAME\"))\n",
    "                                                    ).withColumn(\"MIDDLE_NAME\" , lower(col(\"MIDDLE_NAME\"))\n",
    "                                                    ).withColumn(\"FULL_STREET_ADDRESS\" , concat(col(\"STREET_NAME\"), lit(\",\"), (\"APT_NO\"))\n",
    "                                                    ).withColumn(\"CUST_PHONE\",concat(lit('('),lit(random_area_code),lit(')'),substring(col(\"CUST_PHONE\"),1,3),lit(')'),\n",
    "                                                                    substring(col(\"CUST_PHONE\"),4,3).cast(StringType()))\n",
    "                                                    ).withColumn(\"CUST_ZIP\", lpad(col(\"CUST_ZIP\"),5,\"0\"))\n",
    "\n",
    "\n",
    "                                                      \n",
    "cdw_sapp_custmer.show(5)\n",
    "\n",
    "\n",
    "\n",
    "cdw_sapp_custmer = cdw_sapp_custmer.select(\"SSN\",\"FIRST_NAME\",\"MIDDLE_NAME\",\"LAST_NAME\",\"CREDIT_CARD_NO\",\n",
    "                          \"FULL_STREET_ADDRESS\", \"CUST_CITY\",\"CUST_STATE\",\"CUST_COUNTRY\",\n",
    "                          \"CUST_ZIP\", \"CUST_PHONE\",\"CUST_EMAIL\", \"LAST_UPDATED\")\n",
    "  \n",
    "\n",
    "  #convert  all colomn to VARCAR except SSN,CUST_ZIP, APT_NO (IntegerType),LAST_UPDATED TimestampType()\n",
    "cdw_sapp_custmer=cdw_sapp_custmer.withColumn(\"SSN\", col(\"SSN\").cast(IntegerType())\n",
    "                                  ).withColumn(\"FIRST_NAME\", col(\"FIRST_NAME\").cast(StringType())\n",
    "                                  ).withColumn(\"MIDDLE_NAME\", col(\"MIDDLE_NAME\").cast(StringType())\n",
    "                                  ).withColumn(\"LAST_NAME\", col(\"LAST_NAME\").cast(StringType())            \n",
    "                                  ).withColumn(\"Credit_card_no\", col(\"CREDIT_CARD_NO\").cast(StringType())\n",
    "                                  ).withColumn(\"FULL_STREET_ADDRESS\", col(\"FULL_STREET_ADDRESS\").cast(StringType())\n",
    "                                  ).withColumn(\"CUST_CITY\", col(\"CUST_CITY\").cast(StringType()) \n",
    "                                  ).withColumn(\"CUST_STATE\", col(\"CUST_STATE\").cast(StringType())\n",
    "                                  ).withColumn(\"CUST_COUNTRY\", col(\"CUST_COUNTRY\").cast(StringType()) \n",
    "                                  ).withColumn(\"CUST_ZIP\", col(\"CUST_ZIP\").cast(StringType())    \n",
    "                                  ).withColumn(\"CUST_PHONE\", col(\"CUST_PHONE\").cast(StringType())\n",
    "                                  ).withColumn(\"CUST_EMAIL\", col(\"CUST_EMAIL\").cast(StringType()) \n",
    "                                  ).withColumn(\"LAST_UPDATED\", col(\"LAST_UPDATED\").cast(TimestampType()))\n",
    "\n",
    "  # # Drop Apt No and street number. FULL_STREET_ADDRESS includes both\n",
    "  # cdw_sapp_custmer=cdw_sapp_custmer.drop(\"STREET_NAME\",\"APT_NO\")                       \n",
    "print(\"cdw_sapp_custmer after mapping\")                         \n",
    "cdw_sapp_custmer.show(8) \n"
   ]
  },
  {
   "cell_type": "code",
   "execution_count": 7,
   "metadata": {},
   "outputs": [
    {
     "name": "stdout",
     "output_type": "stream",
     "text": [
      "+-----------+------------+-----------------+-----------------+------------+----------+-------------+--------------------+\n",
      "|BRANCH_CODE| BRANCH_NAME|    BRANCH_STREET|      BRANCH_CITY|BRANCH_STATE|BRANCH_ZIP| BRANCH_PHONE|        LAST_UPDATED|\n",
      "+-----------+------------+-----------------+-----------------+------------+----------+-------------+--------------------+\n",
      "|          1|Example Bank|     Bridle Court|        Lakeville|          MN|     55044|(123)456-5276|2018-04-18T16:51:...|\n",
      "|          2|Example Bank|Washington Street|          Huntley|          IL|     60142|(123)461-8993|2018-04-18T16:51:...|\n",
      "|          3|Example Bank|    Warren Street|SouthRichmondHill|          NY|     11419|(123)498-5926|2018-04-18T16:51:...|\n",
      "|          4|Example Bank| Cleveland Street|       Middleburg|          FL|     32068|(123)466-3064|2018-04-18T16:51:...|\n",
      "|          5|Example Bank|      14th Street|    KingOfPrussia|          PA|     19406|(123)484-9701|2018-04-18T16:51:...|\n",
      "+-----------+------------+-----------------+-----------------+------------+----------+-------------+--------------------+\n",
      "only showing top 5 rows\n",
      "\n",
      "+-----------+------------+-----------------+-----------------+------------+----------+-------------+-------------------+\n",
      "|BRANCH_CODE| BRANCH_NAME|    BRANCH_STREET|      BRANCH_CITY|BRANCH_STATE|BRANCH_ZIP| BRANCH_PHONE|       LAST_UPDATED|\n",
      "+-----------+------------+-----------------+-----------------+------------+----------+-------------+-------------------+\n",
      "|          1|Example Bank|     Bridle Court|        Lakeville|          MN|     55044|(123)456-5276|2018-04-18 13:51:47|\n",
      "|          2|Example Bank|Washington Street|          Huntley|          IL|     60142|(123)461-8993|2018-04-18 13:51:47|\n",
      "|          3|Example Bank|    Warren Street|SouthRichmondHill|          NY|     11419|(123)498-5926|2018-04-18 13:51:47|\n",
      "|          4|Example Bank| Cleveland Street|       Middleburg|          FL|     32068|(123)466-3064|2018-04-18 13:51:47|\n",
      "|          5|Example Bank|      14th Street|    KingOfPrussia|          PA|     19406|(123)484-9701|2018-04-18 13:51:47|\n",
      "|          7|Example Bank| Jefferson Street|         Paterson|          NJ|     07501|(123)414-4890|2018-04-18 13:51:47|\n",
      "|          8|Example Bank|         B Street|        Pittsford|          NY|     14534|(123)467-8272|2018-04-18 13:51:47|\n",
      "|          9|Example Bank|  Jefferson Court|     Wethersfield|          CT|     06109|(123)467-5219|2018-04-18 13:51:47|\n",
      "+-----------+------------+-----------------+-----------------+------------+----------+-------------+-------------------+\n",
      "only showing top 8 rows\n",
      "\n",
      "root\n",
      " |-- BRANCH_CODE: integer (nullable = true)\n",
      " |-- BRANCH_NAME: string (nullable = true)\n",
      " |-- BRANCH_STREET: string (nullable = true)\n",
      " |-- BRANCH_CITY: string (nullable = true)\n",
      " |-- BRANCH_STATE: string (nullable = true)\n",
      " |-- BRANCH_ZIP: string (nullable = true)\n",
      " |-- BRANCH_PHONE: string (nullable = true)\n",
      " |-- LAST_UPDATED: timestamp (nullable = true)\n",
      "\n"
     ]
    }
   ],
   "source": [
    "\"\"\" Transform cdw_sapp_branch data frame based on the mapping document\"\"\"\n",
    "\n",
    "df_cdw_sapp_branch = df_cdw_sapp_branch.select(\"BRANCH_CODE\",\"BRANCH_NAME\",\"BRANCH_STREET\",\"BRANCH_CITY\",\"BRANCH_STATE\",\n",
    "                                                 \"BRANCH_ZIP\",\"BRANCH_PHONE\",\"LAST_UPDATED\")\n",
    "\n",
    "  #IF BRANCH_ZIP  value is null load default (99999) value \n",
    "  #Change the format of phone number to(xxx)xxx-xxx format\n",
    "  #Make sure BRANCH_ZIP  code 5 number\n",
    "\n",
    "df_cdw_sapp_branch = df_cdw_sapp_branch.withColumn(\"BRANCH_ZIP\", lpad(col(\"BRANCH_ZIP\"),5,\"0\"))\n",
    "\n",
    "df_cdw_sapp_branch = df_cdw_sapp_branch.withColumn(\"BRANCH_ZIP\", when(col(\"BRANCH_ZIP\").isNull(),'99999').otherwise(col(\"BRANCH_ZIP\"))\n",
    "                                ).withColumn(\"BRANCH_PHONE\",concat(lit('('),substring(col(\"BRANCH_PHONE\"),1,3),lit(')'),\n",
    "                                                                  substring(col(\"BRANCH_PHONE\"),4,3),lit('-'),\n",
    "                                                                  substring(col(\"BRANCH_PHONE\"),7,4)))                              \n",
    "\n",
    "df_cdw_sapp_branch.show(5)\n",
    "\n",
    "#Conver into targeted data type except Branch code, zip code and last update convert all to stringtype\n",
    " \n",
    "cdw_sapp_branch = df_cdw_sapp_branch.withColumn(\"BRANCH_CODE\", col(\"BRANCH_CODE\").cast(IntegerType())\n",
    "                                ).withColumn('BRANCH_NAME', col(\"BRANCH_NAME\").cast(StringType())\n",
    "                                  ).withColumn('BRANCH_STREET', col(\"BRANCH_STREET\").cast(StringType())\n",
    "                                  ).withColumn('BRANCH_CITY', col(\"BRANCH_CITY\").cast(StringType()) \n",
    "                                  ).withColumn('BRANCH_STATE', col(\"BRANCH_STATE\").cast(StringType())\n",
    "                                  ).withColumn('BRANCH_ZIP', col(\"BRANCH_ZIP\").cast(StringType())\n",
    "                                  ).withColumn('BRANCH_PHONE', col(\"BRANCH_PHONE\").cast(StringType())\n",
    "                                  ).withColumn(\"LAST_UPDATED\", col(\"LAST_UPDATED\").cast(TimestampType()))  \n",
    "cdw_sapp_branch.show(8)\n",
    "cdw_sapp_branch.printSchema()\n",
    " "
   ]
  },
  {
   "cell_type": "code",
   "execution_count": 8,
   "metadata": {},
   "outputs": [
    {
     "name": "stdout",
     "output_type": "stream",
     "text": [
      "+-----------+----------------+---------+---+-----+--------------+----------------+-----------------+----+--------+\n",
      "|BRANCH_CODE|  CREDIT_CARD_NO| CUST_SSN|DAY|MONTH|TRANSACTION_ID|TRANSACTION_TYPE|TRANSACTION_VALUE|YEAR|  TIMEID|\n",
      "+-----------+----------------+---------+---+-----+--------------+----------------+-----------------+----+--------+\n",
      "|        114|4210653349028689|123459988| 14|    2|             1|       Education|             78.9|2018|20180214|\n",
      "|         35|4210653349028689|123459988| 20|    3|             2|   Entertainment|            14.24|2018|20180320|\n",
      "|        160|4210653349028689|123459988|  8|    7|             3|         Grocery|             56.7|2018|20180708|\n",
      "|        114|4210653349028689|123459988| 19|    4|             4|   Entertainment|            59.73|2018|20180419|\n",
      "|         93|4210653349028689|123459988| 10|   10|             5|             Gas|             3.59|2018|20181010|\n",
      "+-----------+----------------+---------+---+-----+--------------+----------------+-----------------+----+--------+\n",
      "only showing top 5 rows\n",
      "\n",
      "+----------------+--------+---------+-----------+----------------+-----------------+--------------+----------------+\n",
      "|  CREDIT_CARD_NO|  TIMEID| CUST_SSN|BRANCH_CODE|TRANSACTION_TYPE|TRANSACTION_VALUE|TRANSACTION_ID|      CUST_CC_NO|\n",
      "+----------------+--------+---------+-----------+----------------+-----------------+--------------+----------------+\n",
      "|4210653349028689|20180214|123459988|        114|       Education|             78.9|             1|4210653349028689|\n",
      "|4210653349028689|20180320|123459988|         35|   Entertainment|            14.24|             2|4210653349028689|\n",
      "|4210653349028689|20180708|123459988|        160|         Grocery|             56.7|             3|4210653349028689|\n",
      "|4210653349028689|20180419|123459988|        114|   Entertainment|            59.73|             4|4210653349028689|\n",
      "|4210653349028689|20181010|123459988|         93|             Gas|             3.59|             5|4210653349028689|\n",
      "|4210653349028689|20180528|123459988|        164|       Education|             6.89|             6|4210653349028689|\n",
      "|4210653349028689|20180519|123459988|        119|   Entertainment|            43.39|             7|4210653349028689|\n",
      "|4210653349028689|20180808|123459988|         23|             Gas|            95.39|             8|4210653349028689|\n",
      "+----------------+--------+---------+-----------+----------------+-----------------+--------------+----------------+\n",
      "only showing top 8 rows\n",
      "\n"
     ]
    }
   ],
   "source": [
    "\"\"\"Transform cdw_sapp_credit data\"\"\"\n",
    "\n",
    "#use lpad function for  month and day because some of them put as one degit\n",
    "# concat Year, Month and Day into a TIMEID (YYYYMMDD)\n",
    "cdw_sapp_credit = df_cdw_sapp_credit.withColumn(\"TIMEID\",concat(col(\"YEAR\"),lpad(col(\"MONTH\"),2,\"0\"),lpad(col(\"DAY\"),2,\"0\")))\n",
    "cdw_sapp_credit.show(5)\n",
    "\n",
    "cdw_sapp_credit= cdw_sapp_credit.select(\"CREDIT_CARD_NO\", \"TIMEID\",\"CUST_SSN\",\"BRANCH_CODE\",\"TRANSACTION_TYPE\",\n",
    "                                          \"TRANSACTION_VALUE\",\"TRANSACTION_ID\")\n",
    "\n",
    "  #Change CREDIT_CARD_NO column name to CUST_CC_NO and cast it VARCHAr\n",
    "cdw_sapp_credit = cdw_sapp_credit.withColumn(\"CUST_CC_NO\", col(\"CREDIT_CARD_NO\").cast(StringType())\n",
    "                            ).withColumn(\"TIMEID\", col(\"TIMEID\").cast(StringType())\n",
    "                            ).withColumn(\"CUST_SSN\", col(\"CUST_SSN\").cast(IntegerType())\n",
    "                            ).withColumn(\"BRANCH_CODE\", col(\"BRANCH_CODE\").cast(IntegerType())\n",
    "                            ).withColumn(\"TRANSACTION_TYPE\", col(\"TRANSACTION_TYPE\").cast(StringType())\n",
    "                            ).withColumn(\"TRANSACTION_VALUE\", col(\"TRANSACTION_VALUE\").cast(DoubleType())\n",
    "                            ).withColumn(\"TRANSACTION_ID\", col(\"TRANSACTION_ID\").cast(IntegerType()))\n",
    "cdw_sapp_credit.show(8)\n",
    "  "
   ]
  },
  {
   "cell_type": "markdown",
   "metadata": {},
   "source": [
    "Data loading into Database"
   ]
  },
  {
   "cell_type": "code",
   "execution_count": 9,
   "metadata": {},
   "outputs": [
    {
     "name": "stdout",
     "output_type": "stream",
     "text": [
      "Connected to MySQL database\n"
     ]
    }
   ],
   "source": [
    "\"\"\"Req-1.2 Data loading into Database\n",
    "Function Requirement 1.2 Once PySpark reads data from JSON files, and then utilizes Python,\n",
    "PySpark, and Python modules to load data into RDBMS(SQL), perform thefollowing:\n",
    "a) Create a Database in SQL(MySQL), named “creditcard_capstone.”\n",
    "b) Create a Python and Pyspark Program to load/write the “Credit\n",
    "Card System Data” into RDBMS(creditcard_capstone).\n",
    "Tables should be created by the following names in RDBMS: CDW_SAPP_BRANCH,CDW_SAPP_CREDIT_CARD, CDW_SAPP_CUSTOMER\"\"\"\n",
    "\n",
    "def db_connection():\n",
    "   \n",
    "    #spark = SparkSession.builder.master(\"local[*]\").appName(\"creditcard_capstone\").getOrCreate()\n",
    "    conn = None\n",
    "   \n",
    "    try:\n",
    "        conn = mysql.connector.connect(database='creditcard_capstone',\n",
    "                                             user = secret.mysql_username,\n",
    "                                             password = secret.mysql_password)\n",
    "        #  user=secret.mysql_password,\n",
    "        #                                      password=secret.mysql_password)\n",
    "        if conn.is_connected():\n",
    "            cursor = conn.cursor()\n",
    "            cursor.execute(\"CREATE DATABASE IF NOT EXISTS creditcard_capstone\")\n",
    "             #Connect to MySQL database \n",
    "            print('Connected to MySQL database')\n",
    "\n",
    "    except Error as e:\n",
    "        print(e)\n",
    "\n",
    "    finally:\n",
    "        if conn is not None and conn.is_connected():\n",
    "            conn.close()\n",
    "db_connection()"
   ]
  },
  {
   "cell_type": "code",
   "execution_count": 10,
   "metadata": {},
   "outputs": [],
   "source": [
    "\n",
    "def load_to_mysql(dataframe,table_name):\n",
    "  #write a pyspark dataframe to MySQL table\n",
    " table = dataframe.write.format(\"jdbc\") \\\n",
    "  .mode(\"append\") \\\n",
    "  .option(\"url\", \"jdbc:mysql://localhost:3306/creditcard_capstone\") \\\n",
    "  .option(\"dbtable\", table_name) \\\n",
    "  .option(\"user\", secret.mysql_username) \\\n",
    "  .option(\"password\",secret.mysql_password) \\\n",
    "  .save()\n",
    " return table \n",
    "\n",
    "cdw_sapp_custmer = load_to_mysql(cdw_sapp_custmer,\"cdw_sapp_custmer\")\n",
    "cdw_sapp_branch = load_to_mysql(cdw_sapp_branch,\"cdw_sapp_branch\")\n",
    "cdw_sapp_credit = load_to_mysql(cdw_sapp_credit, \"cdw_sapp_credit\")\n"
   ]
  },
  {
   "cell_type": "code",
   "execution_count": 11,
   "metadata": {},
   "outputs": [
    {
     "name": "stdout",
     "output_type": "stream",
     "text": [
      "+---------+----------+-----------+---------+----------------+--------------------+------------+----------+-------------+--------+------------+-------------------+-------------------+\n",
      "|      SSN|FIRST_NAME|MIDDLE_NAME|LAST_NAME|  Credit_card_no| FULL_STREET_ADDRESS|   CUST_CITY|CUST_STATE| CUST_COUNTRY|CUST_ZIP|  CUST_PHONE|         CUST_EMAIL|       LAST_UPDATED|\n",
      "+---------+----------+-----------+---------+----------------+--------------------+------------+----------+-------------+--------+------------+-------------------+-------------------+\n",
      "|123456100|      Alec|         wm|   Hooper|4210653310061055|Main Street North...|     Natchez|        MS|United States|   39120|(760)123)781|AHooper@example.com|2018-04-21 09:49:02|\n",
      "|123453023|      Etta|    brendan|   Holman|4210653310102868|   Redwood Drive,829|Wethersfield|        CT|United States|    6109|(760)123)893|EHolman@example.com|2018-04-21 09:49:02|\n",
      "|123454487|    Wilber|   ezequiel|   Dunham|4210653310116272|12th Street East,683|     Huntley|        IL|United States|   60142|(760)124)301|WDunham@example.com|2018-04-21 09:49:02|\n",
      "+---------+----------+-----------+---------+----------------+--------------------+------------+----------+-------------+--------+------------+-------------------+-------------------+\n",
      "only showing top 3 rows\n",
      "\n",
      "+-----------+------------+-----------------+-----------------+------------+----------+------------+-------------------+\n",
      "|BRANCH_CODE| BRANCH_NAME|    BRANCH_STREET|      BRANCH_CITY|BRANCH_STATE|BRANCH_ZIP|BRANCH_PHONE|       LAST_UPDATED|\n",
      "+-----------+------------+-----------------+-----------------+------------+----------+------------+-------------------+\n",
      "|          1|Example Bank|     Bridle Court|        Lakeville|          MN|     55044|  1234565276|2018-04-18 13:51:47|\n",
      "|          2|Example Bank|Washington Street|          Huntley|          IL|     60142|  1234618993|2018-04-18 13:51:47|\n",
      "|          3|Example Bank|    Warren Street|SouthRichmondHill|          NY|     11419|  1234985926|2018-04-18 13:51:47|\n",
      "+-----------+------------+-----------------+-----------------+------------+----------+------------+-------------------+\n",
      "only showing top 3 rows\n",
      "\n",
      "+----------------+--------+---------+-----------+----------------+-----------------+--------------+----------------+\n",
      "|  CREDIT_CARD_NO|  TIMEID| CUST_SSN|BRANCH_CODE|TRANSACTION_TYPE|TRANSACTION_VALUE|TRANSACTION_ID|      CUST_CC_NO|\n",
      "+----------------+--------+---------+-----------+----------------+-----------------+--------------+----------------+\n",
      "|4210653342242023|20180315|123451310|        180|           Bills|            77.79|         45069|4210653342242023|\n",
      "|4210653342242023|20180419|123451310|        107|      Healthcare|            20.47|         45070|4210653342242023|\n",
      "|4210653312478046|20180813|123455692|        156|         Grocery|            91.08|         22562|4210653312478046|\n",
      "+----------------+--------+---------+-----------+----------------+-----------------+--------------+----------------+\n",
      "only showing top 3 rows\n",
      "\n"
     ]
    }
   ],
   "source": [
    "def read_to_my_sql(table_name,spark):\n",
    "  # spark = SparkSession.builder.appName(\"CreditCardSystem\").getOrCreate()\n",
    "  \n",
    "    # Conncatnate the table name with the database name\n",
    "    full_table_name = \"creditcard_capstone.\" + table_name\n",
    "\n",
    "    table = spark.read.format(\"jdbc\").options(driver = \"com.mysql.cj.jdbc.Driver\",\n",
    "            user =  secret.mysql_username,\\\n",
    "            password = secret.mysql_password,\\\n",
    "            url = \"jdbc:mysql://localhost:3306/creditcard_capstone\",\\\n",
    "            dbtable = full_table_name).load() #Ex:creditcard_capstone.cdw_sapp_custmer\n",
    "    table.show(3)\n",
    "    return table\n",
    "cdw_sapp_custmer = read_to_my_sql(\"cdw_sapp_custmer\", spark)\n",
    "cdw_sapp_branch = read_to_my_sql(\"cdw_sapp_branch\",spark )\n",
    "cdw_sapp_credit = read_to_my_sql( \"cdw_sapp_credit\",spark)\n",
    "\n"
   ]
  },
  {
   "cell_type": "code",
   "execution_count": 12,
   "metadata": {},
   "outputs": [],
   "source": [
    "cdw_sapp_custmer.createOrReplaceTempView(\"cdw_sapp_custmer\")\n",
    "cdw_sapp_branch .createOrReplaceTempView(\"cdw_sapp_branch\")\n",
    "cdw_sapp_credit.createOrReplaceTempView(\"cdw_sapp_credit\")\n"
   ]
  },
  {
   "cell_type": "markdown",
   "metadata": {},
   "source": [
    " Application Front-End"
   ]
  },
  {
   "cell_type": "markdown",
   "metadata": {},
   "source": [
    "Transaction Details "
   ]
  },
  {
   "cell_type": "code",
   "execution_count": 13,
   "metadata": {},
   "outputs": [
    {
     "name": "stdout",
     "output_type": "stream",
     "text": [
      "+----------+---------+----------------+-------------------+--------+----------------+----------------+-----------------+\n",
      "|FIRST_NAME|LAST_NAME|  CREDIT_CARD_NO|FULL_STREET_ADDRESS|CUST_ZIP|      CUST_CC_NO|TRANSACTION_TYPE|TRANSACTION_VALUE|\n",
      "+----------+---------+----------------+-------------------+--------+----------------+----------------+-----------------+\n",
      "|     Jonah|  Andrade|4210653384836500|     Fawn Court,633|   23112|4210653384836500|         Grocery|            82.95|\n",
      "|     Jonah|  Andrade|4210653384836500|     Fawn Court,633|   23112|4210653384836500|         Grocery|            82.95|\n",
      "|     Jonah|  Andrade|4210653384836500|     Fawn Court,633|   23112|4210653384836500|         Grocery|            82.95|\n",
      "|     Jonah|  Andrade|4210653384836500|     Fawn Court,633|   23112|4210653384836500|         Grocery|            82.95|\n",
      "|     Jonah|  Andrade|4210653384836500|     Fawn Court,633|   23112|4210653384836500|         Grocery|            82.95|\n",
      "+----------+---------+----------------+-------------------+--------+----------------+----------------+-----------------+\n",
      "only showing top 5 rows\n",
      "\n"
     ]
    }
   ],
   "source": [
    "\"\"\"2. Functional Requirements - Application Front-End\n",
    "# # Once data is loaded into the database, we need a front-end (console) to see/display data. For\n",
    "# # that, create a console-based Python program to satisfy System Requirements 2 (2.1 and 2.2)\"\"\"\n",
    "\n",
    "# Get zip_code, Month, year from the user\n",
    "#Example Zip_code:23112  Month:03  year:2018  Z: 52804 M: 08 y 2018\n",
    "\n",
    " #Create a Spark session\n",
    "spark = SparkSession.builder.appName(\"Credit Card System\").getOrCreate()\n",
    "\n",
    "zip_code = input(\"Please enter the Zip code (ex:23112): \")\n",
    "Month = input(\"Please enter the month (ex:03): \")\n",
    "Year = input(\"Please enter the year (ex:2018): \")\n",
    "                             \n",
    "#Conver TIMEID to Month and Year by split or using substring slicing \n",
    "credit_Tempview = cdw_sapp_credit.withColumn(\"YEAR\", substring(col(\"TIMEID\"), 1,4).cast(\"INT\")\n",
    "                                              ).withColumn(\"MONTH\", (substring(col(\"TIMEID\"), 5,2).cast(\"INT\"))\n",
    "                                              ).withColumn(\"DAY\", (substring(col(\"TIMEID\"), 7,2).cast(\"INT\")))\n",
    "\n",
    "credit_Tempview.createOrReplaceTempView(\"credit_Tempview\")\n",
    "# Used to display the transactions made by customers living in agiven zip code for a given month and year.\n",
    "#  Order by day in descending order.\n",
    "\n",
    "customer_transaction = f\"\"\" SELECT c.FIRST_NAME,c.LAST_NAME,c.CREDIT_CARD_NO,c.FULL_STREET_ADDRESS,c.CUST_ZIP, cc.CUST_CC_NO,\n",
    "       cc.TRANSACTION_TYPE, cc.TRANSACTION_VALUE FROM cdw_sapp_custmer c  INNER JOIN credit_Tempview  cc  ON c.CREDIT_CARD_NO = cc.CUST_CC_NO\n",
    "      wHERE c.CUST_ZIP = '{zip_code}' AND cc.MONTH = '{Month}' AND cc.YEAR = '{Year}'ORDER BY cc.DAY DESC\"\"\"\n",
    " \n",
    "result = spark.sql(customer_transaction)\n",
    "result.show(5)"
   ]
  },
  {
   "cell_type": "code",
   "execution_count": 14,
   "metadata": {},
   "outputs": [
    {
     "name": "stdout",
     "output_type": "stream",
     "text": [
      "+---------------+---+\n",
      "|TRANSATION_TYPE|Gas|\n",
      "+---------------+---+\n",
      "|         561425|Gas|\n",
      "+---------------+---+\n",
      "\n"
     ]
    }
   ],
   "source": [
    "#2) Used to display the number and total values of transactions for a given type.\n",
    "type = input(\"Please enter a transactions type: \")\n",
    "\n",
    "#use count to get total number of transaction\n",
    "\n",
    "spark_sql= f\"\"\" SELECT COUNT(*) AS TRANSATION_TYPE, '{type}' FROM cdw_sapp_credit WHERE cdw_sapp_credit.TRANSACTION_TYPE = '{type}'\"\"\"\n",
    "\n",
    "result = spark.sql(spark_sql)    \n",
    "result.show() "
   ]
  },
  {
   "cell_type": "code",
   "execution_count": 15,
   "metadata": {},
   "outputs": [
    {
     "name": "stdout",
     "output_type": "stream",
     "text": [
      "+-----+-----------------+-----------------------+\n",
      "|STATE|TOTAL_TRANSACTION|TOTAL_TRANSACTION_VALUE|\n",
      "+-----+-----------------+-----------------------+\n",
      "|   WA|         14373415|    7.495444312978263E8|\n",
      "+-----+-----------------+-----------------------+\n",
      "\n"
     ]
    }
   ],
   "source": [
    "#3) Used to display the total number and total values of transactions for branches in a given state.\n",
    "\n",
    "State = input(\"Please enter the state(ex:WA): \")\n",
    "\n",
    "spark_sql =f\"\"\" SELECT '{State}' AS STATE, COUNT(c.TRANSACTION_ID) AS TOTAL_TRANSACTION, \n",
    "SUM(c.TRANSACTION_VALUE) AS TOTAL_TRANSACTION_VALUE \n",
    "FROM cdw_sapp_branch b JOIN cdw_sapp_credit c  ON b.BRANCH_CODE = c.BRANCH_CODE \n",
    "WHERE b.BRANCH_STATE = '{State}' \"\"\"\n",
    "\n",
    "\n",
    "result = spark.sql(spark_sql)    \n",
    "result.show() "
   ]
  },
  {
   "cell_type": "markdown",
   "metadata": {},
   "source": [
    "Customer Details"
   ]
  },
  {
   "cell_type": "code",
   "execution_count": 16,
   "metadata": {},
   "outputs": [
    {
     "name": "stdout",
     "output_type": "stream",
     "text": [
      "+---------+----------+-----------+---------+----------------+--------------------+---------+----------+-------------+--------+------------+-------------------+-------------------+\n",
      "|      SSN|FIRST_NAME|MIDDLE_NAME|LAST_NAME|  Credit_card_no| FULL_STREET_ADDRESS|CUST_CITY|CUST_STATE| CUST_COUNTRY|CUST_ZIP|  CUST_PHONE|         CUST_EMAIL|       LAST_UPDATED|\n",
      "+---------+----------+-----------+---------+----------------+--------------------+---------+----------+-------------+--------+------------+-------------------+-------------------+\n",
      "|123456100|      Alec|         wm|   Hooper|4210653310061055|Main Street North...|  Natchez|        MS|United States|   39120|(760)123)781|AHooper@example.com|2018-04-21 09:49:02|\n",
      "|123456100|      Alec|         wm|   Hooper|4210653310061055|Main Street North...|  Natchez|        MS|United States|   39120|(471)123)781|AHooper@example.com|2018-04-21 09:49:02|\n",
      "|123456100|      Alec|         wm|   Hooper|4210653310061055|Main Street North...|  Natchez|        MS|United States|   39120|(750)123)781|AHooper@example.com|2018-04-21 09:49:02|\n",
      "|123456100|      Alec|         wm|   Hooper|4210653310061055|Main Street North...|  Natchez|        MS|United States|   39120|(225)123)781|AHooper@example.com|2018-04-21 09:49:02|\n",
      "|123456100|      Alec|         wm|   Hooper|4210653310061055|Main Street North...|  Natchez|        MS|United States|   39120|(297)123)781|AHooper@example.com|2018-04-21 09:49:02|\n",
      "|123456100|      Alec|         wm|   Hooper|4210653310061055|Main Street North...|  Natchez|        MS|United States|   39120|(505)123)781|AHooper@example.com|2018-04-21 09:49:02|\n",
      "|123456100|      Alec|         wm|   Hooper|4210653310061055|Main Street North...|  Natchez|        MS|United States|   39120|(775)123)781|AHooper@example.com|2018-04-21 09:49:02|\n",
      "|123456100|      Alec|         wm|   Hooper|4210653310061055|Main Street North...|  Natchez|        MS|United States|   39120|(482)123)781|AHooper@example.com|2018-04-21 09:49:02|\n",
      "|123456100|      Alec|         wm|   Hooper|4210653310061055|Main Street North...|  Natchez|        MS|United States|   39120|(335)123)781|AHooper@example.com|2018-04-21 09:49:02|\n",
      "|123456100|      Alec|         wm|   Hooper|4210653310061055|Main Street North...|  Natchez|        MS|United States|   39120|(402)123)781|AHooper@example.com|2018-04-21 09:49:02|\n",
      "|123456100|      Alec|         wm|   Hooper|4210653310061055|Main Street North...|  Natchez|        MS|United States|   39120|(558)123)781|AHooper@example.com|2018-04-21 09:49:02|\n",
      "|123456100|      Alec|         wm|   Hooper|4210653310061055|Main Street North...|  Natchez|        MS|United States|   39120|(518)123)781|AHooper@example.com|2018-04-21 09:49:02|\n",
      "|123456100|      Alec|         wm|   Hooper|4210653310061055|Main Street North...|  Natchez|        MS|United States|   39120|(348)123)781|AHooper@example.com|2018-04-21 09:49:02|\n",
      "|123456100|      Alec|         wm|   Hooper|4210653310061055|Main Street North...|  Natchez|        MS|United States|   39120|(286)123)781|AHooper@example.com|2018-04-21 09:49:02|\n",
      "|123456100|      Alec|         wm|   Hooper|4210653310061055|Main Street North...|  Natchez|        MS|United States|   39120|(334)123)781|AHooper@example.com|2018-04-21 09:49:02|\n",
      "|123456100|      Alec|         wm|   Hooper|4210653310061055|Main Street North...|  Natchez|        MS|United States|   39120|(600)123)781|AHooper@example.com|2018-04-21 09:49:02|\n",
      "|123456100|      Alec|         wm|   Hooper|4210653310061055|Main Street North...|  Natchez|        MS|United States|   39120|(701)123)781|AHooper@example.com|2018-04-21 09:49:02|\n",
      "|123456100|      Alec|         wm|   Hooper|4210653310061055|Main Street North...|  Natchez|        MS|United States|   39120|(511)123)781|AHooper@example.com|2018-04-21 09:49:02|\n",
      "|123456100|      Alec|         wm|   Hooper|4210653310061055|Main Street North...|  Natchez|        MS|United States|   39120|(760)123)781|AHooper@example.com|2018-04-21 09:49:02|\n",
      "|123456100|      Alec|         wm|   Hooper|4210653310061055|Main Street North...|  Natchez|        MS|United States|   39120|(553)123)781|AHooper@example.com|2018-04-21 09:49:02|\n",
      "+---------+----------+-----------+---------+----------------+--------------------+---------+----------+-------------+--------+------------+-------------------+-------------------+\n",
      "only showing top 20 rows\n",
      "\n"
     ]
    }
   ],
   "source": [
    "# 2.2 Customer Details Module\n",
    "# Functional Requirements 2.2\n",
    "# 1) Used to check the existing account details of a customer.\n",
    "# 2) Used to modify the existing account details of a customer.\n",
    "# 3) Used to generate a monthly bill for a credit card number for a given month and year.\n",
    "# 4) Used to display the transactions made by a customer between\n",
    "# two dates. Order by year, month, and day in descending order\n",
    "\n",
    "#1) Used to check the existing account details of a customer.\n",
    "\n",
    "SSN = input(\"Please enter the 9 digit of customer SSN(123456100): \")\n",
    "\n",
    "#Check customer existing account\n",
    "spark_Sql = f\"\"\" SELECT * FROM cdw_sapp_custmer WHERE '{SSN}' = SSN \"\"\"\n",
    "result = spark.sql(spark_Sql)\n",
    "result.show()"
   ]
  },
  {
   "cell_type": "markdown",
   "metadata": {},
   "source": [
    "#2) Used to modify the existing account details of a customer.\n",
    "\n",
    "SSN = input(\"Please enter the 9 digit SSN(e.g 123455692): \")\n",
    "\n",
    "#Ask user to input they would like to make\n",
    "Custumer_Info = int(input(\"\"\"Please enter the number you wish to\n",
    "                           change:\\n1,FIRST_NAME \\n2,MIDDLE_NAME \\n3,LAST_NAME \\n4,CREDIT_CARD_NO \n",
    "                           \\n5,FULL_STREET_ADDRESS \\n6,CUST_CITY \\n7,CUST_STATE \\n8,CUST_COUNTRY \n",
    "                           \\n9,CUST_ZIP \\n10, CUST_PHONE: \"\"\")) \n",
    "   \n",
    "update = f\"UPDATE cdw_sapp_custmer SET\"\n",
    "if Custumer_Info == '1':\n",
    "  FIRST_NAME = input(\"Please enter the new First Name: \")\n",
    "  spark_sql += f\", FIRST_NAME = '{FIRST_NAME}'\"\n",
    "elif Custumer_Info ==2:\n",
    "  MIDDLE_NAME = input(\"Please enetr the Middle Name: \")\n",
    "  spark_sql += f\",MIDDLE_NAME = '{MIDDLE_NAME}'\"\n",
    "elif Custumer_Info ==3:\n",
    "   LAST_NAME = input(\"Please enter the new Last Name: \") \n",
    "   spark_sql += f\",LAST_NAME= '{LAST_NAME}'\"\n",
    "elif Custumer_Info ==4:\n",
    "   CREDIT_CARD_NO = input(\"Please enter new CREDIT_CARD_NO:  \")\n",
    "   spark_sql += f\",CREDIT_CARD_NO= '{CREDIT_CARD_NO}'\"\n",
    "\n",
    "update += f\" WHERE SSN = '{SSN}'\"\n",
    "spark.sql(update)\n",
    "#Excute the update\n",
    "print(\"update successful\")\n",
    "\n",
    "\n",
    "\n"
   ]
  },
  {
   "cell_type": "code",
   "execution_count": 20,
   "metadata": {},
   "outputs": [
    {
     "name": "stdout",
     "output_type": "stream",
     "text": [
      "+----------------+--------+---------+-----------+----------------+-----------------+--------------+----------------+\n",
      "|  CREDIT_CARD_NO|  TIMEID| CUST_SSN|BRANCH_CODE|TRANSACTION_TYPE|TRANSACTION_VALUE|TRANSACTION_ID|      CUST_CC_NO|\n",
      "+----------------+--------+---------+-----------+----------------+-----------------+--------------+----------------+\n",
      "|4210653349028689|20180214|123459988|        114|       Education|             78.9|             1|4210653349028689|\n",
      "|4210653349028689|20180320|123459988|         35|   Entertainment|            14.24|             2|4210653349028689|\n",
      "|4210653349028689|20180708|123459988|        160|         Grocery|             56.7|             3|4210653349028689|\n",
      "|4210653349028689|20180419|123459988|        114|   Entertainment|            59.73|             4|4210653349028689|\n",
      "|4210653349028689|20181010|123459988|         93|             Gas|             3.59|             5|4210653349028689|\n",
      "|4210653349028689|20180528|123459988|        164|       Education|             6.89|             6|4210653349028689|\n",
      "|4210653349028689|20180519|123459988|        119|   Entertainment|            43.39|             7|4210653349028689|\n",
      "|4210653349028689|20180808|123459988|         23|             Gas|            95.39|             8|4210653349028689|\n",
      "|4210653349028689|20180318|123459988|        166|   Entertainment|            93.26|             9|4210653349028689|\n",
      "|4210653349028689|20180903|123459988|         83|           Bills|           100.38|            10|4210653349028689|\n",
      "|4210653349028689|20180821|123459988|         52|             Gas|            98.75|            11|4210653349028689|\n",
      "|4210653349028689|20181224|123459988|         17|             Gas|            42.71|            12|4210653349028689|\n",
      "|4210653349028689|20180403|123459988|         80|         Grocery|            40.24|            13|4210653349028689|\n",
      "|4210653349028689|20180415|123459988|         50|           Bills|            17.81|            14|4210653349028689|\n",
      "|4210653349028689|20180517|123459988|        123|           Bills|             29.0|            15|4210653349028689|\n",
      "|4210653349028689|20180706|123459988|          9|            Test|            70.63|            16|4210653349028689|\n",
      "|4210653349028689|20180928|123459988|          3|            Test|            27.04|            17|4210653349028689|\n",
      "|4210653349028689|20180704|123459988|        135|   Entertainment|            88.75|            18|4210653349028689|\n",
      "|4210653349028689|20180424|123459988|        103|            Test|            77.02|            19|4210653349028689|\n",
      "|4210653349028689|20181008|123459988|         78|           Bills|            34.34|            20|4210653349028689|\n",
      "+----------------+--------+---------+-----------+----------------+-----------------+--------------+----------------+\n",
      "only showing top 20 rows\n",
      "\n"
     ]
    }
   ],
   "source": [
    " #Create a Spark session\n",
    "#spark = SparkSession.builder.appName(\"Credit Card System\").getOrCreate()\n",
    "spark_sql = \"select * from cdw_sapp_credit where CREDIT_CARD_NO = '4210653349028689'\"\n",
    "result = spark.sql(spark_sql)\n",
    "result.show()"
   ]
  },
  {
   "cell_type": "code",
   "execution_count": 22,
   "metadata": {},
   "outputs": [
    {
     "name": "stdout",
     "output_type": "stream",
     "text": [
      "+----------------+--------+---------+-----------+----------------+-----------------+--------------+----------------+----+-----+---+\n",
      "|  CREDIT_CARD_NO|  TIMEID| CUST_SSN|BRANCH_CODE|TRANSACTION_TYPE|TRANSACTION_VALUE|TRANSACTION_ID|      CUST_CC_NO|YEAR|MONTH|DAY|\n",
      "+----------------+--------+---------+-----------+----------------+-----------------+--------------+----------------+----+-----+---+\n",
      "|4210653349028689|20180419|123459988|        114|   Entertainment|            59.73|             4|4210653349028689|2018|    4| 19|\n",
      "|4210653349028689|20180403|123459988|         80|         Grocery|            40.24|            13|4210653349028689|2018|    4|  3|\n",
      "|4210653349028689|20180415|123459988|         50|           Bills|            17.81|            14|4210653349028689|2018|    4| 15|\n",
      "|4210653349028689|20180424|123459988|        103|            Test|            77.02|            19|4210653349028689|2018|    4| 24|\n",
      "|4210653349028689|20180412|123459988|        104|       Education|            73.99|            37|4210653349028689|2018|    4| 12|\n",
      "|4210653349028689|20180428|123459988|         50|         Grocery|            41.62|            47|4210653349028689|2018|    4| 28|\n",
      "|4210653349028689|20180414|123459988|         43|         Grocery|            16.99|            53|4210653349028689|2018|    4| 14|\n",
      "|4210653349028689|20180427|123459988|        139|         Grocery|             61.4|            70|4210653349028689|2018|    4| 27|\n",
      "|4210653349028689|20180414|123459988|         73|       Education|            31.89|            78|4210653349028689|2018|    4| 14|\n",
      "|4210653349028689|20180419|123459988|        114|   Entertainment|            59.73|             4|4210653349028689|2018|    4| 19|\n",
      "|4210653349028689|20180403|123459988|         80|         Grocery|            40.24|            13|4210653349028689|2018|    4|  3|\n",
      "|4210653349028689|20180415|123459988|         50|           Bills|            17.81|            14|4210653349028689|2018|    4| 15|\n",
      "|4210653349028689|20180424|123459988|        103|            Test|            77.02|            19|4210653349028689|2018|    4| 24|\n",
      "|4210653349028689|20180412|123459988|        104|       Education|            73.99|            37|4210653349028689|2018|    4| 12|\n",
      "|4210653349028689|20180428|123459988|         50|         Grocery|            41.62|            47|4210653349028689|2018|    4| 28|\n",
      "|4210653349028689|20180414|123459988|         43|         Grocery|            16.99|            53|4210653349028689|2018|    4| 14|\n",
      "|4210653349028689|20180427|123459988|        139|         Grocery|             61.4|            70|4210653349028689|2018|    4| 27|\n",
      "|4210653349028689|20180414|123459988|         73|       Education|            31.89|            78|4210653349028689|2018|    4| 14|\n",
      "|4210653349028689|20180419|123459988|        114|   Entertainment|            59.73|             4|4210653349028689|2018|    4| 19|\n",
      "|4210653349028689|20180403|123459988|         80|         Grocery|            40.24|            13|4210653349028689|2018|    4|  3|\n",
      "+----------------+--------+---------+-----------+----------------+-----------------+--------------+----------------+----+-----+---+\n",
      "only showing top 20 rows\n",
      "\n"
     ]
    }
   ],
   "source": [
    "#3) Used to generate a monthly bill for a credit card number for a given month and year.\n",
    "#4210653349028689\n",
    "                 \n",
    "credits_Card_number = input(\"Please enter the credit card number(ex:4210653349028689): \")\n",
    "Month = int(input(\"Please enter the month (ex:4): \"))\n",
    "Year = int(input(\"Please enter the year (ex: 2018): \"))\n",
    "\n",
    "monthly_bill = credit_Tempview.filter((credit_Tempview['MONTH']== Month) & (credit_Tempview['YEAR'] == Year) & (credit_Tempview['CREDIT_CARD_NO'] == credits_Card_number))\n",
    "monthly_bill.show()"
   ]
  },
  {
   "cell_type": "code",
   "execution_count": 32,
   "metadata": {},
   "outputs": [
    {
     "name": "stdout",
     "output_type": "stream",
     "text": [
      "+----------------+--------+---------+-----------+----------------+-----------------+--------------+----------------+----+-----+---+\n",
      "|  CREDIT_CARD_NO|  TIMEID| CUST_SSN|BRANCH_CODE|TRANSACTION_TYPE|TRANSACTION_VALUE|TRANSACTION_ID|      CUST_CC_NO|YEAR|MONTH|DAY|\n",
      "+----------------+--------+---------+-----------+----------------+-----------------+--------------+----------------+----+-----+---+\n",
      "|4210653349028689|20181010|123459988|         93|             Gas|             3.59|             5|4210653349028689|2018|   10| 10|\n",
      "|4210653349028689|20181010|123459988|         93|             Gas|             3.59|             5|4210653349028689|2018|   10| 10|\n",
      "|4210653349028689|20181010|123459988|         93|             Gas|             3.59|             5|4210653349028689|2018|   10| 10|\n",
      "|4210653349028689|20181010|123459988|         93|             Gas|             3.59|             5|4210653349028689|2018|   10| 10|\n",
      "|4210653349028689|20181010|123459988|         93|             Gas|             3.59|             5|4210653349028689|2018|   10| 10|\n",
      "|4210653349028689|20181010|123459988|         93|             Gas|             3.59|             5|4210653349028689|2018|   10| 10|\n",
      "|4210653349028689|20181010|123459988|         93|             Gas|             3.59|             5|4210653349028689|2018|   10| 10|\n",
      "|4210653349028689|20181010|123459988|         93|             Gas|             3.59|             5|4210653349028689|2018|   10| 10|\n",
      "|4210653349028689|20181010|123459988|         93|             Gas|             3.59|             5|4210653349028689|2018|   10| 10|\n",
      "|4210653349028689|20181010|123459988|         93|             Gas|             3.59|             5|4210653349028689|2018|   10| 10|\n",
      "|4210653349028689|20181010|123459988|         93|             Gas|             3.59|             5|4210653349028689|2018|   10| 10|\n",
      "|4210653349028689|20181010|123459988|         93|             Gas|             3.59|             5|4210653349028689|2018|   10| 10|\n",
      "|4210653349028689|20181010|123459988|         93|             Gas|             3.59|             5|4210653349028689|2018|   10| 10|\n",
      "|4210653349028689|20181010|123459988|         93|             Gas|             3.59|             5|4210653349028689|2018|   10| 10|\n",
      "|4210653349028689|20181010|123459988|         93|             Gas|             3.59|             5|4210653349028689|2018|   10| 10|\n",
      "|4210653349028689|20181010|123459988|         93|             Gas|             3.59|             5|4210653349028689|2018|   10| 10|\n",
      "|4210653349028689|20181010|123459988|         93|             Gas|             3.59|             5|4210653349028689|2018|   10| 10|\n",
      "|4210653349028689|20181010|123459988|         93|             Gas|             3.59|             5|4210653349028689|2018|   10| 10|\n",
      "|4210653349028689|20181010|123459988|         93|             Gas|             3.59|             5|4210653349028689|2018|   10| 10|\n",
      "|4210653349028689|20181010|123459988|         93|             Gas|             3.59|             5|4210653349028689|2018|   10| 10|\n",
      "+----------------+--------+---------+-----------+----------------+-----------------+--------------+----------------+----+-----+---+\n",
      "only showing top 20 rows\n",
      "\n"
     ]
    }
   ],
   "source": [
    "#4) Used to display the transactions made by a customer between\n",
    "#two dates. Order by year, month, and day in descending order\n",
    "\n",
    "#4) Used to display the transactions made by a customer between\n",
    "#two dates. Order by year, month, and day in descending order\n",
    "\n",
    "spark = SparkSession.builder.appName(\"CreditCardSystem\").getOrCreate()\n",
    "customer_SSN = input(\"Please enter the SSN(ex:123459988): \")\n",
    "start_date = input(\"Please enter the start Date YYYYMMD (ex:20180412): \")\n",
    "end_date = input(\"Please enter the end Date YYYYMMD (ex:20181012): \")\n",
    "\n",
    "#query transaction for customer between two dates\n",
    "query = f\"\"\" SELECT * FROM credit_Tempview WHERE CUST_SSN = '{customer_SSN}' AND \n",
    "TIMEID BETWEEN '{start_date}' AND '{end_date}' ORDER BY YEAR DESC,MONTH DESC, DAY DESC\"\"\"\n",
    "result = spark.sql(query)\n",
    "result.show()"
   ]
  },
  {
   "cell_type": "markdown",
   "metadata": {},
   "source": [
    "Data Analysis and Visualization for Load Credit Card Database (SQL)"
   ]
  },
  {
   "cell_type": "markdown",
   "metadata": {},
   "source": [
    "Functional Requirements 3.1 Find and plot which transaction type has the highest transaction count.\n",
    "Functional Requirements 3.2Find and plot which state has a high number of customers.\n",
    "Functional Requirements 3.3 Find and plot the sum of all transactions for the top 10 customers,\n",
    "and which customer has the highest transaction amount."
   ]
  },
  {
   "cell_type": "code",
   "execution_count": 33,
   "metadata": {},
   "outputs": [
    {
     "name": "stdout",
     "output_type": "stream",
     "text": [
      "   CUST_STATE  CUSTOMER_COUNT\n",
      "0          NY           15648\n",
      "1          GA           11899\n",
      "2          PA           11736\n",
      "3          FL           10432\n",
      "4          IL            9454\n",
      "5          NJ            8639\n",
      "6          MD            8150\n",
      "7          CA            7335\n",
      "8          OH            7172\n",
      "9          MI            7172\n",
      "10         VA            6357\n",
      "11         NC            6031\n",
      "12         TX            5379\n",
      "13         MA            5379\n",
      "14         SC            4890\n",
      "15         WI            4727\n",
      "16         MN            4564\n",
      "17         MS            3912\n",
      "18         IA            3423\n",
      "19         KY            2771\n",
      "20         WA            2608\n",
      "21         CT            2282\n",
      "22         IN            2119\n",
      "23         MT            1467\n",
      "24         AR             815\n",
      "25         AL             815\n"
     ]
    },
    {
     "data": {
      "image/png": "[encoded data removed]",
      "text/plain": [
       "<Figure size 800x700 with 1 Axes>"
      ]
     },
     "metadata": {},
     "output_type": "display_data"
    }
   ],
   "source": [
    "#Functional Requirements 3.1Find and plot which transaction type has \n",
    "#the highest transaction count\n",
    "\n",
    "def highest_customers_state(): #To access it call this function\n",
    "\n",
    " \n",
    "\n",
    "    conn = mysql.connector.connect(database='creditcard_capstone',\n",
    "                                user = secret.mysql_username,\n",
    "                               password = secret.mysql_password)\n",
    "    cursor = conn.cursor() \n",
    "    try:\n",
    "     \n",
    "        # selct the highst transaction and state from cdw_sapp_custmer\n",
    "        #data\n",
    "            \n",
    "        query = \"\"\"SELECT CUST_STATE, COUNT(*) AS CUSTOMER_COUNT\n",
    "                FROM cdw_sapp_custmer GROUP BY CUST_STATE \n",
    "                ORDER BY CUSTOMER_COUNT DESC \"\"\"\n",
    "        cursor.execute(query)\n",
    "        \n",
    "        data = cursor.fetchall()  #Fectch the result into dataframe\n",
    "        df = pd.DataFrame(data, columns = ['CUST_STATE','CUSTOMER_COUNT'])\n",
    "        print(df)\n",
    "        plt.figure(figsize=(8,7))\n",
    "\n",
    "        plt.bar(df['CUST_STATE'], df['CUSTOMER_COUNT'])\n",
    "        plt.title(\"State with the Highest Number of Customers\")\n",
    "        plt.xlabel(\"State\")\n",
    "        plt.ylabel(\"Customer Count\")\n",
    "        #Add a grid lines\n",
    "        # plt.grild(True, linestyle = '--', alpha =0.7)\n",
    "        plt.show()\n",
    "        cursor.close()\n",
    "\n",
    "    except Error as e:\n",
    "        print(e)\n",
    "    finally:\n",
    "      conn.close()\n",
    "\n",
    "highest_customers_state()\n",
    "\n",
    "    \n",
    "\n"
   ]
  },
  {
   "cell_type": "code",
   "execution_count": 34,
   "metadata": {},
   "outputs": [
    {
     "name": "stdout",
     "output_type": "stream",
     "text": [
      "  TRANSACTION_TYPE  TRANSACTION_COUNT\n",
      "0            Bills             583185\n",
      "1       Healthcare             571455\n",
      "2             Test             568055\n",
      "3        Education             564230\n",
      "4    Entertainment             563975\n",
      "5              Gas             561425\n",
      "6          Grocery             556665\n"
     ]
    },
    {
     "data": {
      "image/png": "[encoded data removed]",
      "text/plain": [
       "<Figure size 1000x600 with 1 Axes>"
      ]
     },
     "metadata": {},
     "output_type": "display_data"
    }
   ],
   "source": [
    "# Find and plot which transaction type has the highest transaction count.\n",
    "\n",
    "def highest_transaction_type(): #To access it call this function\n",
    "\n",
    "    conn = mysql.connector.connect(database='creditcard_capstone',\n",
    "                               user = secret.mysql_username,\n",
    "                               password = secret.mysql_password)\n",
    "    cursor = conn.cursor() \n",
    " \n",
    "    try:\n",
    "        conn = mysql.connector.connect(database='creditcard_capstone',\n",
    "                                user = secret.mysql_username,\n",
    "                               password = secret.mysql_password)\n",
    "        cursor = conn.cursor() \n",
    "     \n",
    "        # selct the highst transaction and state from cdw_sapp_custmer\n",
    "        #data\n",
    "            \n",
    "        query = \"\"\"SELECT TRANSACTION_TYPE,COUNT(*) AS TRANSACTION_COUNT\n",
    "                FROM  cdw_sapp_credit GROUP BY TRANSACTION_TYPE \n",
    "                ORDER BY TRANSACTION_COUNT DESC \"\"\"\n",
    "        cursor.execute(query)\n",
    "        \n",
    "        data = cursor.fetchall()  #Fectch the result into dataframe\n",
    "        df = pd.DataFrame(data, columns = ['TRANSACTION_TYPE','TRANSACTION_COUNT'])\n",
    "        print(df)\n",
    "        plt.figure(figsize=(10,6))\n",
    "\n",
    "        plt.bar(df['TRANSACTION_TYPE'], df['TRANSACTION_COUNT'])\n",
    "        plt.title(\"Transaction Type with the Highest Transaction Count\")\n",
    "        plt.xlabel(\"TRANSACTION_TYPE\")\n",
    "        plt.ylabel(\"TRANSACTION_COUNT'\")\n",
    "        #Add a grid lines\n",
    "        #.grild(True, linestyle = '--')\n",
    "        plt.show()\n",
    "        cursor.close()\n",
    "\n",
    "    except Error as e:\n",
    "        print(e)\n",
    "    finally:\n",
    "      conn.close()\n",
    "\n",
    "\n",
    "\n",
    "highest_transaction_type()\n"
   ]
  },
  {
   "cell_type": "code",
   "execution_count": 37,
   "metadata": {},
   "outputs": [
    {
     "name": "stdout",
     "output_type": "stream",
     "text": [
      "    CUST_SSN      TOTAL\n",
      "0  123451125  478810.95\n",
      "1  123452783  471591.90\n",
      "2  123453486  465466.80\n",
      "3  123458668  451772.45\n",
      "4  123456678  447187.55\n",
      "5  123452026  445500.30\n",
      "6  123452518  444036.60\n",
      "7  123454933  442261.80\n",
      "8  123457547  437728.75\n",
      "9  123452085  436329.65\n"
     ]
    },
    {
     "data": {
      "image/png": "[encoded data removed]",
      "text/plain": [
       "<Figure size 640x480 with 1 Axes>"
      ]
     },
     "metadata": {},
     "output_type": "display_data"
    },
    {
     "data": {
      "text/plain": [
       "<Figure size 1000x700 with 0 Axes>"
      ]
     },
     "metadata": {},
     "output_type": "display_data"
    }
   ],
   "source": [
    "#Functional Requirements 3.3 Find and plot the sum of all transactions for the\n",
    "# top 10 customers,and which customer has the highest transaction amount.\n",
    "\n",
    "def top10_transaction():\n",
    " \n",
    " try: \n",
    "        conn = mysql.connector.connect(database='creditcard_capstone',\n",
    "                               user = secret.mysql_username,\n",
    "                               password = secret.mysql_password)\n",
    "        cursor = conn.cursor() \n",
    "\n",
    "        # selct the total transaction from cdw_sapp_credit  \n",
    "        quary = \"\"\"SELECT CUST_SSN, SUM(TRANSACTION_VALUE) AS TOTAL \n",
    "                FROM cdw_sapp_credit\n",
    "                GROUP BY CUST_SSN ORDER BY TOTAL DESC  LIMIT 10\"\"\"\n",
    "\n",
    "        cursor.execute(quary)\n",
    "\n",
    "        top_10 = cursor.fetchall()\n",
    "\n",
    "        df = pd.DataFrame(top_10, columns = ['CUST_SSN','TOTAL'])\n",
    "        print(df)\n",
    "        df.plot.barh(x = 'CUST_SSN', y = 'TOTAL')\n",
    "        plt.title(\"Top 10 Customers Transaction Amount\")\n",
    "        plt.xlabel(\"Transaction Amount\")\n",
    "        plt.ylabel(\"Customer SSN\")\n",
    "        plt.figure(figsize=(10,7))\n",
    "        plt.show()\n",
    "        \n",
    " except Exception as e:\n",
    "        print(\"error\")\n",
    "        conn.rollback()\n",
    " finally:\n",
    "        cursor.close()\n",
    "        conn.close()\n",
    "\n",
    "top10_transaction()\n",
    "\n",
    "#plot \n",
    "\n",
    " "
   ]
  },
  {
   "cell_type": "markdown",
   "metadata": {},
   "source": [
    " LOAN Application Dataset\n"
   ]
  },
  {
   "cell_type": "markdown",
   "metadata": {},
   "source": [
    "Req-4 Access to Loan API Endpoint\n",
    "Functional Requirements 4.1\n",
    "Create a Python program to GET (consume) data from the above API endpoint for the loan application dataset.\n",
    "Functional Requirements 4.2 Find the status code of the above API endpoint. Hint: status code could be 200, 400, 404, 401.\n",
    "Functional Requirements 4.3 Once Python reads data from the API, utilize PySpark to load data into\n",
    "RDBMS (SQL). The table name should be CDW-SAPP_loan_application in the database. Note: Use the “creditcard_capstone” database."
   ]
  },
  {
   "cell_type": "code",
   "execution_count": 38,
   "metadata": {},
   "outputs": [
    {
     "name": "stdout",
     "output_type": "stream",
     "text": [
      "The request status code is: 200\n",
      "+--------------+------------------+--------------+----------+------------+------+------+-------+-------------+-------------+\n",
      "|Application_ID|Application_Status|Credit_History|Dependents|   Education|Gender|Income|Married|Property_Area|Self_Employed|\n",
      "+--------------+------------------+--------------+----------+------------+------+------+-------+-------------+-------------+\n",
      "|      LP001002|                 Y|             1|         0|    Graduate|  Male|medium|     No|        Urban|           No|\n",
      "|      LP001003|                 N|             1|         1|    Graduate|  Male|medium|    Yes|        Rural|           No|\n",
      "|      LP001005|                 Y|             1|         0|    Graduate|  Male|   low|    Yes|        Urban|          Yes|\n",
      "|      LP001006|                 Y|             1|         0|Not Graduate|  Male|   low|    Yes|        Urban|           No|\n",
      "|      LP001008|                 Y|             1|         0|    Graduate|  Male|medium|     No|        Urban|           No|\n",
      "|      LP001011|                 Y|             1|         2|    Graduate|  Male|medium|    Yes|        Urban|          Yes|\n",
      "|      LP001013|                 Y|             1|         0|Not Graduate|  Male|   low|    Yes|        Urban|           No|\n",
      "|      LP001014|                 N|             0|        3+|    Graduate|  Male|   low|    Yes|    Semiurban|           No|\n",
      "|      LP001018|                 Y|             1|         2|    Graduate|  Male|medium|    Yes|        Urban|           No|\n",
      "|      LP001020|                 N|             1|         1|    Graduate|  Male|  high|    Yes|    Semiurban|           No|\n",
      "|      LP001024|                 Y|             1|         2|    Graduate|  Male|   low|    Yes|        Urban|           No|\n",
      "|      LP001028|                 Y|             1|         2|    Graduate|  Male|   low|    Yes|        Urban|           No|\n",
      "|      LP001029|                 N|             1|         0|    Graduate|  Male|   low|     No|        Rural|           No|\n",
      "|      LP001030|                 Y|             1|         2|    Graduate|  Male|   low|    Yes|        Urban|           No|\n",
      "|      LP001032|                 Y|             1|         0|    Graduate|  Male|medium|     No|        Urban|           No|\n",
      "|      LP001036|                 N|             0|         0|    Graduate|Female|   low|     No|        Urban|           No|\n",
      "|      LP001038|                 N|             1|         0|Not Graduate|  Male|medium|    Yes|        Rural|           No|\n",
      "|      LP001043|                 N|             0|         0|Not Graduate|  Male|medium|    Yes|        Urban|           No|\n",
      "|      LP001046|                 Y|             1|         1|    Graduate|  Male|medium|    Yes|        Urban|           No|\n",
      "|      LP001047|                 N|             0|         0|Not Graduate|  Male|   low|    Yes|    Semiurban|           No|\n",
      "+--------------+------------------+--------------+----------+------------+------+------+-------+-------------+-------------+\n",
      "only showing top 20 rows\n",
      "\n"
     ]
    }
   ],
   "source": [
    "\"\"\" 4. Functional Requirements - LOAN Application Dataset  \n",
    " On this part of project I used  LOAN Application dataset. First https://raw.githubusercontent.com/platformps/LoanDataset/main/loan_data.json \n",
    " request acces from a REST API by sending an HTTP request and processing the response. After got the respond load it to pyspark and load it on database. \n",
    " Finally create o analyze and visualize the data.\n",
    "\"\"\"\n",
    "\n",
    "def Loan_Application_dataset():\n",
    "    spark = SparkSession.builder.appName('Loan Application dataset').getOrCreate()\n",
    "\n",
    "    # Create a Python program to GET (consume) data from the above API\n",
    "    # endpoint for the loan application dataset.\n",
    "\n",
    "    url = \"https://raw.githubusercontent.com/platformps/LoanDataset/main/loan_data.json\"\n",
    "\n",
    "    #Request the API endpoint\n",
    "    response = requests.get(url)\n",
    "    data_loan = response.json()  #get Json data from the response\n",
    "\n",
    "    \"\"\"Find the status code of the above API endpoint.\n",
    "    Hint: status code could be 200, 400, 404, 401\"\"\"\n",
    "\n",
    "    print(f\"The request status code is: {response.status_code}\" )  # print response.status_code\n",
    "\n",
    "    \"\"\"Once Python reads data from the API, utilize PySpark to load data into\n",
    "    RDBMS (SQL). The table name should be CDW-SAPP_loan_application\n",
    "    in the database.Note: Use the “creditcard_capstone” database.\"\"\"\n",
    "\n",
    "    #Load in to spark dataframe\n",
    "    data_loan_df = spark.createDataFrame(data_loan)\n",
    "\n",
    "    # #Define  properties to connect to database\n",
    "    mysql_properties = {\n",
    "        \"user\":  secret.mysql_username,\n",
    "    \"password\" :  secret.mysql_password,\n",
    "    \"drive\": \"com.msql.cj.jdbc.Driver\",\n",
    "    }\n",
    "\n",
    "\n",
    "    table_name = \"`CDW_SAPP_loan_application`\"\n",
    "\n",
    "    data_loan_df.write.format(\"jdbc\") \\\n",
    "        .mode(\"overwrite\") \\\n",
    "        .option(\"url\", \"jdbc:mysql://localhost:3306/creditcard_capstone\") \\\n",
    "        .option(\"dbtable\", table_name) \\\n",
    "        .option(\"user\", secret.mysql_username) \\\n",
    "        .option(\"password\",secret.mysql_password) \\\n",
    "        .save()\n",
    "\n",
    "    data_loan_df.show()\n",
    "    spark.stop()\n",
    "\n",
    "Loan_Application_dataset()"
   ]
  },
  {
   "cell_type": "markdown",
   "metadata": {},
   "source": [
    "Data Analysis and Visualization for LOAN\n",
    "Application"
   ]
  },
  {
   "cell_type": "markdown",
   "metadata": {},
   "source": [
    "Req-5 Data Analysis and Visualization\n",
    "Functional Requirements 5.1 :Find and plot the percentage of applications approved for self-employed applicants.\n",
    "Functional Requirements 5.2 Find the percentage of rejection for married male applicants.\n",
    "Functional Requirements 5.3 Find and plot the top three months with the largest volume of transaction data.\n",
    "Functional Requirements 5.4 Find and plot which branch processed the highest total dollar value of healthcare transactions."
   ]
  },
  {
   "cell_type": "code",
   "execution_count": 67,
   "metadata": {},
   "outputs": [
    {
     "name": "stdout",
     "output_type": "stream",
     "text": [
      "  Self_Employed Application_Status  total_Approved_applicant\n",
      "0           Yes                  Y                        46\n",
      "error\n"
     ]
    },
    {
     "ename": "MySQLInterfaceError",
     "evalue": "Commands out of sync; you can't run this command now",
     "output_type": "error",
     "traceback": [
      "\u001b[1;31m---------------------------------------------------------------------------\u001b[0m",
      "\u001b[1;31mKeyError\u001b[0m                                  Traceback (most recent call last)",
      "File \u001b[1;32mc:\\Users\\ribka\\AppData\\Local\\Programs\\Python\\Python310\\lib\\site-packages\\pandas\\core\\indexes\\base.py:3653\u001b[0m, in \u001b[0;36mIndex.get_loc\u001b[1;34m(self, key)\u001b[0m\n\u001b[0;32m   3652\u001b[0m \u001b[39mtry\u001b[39;00m:\n\u001b[1;32m-> 3653\u001b[0m     \u001b[39mreturn\u001b[39;00m \u001b[39mself\u001b[39;49m\u001b[39m.\u001b[39;49m_engine\u001b[39m.\u001b[39;49mget_loc(casted_key)\n\u001b[0;32m   3654\u001b[0m \u001b[39mexcept\u001b[39;00m \u001b[39mKeyError\u001b[39;00m \u001b[39mas\u001b[39;00m err:\n",
      "File \u001b[1;32mc:\\Users\\ribka\\AppData\\Local\\Programs\\Python\\Python310\\lib\\site-packages\\pandas\\_libs\\index.pyx:147\u001b[0m, in \u001b[0;36mpandas._libs.index.IndexEngine.get_loc\u001b[1;34m()\u001b[0m\n",
      "File \u001b[1;32mc:\\Users\\ribka\\AppData\\Local\\Programs\\Python\\Python310\\lib\\site-packages\\pandas\\_libs\\index.pyx:176\u001b[0m, in \u001b[0;36mpandas._libs.index.IndexEngine.get_loc\u001b[1;34m()\u001b[0m\n",
      "File \u001b[1;32mpandas\\_libs\\hashtable_class_helper.pxi:7080\u001b[0m, in \u001b[0;36mpandas._libs.hashtable.PyObjectHashTable.get_item\u001b[1;34m()\u001b[0m\n",
      "File \u001b[1;32mpandas\\_libs\\hashtable_class_helper.pxi:7088\u001b[0m, in \u001b[0;36mpandas._libs.hashtable.PyObjectHashTable.get_item\u001b[1;34m()\u001b[0m\n",
      "\u001b[1;31mKeyError\u001b[0m: 'Application_status'",
      "\nThe above exception was the direct cause of the following exception:\n",
      "\u001b[1;31mKeyError\u001b[0m                                  Traceback (most recent call last)",
      "\u001b[1;32md:\\Git\\project.ipynb Cell 39\u001b[0m line \u001b[0;36m3\n\u001b[0;32m     <a href='vscode-notebook-cell:/d%3A/Git/project.ipynb#X55sZmlsZQ%3D%3D?line=30'>31</a>\u001b[0m total_self_employed \u001b[39m=\u001b[39m \u001b[39mlen\u001b[39m(df)\n\u001b[1;32m---> <a href='vscode-notebook-cell:/d%3A/Git/project.ipynb#X55sZmlsZQ%3D%3D?line=31'>32</a>\u001b[0m total_approved_self_employed \u001b[39m=\u001b[39m \u001b[39mlen\u001b[39m(df[df[\u001b[39m'\u001b[39;49m\u001b[39mApplication_status\u001b[39;49m\u001b[39m'\u001b[39;49m] \u001b[39m==\u001b[39m \u001b[39m'\u001b[39m\u001b[39mY\u001b[39m\u001b[39m'\u001b[39m])\n\u001b[0;32m     <a href='vscode-notebook-cell:/d%3A/Git/project.ipynb#X55sZmlsZQ%3D%3D?line=32'>33</a>\u001b[0m total_not_approved_self_employed \u001b[39m=\u001b[39m \u001b[39mlen\u001b[39m(df[df[\u001b[39m'\u001b[39m\u001b[39mApplication_status\u001b[39m\u001b[39m'\u001b[39m] \u001b[39m==\u001b[39m \u001b[39m'\u001b[39m\u001b[39mN\u001b[39m\u001b[39m'\u001b[39m])\n",
      "File \u001b[1;32mc:\\Users\\ribka\\AppData\\Local\\Programs\\Python\\Python310\\lib\\site-packages\\pandas\\core\\frame.py:3761\u001b[0m, in \u001b[0;36mDataFrame.__getitem__\u001b[1;34m(self, key)\u001b[0m\n\u001b[0;32m   3760\u001b[0m     \u001b[39mreturn\u001b[39;00m \u001b[39mself\u001b[39m\u001b[39m.\u001b[39m_getitem_multilevel(key)\n\u001b[1;32m-> 3761\u001b[0m indexer \u001b[39m=\u001b[39m \u001b[39mself\u001b[39;49m\u001b[39m.\u001b[39;49mcolumns\u001b[39m.\u001b[39;49mget_loc(key)\n\u001b[0;32m   3762\u001b[0m \u001b[39mif\u001b[39;00m is_integer(indexer):\n",
      "File \u001b[1;32mc:\\Users\\ribka\\AppData\\Local\\Programs\\Python\\Python310\\lib\\site-packages\\pandas\\core\\indexes\\base.py:3655\u001b[0m, in \u001b[0;36mIndex.get_loc\u001b[1;34m(self, key)\u001b[0m\n\u001b[0;32m   3654\u001b[0m \u001b[39mexcept\u001b[39;00m \u001b[39mKeyError\u001b[39;00m \u001b[39mas\u001b[39;00m err:\n\u001b[1;32m-> 3655\u001b[0m     \u001b[39mraise\u001b[39;00m \u001b[39mKeyError\u001b[39;00m(key) \u001b[39mfrom\u001b[39;00m \u001b[39merr\u001b[39;00m\n\u001b[0;32m   3656\u001b[0m \u001b[39mexcept\u001b[39;00m \u001b[39mTypeError\u001b[39;00m:\n\u001b[0;32m   3657\u001b[0m     \u001b[39m# If we have a listlike key, _check_indexing_error will raise\u001b[39;00m\n\u001b[0;32m   3658\u001b[0m     \u001b[39m#  InvalidIndexError. Otherwise we fall through and re-raise\u001b[39;00m\n\u001b[0;32m   3659\u001b[0m     \u001b[39m#  the TypeError.\u001b[39;00m\n",
      "\u001b[1;31mKeyError\u001b[0m: 'Application_status'",
      "\nDuring handling of the above exception, another exception occurred:\n",
      "\u001b[1;31mMySQLInterfaceError\u001b[0m                       Traceback (most recent call last)",
      "\u001b[1;32md:\\Git\\project.ipynb Cell 39\u001b[0m line \u001b[0;36m5\n\u001b[0;32m     <a href='vscode-notebook-cell:/d%3A/Git/project.ipynb#X55sZmlsZQ%3D%3D?line=51'>52</a>\u001b[0m             cursor\u001b[39m.\u001b[39mclose()\n\u001b[0;32m     <a href='vscode-notebook-cell:/d%3A/Git/project.ipynb#X55sZmlsZQ%3D%3D?line=52'>53</a>\u001b[0m             conn\u001b[39m.\u001b[39mclose()\n\u001b[1;32m---> <a href='vscode-notebook-cell:/d%3A/Git/project.ipynb#X55sZmlsZQ%3D%3D?line=53'>54</a>\u001b[0m approved_self_employed_applicants()\n",
      "\u001b[1;32md:\\Git\\project.ipynb Cell 39\u001b[0m line \u001b[0;36m5\n\u001b[0;32m     <a href='vscode-notebook-cell:/d%3A/Git/project.ipynb#X55sZmlsZQ%3D%3D?line=47'>48</a>\u001b[0m \u001b[39mexcept\u001b[39;00m \u001b[39mException\u001b[39;00m \u001b[39mas\u001b[39;00m e:\n\u001b[0;32m     <a href='vscode-notebook-cell:/d%3A/Git/project.ipynb#X55sZmlsZQ%3D%3D?line=48'>49</a>\u001b[0m         \u001b[39mprint\u001b[39m(\u001b[39m\"\u001b[39m\u001b[39merror\u001b[39m\u001b[39m\"\u001b[39m)\n\u001b[1;32m---> <a href='vscode-notebook-cell:/d%3A/Git/project.ipynb#X55sZmlsZQ%3D%3D?line=49'>50</a>\u001b[0m         conn\u001b[39m.\u001b[39;49mrollback()\n\u001b[0;32m     <a href='vscode-notebook-cell:/d%3A/Git/project.ipynb#X55sZmlsZQ%3D%3D?line=50'>51</a>\u001b[0m \u001b[39mfinally\u001b[39;00m:\n\u001b[0;32m     <a href='vscode-notebook-cell:/d%3A/Git/project.ipynb#X55sZmlsZQ%3D%3D?line=51'>52</a>\u001b[0m         cursor\u001b[39m.\u001b[39mclose()\n",
      "File \u001b[1;32mc:\\Users\\ribka\\AppData\\Local\\Programs\\Python\\Python310\\lib\\site-packages\\mysql\\connector\\connection_cext.py:517\u001b[0m, in \u001b[0;36mCMySQLConnection.rollback\u001b[1;34m(self)\u001b[0m\n\u001b[0;32m    515\u001b[0m \u001b[39mif\u001b[39;00m \u001b[39mself\u001b[39m\u001b[39m.\u001b[39m_cmysql:\n\u001b[0;32m    516\u001b[0m     \u001b[39mself\u001b[39m\u001b[39m.\u001b[39m_cmysql\u001b[39m.\u001b[39mconsume_result()\n\u001b[1;32m--> 517\u001b[0m     \u001b[39mself\u001b[39;49m\u001b[39m.\u001b[39;49m_cmysql\u001b[39m.\u001b[39;49mrollback()\n",
      "\u001b[1;31mMySQLInterfaceError\u001b[0m: Commands out of sync; you can't run this command now"
     ]
    }
   ],
   "source": [
    "#Functional Requirements 5.1 :Find and plot the percentage of applications approved for self-employed applicants.\n",
    "#for the CDW_SAPP_loan_application data table from  creditcard_capstone database\n",
    "#select approved self-employeed  (yes)and application status(Y)\n",
    "\n",
    "\n",
    "def approved_self_employed_applicants():\n",
    "\n",
    " \n",
    "    conn = mysql.connector.connect(database='creditcard_capstone',\n",
    "                                user = secret.mysql_username,\n",
    "                               password = secret.mysql_password)\n",
    "    cursor = conn.cursor() \n",
    "    try:\n",
    "     \n",
    "        # for the CDW-SAPP_loan_application data table from  creditcard_capstone database\n",
    "        #select approved self-employeed  (yes)and application status(Y) and count \"N\"\n",
    "        query = \"\"\"SELECT Self_Employed, Application_status, COUNT(*) AS total_Approved_applicant\n",
    "                 FROM CDW_SAPP_loan_application  \n",
    "                 WHERE Application_Status ='Y' and Self_Employed ='Yes'; \n",
    "                 GROUP BY Self_Employed, Application_status\n",
    "                 \"\"\"\n",
    "        \n",
    "        #data frame column\n",
    "        cursor.execute(query)\n",
    "        data = cursor.fetchall()\n",
    "\n",
    "        \n",
    "        df = pd.DataFrame(data, columns=['Self_Employed', 'Application_Status', 'total_Approved_applicant'])\n",
    "        print(df)\n",
    "\n",
    "        total_self_employed = len(df)\n",
    "        total_approved_self_employed = len(df[df['Application_status'] == 'Y'])\n",
    "        total_not_approved_self_employed = len(df[df['Application_status'] == 'N'])\n",
    "        \n",
    "\n",
    "        approval_percentage = (total_approved_self_employed/ total_self_employed)*100\n",
    "\n",
    "        # Create a bar chart to visualize the percentage\n",
    "        labels = ['Approved ','Not Approved']\n",
    "        \n",
    "        percentages = [approval_percentage, 100 - approval_percentage]\n",
    "        colors = ['purple','orange']\n",
    "        \n",
    "        plt.pie( percentages, labels = labels, colors = colors, autopct = '%1.1f%%' )\n",
    "        plt.title ('Percentage os Applications Approved for Self-Employed Applicants') \n",
    "        plt.show ()\n",
    "        \n",
    "    except Exception as e:\n",
    "            print(\"error\")\n",
    "            conn.rollback()\n",
    "            \n",
    "    finally:\n",
    "            cursor.close()\n",
    "            conn.close()\n",
    "approved_self_employed_applicants()\n",
    "\n",
    "\n",
    "\n",
    " "
   ]
  },
  {
   "cell_type": "code",
   "execution_count": 63,
   "metadata": {},
   "outputs": [
    {
     "name": "stdout",
     "output_type": "stream",
     "text": [
      "    Application_Status\n",
      "0                    Y\n",
      "1                    Y\n",
      "2                    Y\n",
      "3                    Y\n",
      "4                    N\n",
      "..                 ...\n",
      "301                  Y\n",
      "302                  Y\n",
      "303                  Y\n",
      "304                  Y\n",
      "305                  Y\n",
      "\n",
      "[306 rows x 1 columns]\n"
     ]
    },
    {
     "data": {
      "image/png": "[encoded data removed]",
      "text/plain": [
       "<Figure size 640x480 with 1 Axes>"
      ]
     },
     "metadata": {},
     "output_type": "display_data"
    }
   ],
   "source": [
    "#Find the percentage of rejection for married male applicants\n",
    "\n",
    "\n",
    "def reject_percentage_for_married_male():\n",
    "\n",
    " \n",
    "    conn = mysql.connector.connect(database='creditcard_capstone',\n",
    "                                user = secret.mysql_username,\n",
    "                               password = secret.mysql_password)\n",
    "    cursor = conn.cursor() \n",
    "    try:\n",
    "        query = \"\"\"SELECT Application_Status FROM CDW_SAPP_loan_application\n",
    "               WHERE Application_Status = 'N' AND Gender = 'Male' AND Married = 'Yes'; \"\"\"\n",
    "        \n",
    "        cursor.execute (query ) \n",
    "        data = cursor.fetchall ()\n",
    "\n",
    "        # Create a DataFrame from the query result \n",
    "        df= pd.DataFrame(data, columns = ['Application_Status']) \n",
    "      # Count the number of rejected married male applicants \n",
    "        total_rejected = len(df )  \n",
    "        \n",
    "        #SQL query to select total married male applicants\n",
    "        query = \"\"\"SELECT Application_Status \n",
    "         FROM CDW_SAPP_loan_application\n",
    "         WHERE Gender = 'Male' AND Married = 'Yes'; \"\"\"\n",
    "        \n",
    "        cursor.execute (query ) \n",
    "        data= cursor.fetchall () # Create a DataFrame from the query result \n",
    "        df = pd.DataFrame(data, columns = ['Application_Status']) # Count the total number of married male applicants \n",
    "        total_married_males = len(df) \n",
    "        print(df)\n",
    "      # Calculate the rejection percentage\n",
    "        rejection_percentage = (total_rejected / total_married_males) * 100\n",
    "        approval_percentage = 100 - rejection_percentage\n",
    "\n",
    "        labels = ['Rejection', 'Approval'] \n",
    "        percentages = [rejection_percentage, approval_percentage ] \n",
    "        colors = ['yellow', 'green']\n",
    "      \n",
    "        plt.pie( percentages, labels = labels, colors = colors, autopct = '%1.1f%%' )\n",
    "        plt.title (' Loan Application Rejection percentage for Married Males') \n",
    "        plt.show ()\n",
    "        \n",
    "    except Exception as e:\n",
    "            print(\"error\")\n",
    "            conn.rollback()\n",
    "    finally:\n",
    "            cursor.close()\n",
    "            conn.close()\n",
    "\n",
    "reject_percentage_for_married_male()\n",
    "\n",
    "\n",
    "\n",
    " "
   ]
  }
 ],
 "metadata": {
  "kernelspec": {
   "display_name": "Python 3",
   "language": "python",
   "name": "python3"
  },
  "language_info": {
   "codemirror_mode": {
    "name": "ipython",
    "version": 3
   },
   "file_extension": ".py",
   "mimetype": "text/x-python",
   "name": "python",
   "nbconvert_exporter": "python",
   "pygments_lexer": "ipython3",
   "version": "3.10.11"
  }
 },
 "nbformat": 4,
 "nbformat_minor": 2
}
