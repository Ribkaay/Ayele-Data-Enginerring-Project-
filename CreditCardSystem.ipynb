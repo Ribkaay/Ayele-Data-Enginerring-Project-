{
 "cells": [
  {
   "cell_type": "code",
   "execution_count": 1,
   "metadata": {},
   "outputs": [],
   "source": [
    "\n",
    "\n",
    "import pyspark\n",
    "\n",
    "from pyspark.sql import SparkSession  #import sparksession from pyspark.sql\n",
    "\n",
    "\n",
    "spark = SparkSession.builder.master(\"local[*]\").appName(\"Test SQL app\").getOrCreate()\n",
    "\n",
    "spark = SparkSession.builder.appName('CreditCardSystem').getOrCreate()\n",
    "#creat spark session"
   ]
  },
  {
   "cell_type": "markdown",
   "metadata": {},
   "source": [
    "JSON Extract Function "
   ]
  },
  {
   "cell_type": "code",
   "execution_count": 30,
   "metadata": {},
   "outputs": [
    {
     "name": "stdout",
     "output_type": "stream",
     "text": [
      "root\n",
      " |-- BRANCH_CITY: string (nullable = true)\n",
      " |-- BRANCH_CODE: long (nullable = true)\n",
      " |-- BRANCH_NAME: string (nullable = true)\n",
      " |-- BRANCH_PHONE: string (nullable = true)\n",
      " |-- BRANCH_STATE: string (nullable = true)\n",
      " |-- BRANCH_STREET: string (nullable = true)\n",
      " |-- BRANCH_ZIP: long (nullable = true)\n",
      " |-- LAST_UPDATED: string (nullable = true)\n",
      "\n",
      "root\n",
      " |-- BRANCH_CODE: long (nullable = true)\n",
      " |-- CREDIT_CARD_NO: string (nullable = true)\n",
      " |-- CUST_SSN: long (nullable = true)\n",
      " |-- DAY: long (nullable = true)\n",
      " |-- MONTH: long (nullable = true)\n",
      " |-- TRANSACTION_ID: long (nullable = true)\n",
      " |-- TRANSACTION_TYPE: string (nullable = true)\n",
      " |-- TRANSACTION_VALUE: double (nullable = true)\n",
      " |-- YEAR: long (nullable = true)\n",
      "\n",
      "root\n",
      " |-- APT_NO: string (nullable = true)\n",
      " |-- CREDIT_CARD_NO: string (nullable = true)\n",
      " |-- CUST_CITY: string (nullable = true)\n",
      " |-- CUST_COUNTRY: string (nullable = true)\n",
      " |-- CUST_EMAIL: string (nullable = true)\n",
      " |-- CUST_PHONE: long (nullable = true)\n",
      " |-- CUST_STATE: string (nullable = true)\n",
      " |-- CUST_ZIP: string (nullable = true)\n",
      " |-- FIRST_NAME: string (nullable = true)\n",
      " |-- LAST_NAME: string (nullable = true)\n",
      " |-- LAST_UPDATED: string (nullable = true)\n",
      " |-- MIDDLE_NAME: string (nullable = true)\n",
      " |-- SSN: long (nullable = true)\n",
      " |-- STREET_NAME: string (nullable = true)\n",
      "\n",
      "+-----------------+-----------+------------+------------+------------+-------------------+----------+--------------------+\n",
      "|      BRANCH_CITY|BRANCH_CODE| BRANCH_NAME|BRANCH_PHONE|BRANCH_STATE|      BRANCH_STREET|BRANCH_ZIP|        LAST_UPDATED|\n",
      "+-----------------+-----------+------------+------------+------------+-------------------+----------+--------------------+\n",
      "|        Lakeville|          1|Example Bank|  1234565276|          MN|       Bridle Court|     55044|2018-04-18T16:51:...|\n",
      "|          Huntley|          2|Example Bank|  1234618993|          IL|  Washington Street|     60142|2018-04-18T16:51:...|\n",
      "|SouthRichmondHill|          3|Example Bank|  1234985926|          NY|      Warren Street|     11419|2018-04-18T16:51:...|\n",
      "|       Middleburg|          4|Example Bank|  1234663064|          FL|   Cleveland Street|     32068|2018-04-18T16:51:...|\n",
      "|    KingOfPrussia|          5|Example Bank|  1234849701|          PA|        14th Street|     19406|2018-04-18T16:51:...|\n",
      "|         Paterson|          7|Example Bank|  1234144890|          NJ|   Jefferson Street|      7501|2018-04-18T16:51:...|\n",
      "|        Pittsford|          8|Example Bank|  1234678272|          NY|           B Street|     14534|2018-04-18T16:51:...|\n",
      "|     Wethersfield|          9|Example Bank|  1234675219|          CT|    Jefferson Court|      6109|2018-04-18T16:51:...|\n",
      "|     NorthOlmsted|         10|Example Bank|  1234145047|          OH|     Cambridge Road|     44070|2018-04-18T16:51:...|\n",
      "|     Hillsborough|         11|Example Bank|  1234366354|          NJ|    3rd Street West|      8844|2018-04-18T16:51:...|\n",
      "|   MadisonHeights|         12|Example Bank|  1234867175|          MI|          Mill Road|     48071|2018-04-18T16:51:...|\n",
      "|           Oviedo|         14|Example Bank|  1234938460|          FL|  Washington Street|     32765|2018-04-18T16:51:...|\n",
      "|    Mechanicsburg|         15|Example Bank|  1234462043|          PA|    Chestnut Street|     17050|2018-04-18T16:51:...|\n",
      "|        Plainview|         16|Example Bank|  1234857525|          NY|       Monroe Drive|     11803|2018-04-18T16:51:...|\n",
      "|          Paducah|         17|Example Bank|  1234546360|          KY|    Railroad Street|     42001|2018-04-18T16:51:...|\n",
      "|     Harleysville|         18|Example Bank|  1234824455|          PA|Church Street South|     19438|2018-04-18T16:51:...|\n",
      "|     SilverSpring|         19|Example Bank|  1234484380|          MD|        King Street|     20901|2018-04-18T16:51:...|\n",
      "|       Burnsville|         20|Example Bank|  1234840138|          MN|   Canterbury Drive|     55337|2018-04-18T16:51:...|\n",
      "|           Tacoma|         21|Example Bank|  1234362433|          WA|         2nd Avenue|     98444|2018-04-18T16:51:...|\n",
      "|         Carlisle|         22|Example Bank|  1234922492|          PA| Front Street South|     17013|2018-04-18T16:51:...|\n",
      "+-----------------+-----------+------------+------------+------------+-------------------+----------+--------------------+\n",
      "only showing top 20 rows\n",
      "\n",
      "None\n",
      "+-----------+----------------+---------+---+-----+--------------+----------------+-----------------+----+\n",
      "|BRANCH_CODE|  CREDIT_CARD_NO| CUST_SSN|DAY|MONTH|TRANSACTION_ID|TRANSACTION_TYPE|TRANSACTION_VALUE|YEAR|\n",
      "+-----------+----------------+---------+---+-----+--------------+----------------+-----------------+----+\n",
      "|        114|4210653349028689|123459988| 14|    2|             1|       Education|             78.9|2018|\n",
      "|         35|4210653349028689|123459988| 20|    3|             2|   Entertainment|            14.24|2018|\n",
      "|        160|4210653349028689|123459988|  8|    7|             3|         Grocery|             56.7|2018|\n",
      "|        114|4210653349028689|123459988| 19|    4|             4|   Entertainment|            59.73|2018|\n",
      "|         93|4210653349028689|123459988| 10|   10|             5|             Gas|             3.59|2018|\n",
      "|        164|4210653349028689|123459988| 28|    5|             6|       Education|             6.89|2018|\n",
      "|        119|4210653349028689|123459988| 19|    5|             7|   Entertainment|            43.39|2018|\n",
      "|         23|4210653349028689|123459988|  8|    8|             8|             Gas|            95.39|2018|\n",
      "|        166|4210653349028689|123459988| 18|    3|             9|   Entertainment|            93.26|2018|\n",
      "|         83|4210653349028689|123459988|  3|    9|            10|           Bills|           100.38|2018|\n",
      "|         52|4210653349028689|123459988| 21|    8|            11|             Gas|            98.75|2018|\n",
      "|         17|4210653349028689|123459988| 24|   12|            12|             Gas|            42.71|2018|\n",
      "|         80|4210653349028689|123459988|  3|    4|            13|         Grocery|            40.24|2018|\n",
      "|         50|4210653349028689|123459988| 15|    4|            14|           Bills|            17.81|2018|\n",
      "|        123|4210653349028689|123459988| 17|    5|            15|           Bills|             29.0|2018|\n",
      "|          9|4210653349028689|123459988|  6|    7|            16|            Test|            70.63|2018|\n",
      "|          3|4210653349028689|123459988| 28|    9|            17|            Test|            27.04|2018|\n",
      "|        135|4210653349028689|123459988|  4|    7|            18|   Entertainment|            88.75|2018|\n",
      "|        103|4210653349028689|123459988| 24|    4|            19|            Test|            77.02|2018|\n",
      "|         78|4210653349028689|123459988|  8|   10|            20|           Bills|            34.34|2018|\n",
      "+-----------+----------------+---------+---+-----+--------------+----------------+-----------------+----+\n",
      "only showing top 20 rows\n",
      "\n",
      "None\n"
     ]
    }
   ],
   "source": [
    "# def extract_from_json():\n",
    "\n",
    " #Read the Json data form my local computer \n",
    "cdw_sapp_branch_json = spark.read.json(\"cdw_sapp_branch.json\")\n",
    "cdw_sapp_credit_json = spark.read.json(\"cdw_sapp_credit.json\")\n",
    "cdw_sapp_custmer_json = spark.read.json(\"cdw_sapp_custmer.json\")\n",
    "\n",
    "#Show the schema of the Json data\n",
    "cdw_sapp_branch_json.printSchema()\n",
    "cdw_sapp_credit_json.printSchema()\n",
    "cdw_sapp_custmer_json.printSchema()\n",
    "print(cdw_sapp_branch_json.show())\n",
    "print(cdw_sapp_credit_json.show())\n",
    "    # create a list of dataframe\n",
    "# extracted_data = [cdw_sapp_branch_json,cdw_sapp_credit_json,cdw_sapp_custmer_json]\n",
    "\n",
    "    #reaturn list of extracted data\n",
    "#return extracted_data "
   ]
  },
  {
   "cell_type": "code",
   "execution_count": 31,
   "metadata": {},
   "outputs": [
    {
     "name": "stdout",
     "output_type": "stream",
     "text": [
      "+------+----------------+------------+-------------+--------------------+----------+----------+--------+----------+---------+--------------------+-----------+---------+-----------------+\n",
      "|APT_NO|  CREDIT_CARD_NO|   CUST_CITY| CUST_COUNTRY|          CUST_EMAIL|CUST_PHONE|CUST_STATE|CUST_ZIP|FIRST_NAME|LAST_NAME|        LAST_UPDATED|MIDDLE_NAME|      SSN|      STREET_NAME|\n",
      "+------+----------------+------------+-------------+--------------------+----------+----------+--------+----------+---------+--------------------+-----------+---------+-----------------+\n",
      "|   656|4210653310061055|     Natchez|United States| AHooper@example.com|   1237818|        MS|   39120|      Alec|   Hooper|2018-04-21T12:49:...|         Wm|123456100|Main Street North|\n",
      "|   829|4210653310102868|Wethersfield|United States| EHolman@example.com|   1238933|        CT|   06109|      Etta|   Holman|2018-04-21T12:49:...|    Brendan|123453023|    Redwood Drive|\n",
      "|   683|4210653310116272|     Huntley|United States| WDunham@example.com|   1243018|        IL|   60142|    Wilber|   Dunham|2018-04-21T12:49:...|   Ezequiel|123454487| 12th Street East|\n",
      "|   253|4210653310195948|   NewBerlin|United States|  EHardy@example.com|   1243215|        WI|   53151|   Eugenio|    Hardy|2018-04-21T12:49:...|      Trina|123459758|Country Club Road|\n",
      "|   301|4210653310356919|      ElPaso|United States|  WAyers@example.com|   1242074|        TX|   79930|   Wilfred|    Ayers|2018-04-21T12:49:...|        May|123454431|   Madison Street|\n",
      "|     3|4210653310395982|NorthOlmsted|United States|BWoodard@example.com|   1242570|        OH|   44070|      Beau|  Woodard|2018-04-21T12:49:...|    Ambrose|123454202|   Colonial Drive|\n",
      "|    84|4210653310400536|      Vienna|United States|   SKemp@example.com|   1239685|        VA|   22180|    Sheila|     Kemp|2018-04-21T12:49:...|      Larry|123451799|   Belmont Avenue|\n",
      "|   728|4210653310459911|      Duarte|United States| WHurley@example.com|   1238213|        CA|   91010|     Wendy|   Hurley|2018-04-21T12:49:...|        Ora|123453875|     Oxford Court|\n",
      "|    81|4210653310773972|      Owosso|United States|AGilmore@example.com|   1240689|        MI|   48867|      Alec|  Gilmore|2018-04-21T12:49:...|     Tracie|123457511|    Forest Street|\n",
      "|   561|4210653310794854|        Zion|United States|    BLau@example.com|   1235222|        IL|   60099|    Barbra|      Lau|2018-04-21T12:49:...|    Mitchel|123457464|     Court Street|\n",
      "|   622|4210653310817373|  Youngstown|United States|EThomson@example.com|   1241363|        OH|   44512|   Edmundo|  Thomson|2018-04-21T12:49:...|      Denny|123457639|    Cypress Court|\n",
      "|   924|4210653310844617| Summerville|United States| ETruong@example.com|   1236228|        SC|   29483|      Elsa|   Truong|2018-04-21T12:49:...|   Isabelle|123453242|  8th Street West|\n",
      "|   611|4210653311015303|      ElPaso|United States|HMckinney@example...|   1238165|        TX|   79930|     Homer| Mckinney|2018-04-21T12:49:...|      Henry|123454339|      East Avenue|\n",
      "|   680|4210653311215039|      Fenton|United States|   RKidd@example.com|   1234730|        MI|   48430|      Rita|     Kidd|2018-04-21T12:49:...|     Rickey|123454537|         Route 44|\n",
      "|    71|4210653311229354|  Grandville|United States|ABallard@example.com|   1242113|        MI|   49418|    Amalia|  Ballard|2018-04-21T12:49:...|  Heriberto|123452373|    Warren Street|\n",
      "|   195|4210653311652836|    YubaCity|United States| PThomas@example.com|   1239888|        CA|   95993|     Patty|   Thomas|2018-04-21T12:49:...|   Angelita|123455343|     Jones Street|\n",
      "|   500|4210653311707126|   CapeCoral|United States| JMorrow@example.com|   1240158|        FL|   33904|  Josefina|   Morrow|2018-04-21T12:49:...|   Dorothea|123451533|       New Street|\n",
      "|   989|4210653311730764|  Brookfield|United States|NAndrews@example.com|   1241408|        WI|   53045|    Nelson|  Andrews|2018-04-21T12:49:...|  Jefferson|123459278|  Division Street|\n",
      "|   810|4210653311898082|    Richmond|United States|MSchneider@exampl...|   1238390|        VA|   23223|    Miquel|Schneider|2018-04-21T12:49:...|     Maximo|123456915|     Maple Street|\n",
      "|   649|4210653312021765| WestChester|United States|PTidwell@example.com|   1235067|        PA|   19380|    Parker|  Tidwell|2018-04-21T12:49:...|    Arnulfo|123453807|       Eagle Road|\n",
      "+------+----------------+------------+-------------+--------------------+----------+----------+--------+----------+---------+--------------------+-----------+---------+-----------------+\n",
      "only showing top 20 rows\n",
      "\n"
     ]
    }
   ],
   "source": [
    "\n",
    "cdw_sapp_custmer_json.show()\n",
    "#mapping\n",
    "# convert names in title\n",
    "#middle name in lower case\n",
    "\n",
    "#addres concatinate together Street name and app no ( separteted by comma)\n",
    "# Phone number based on the format\n",
    "\n",
    "#select First_name \n"
   ]
  },
  {
   "cell_type": "markdown",
   "metadata": {},
   "source": [
    "Transform \n"
   ]
  },
  {
   "cell_type": "markdown",
   "metadata": {},
   "source": [
    "Mapping cdw_sapp_custmer_json \n",
    "\n",
    "Drict Move - \n",
    "\n",
    "Convert -  the Name to Title Case\n",
    "        - the middle name in lower case\n",
    "        - the Last Name in Title Case\n",
    "        - Concatenate Apartment no and Street name of customer's Residence with comma as a seperator (Street, Apartment)\n",
    "        - Change the format of phone number to (XXX)XXX-XXXX"
   ]
  },
  {
   "cell_type": "markdown",
   "metadata": {},
   "source": [
    "1, Transform data types of each data and Concatenate Apartment no and Street name of customer's Residence with comma as a seperator (Street, Apartment) to STREET_NAME,APT_NO and also Convert the Name to Title Case\n",
    "\n",
    "APT_NO: string convert to VARCHAR\n",
    "CREDIT_CARD_NO: string convert to  VARCHAR\n",
    "CUST_CITY: string convert to  VARCHAR\n",
    "CUST_COUNTRY: string convert to  VARCHAR\n",
    "CUST_EMAIL: string convert to  VARCHAR\n",
    "CUST_PHONE: long convert to  VARCHAR\n",
    "CUST_STATE: string convert to  VARCHAR\n",
    "CUST_ZIP: string convert to int INT\n",
    "FIRST_NAME: string convert to VARCHAR\n",
    "LAST_NAME: string convert to VARCHAR  \n",
    "LAST_UPDATED: string convert to TIMESTAMP\n",
    "MIDDLE_NAME: string convert to VARCHAR\n",
    "SSN: long convert to int\n",
    "STREET_NAME: string convert to VARCHAR\n",
    "FULL_STREET_ADDRESS convert to VARCHAR"
   ]
  },
  {
   "cell_type": "code",
   "execution_count": 5,
   "metadata": {},
   "outputs": [
    {
     "data": {
      "text/plain": [
       "[('APT_NO', 'string'),\n",
       " ('CREDIT_CARD_NO', 'string'),\n",
       " ('CUST_CITY', 'string'),\n",
       " ('CUST_COUNTRY', 'string'),\n",
       " ('CUST_EMAIL', 'string'),\n",
       " ('CUST_PHONE', 'bigint'),\n",
       " ('CUST_STATE', 'string'),\n",
       " ('CUST_ZIP', 'string'),\n",
       " ('FIRST_NAME', 'string'),\n",
       " ('LAST_NAME', 'string'),\n",
       " ('LAST_UPDATED', 'string'),\n",
       " ('MIDDLE_NAME', 'string'),\n",
       " ('SSN', 'bigint'),\n",
       " ('STREET_NAME', 'string')]"
      ]
     },
     "execution_count": 5,
     "metadata": {},
     "output_type": "execute_result"
    }
   ],
   "source": [
    "cdw_sapp_custmer_json.dtypes"
   ]
  },
  {
   "cell_type": "code",
   "execution_count": 5,
   "metadata": {},
   "outputs": [
    {
     "data": {
      "text/plain": [
       "StructType([StructField('APT_NO', StringType(), True), StructField('CREDIT_CARD_NO', StringType(), True), StructField('CUST_CITY', StringType(), True), StructField('CUST_COUNTRY', StringType(), True), StructField('CUST_EMAIL', StringType(), True), StructField('CUST_PHONE', LongType(), True), StructField('CUST_STATE', StringType(), True), StructField('CUST_ZIP', StringType(), True), StructField('FIRST_NAME', StringType(), True), StructField('LAST_NAME', StringType(), True), StructField('LAST_UPDATED', StringType(), True), StructField('MIDDLE_NAME', StringType(), True), StructField('SSN', LongType(), True), StructField('STREET_NAME', StringType(), True)])"
      ]
     },
     "execution_count": 5,
     "metadata": {},
     "output_type": "execute_result"
    }
   ],
   "source": [
    "\n"
   ]
  },
  {
   "cell_type": "code",
   "execution_count": 32,
   "metadata": {},
   "outputs": [
    {
     "name": "stdout",
     "output_type": "stream",
     "text": [
      "+------+----------------+------------+-------------+-------------------+----------+----------+--------+----------+---------+--------------------+-----------+---------+-----------------+--------------------+\n",
      "|APT_NO|  CREDIT_CARD_NO|   CUST_CITY| CUST_COUNTRY|         CUST_EMAIL|CUST_PHONE|CUST_STATE|CUST_ZIP|FIRST_NAME|LAST_NAME|        LAST_UPDATED|MIDDLE_NAME|      SSN|      STREET_NAME| FULL_STREET_ADDRESS|\n",
      "+------+----------------+------------+-------------+-------------------+----------+----------+--------+----------+---------+--------------------+-----------+---------+-----------------+--------------------+\n",
      "|   656|4210653310061055|     Natchez|United States|AHooper@example.com|(123)781-8|        MS|   39120|      Alec|   Hooper|2018-04-21T12:49:...|         wm|123456100|Main Street North|Main Street North...|\n",
      "|   829|4210653310102868|Wethersfield|United States|EHolman@example.com|(123)893-3|        CT|   06109|      Etta|   Holman|2018-04-21T12:49:...|    brendan|123453023|    Redwood Drive|   Redwood Drive,829|\n",
      "|   683|4210653310116272|     Huntley|United States|WDunham@example.com|(124)301-8|        IL|   60142|    Wilber|   Dunham|2018-04-21T12:49:...|   ezequiel|123454487| 12th Street East|12th Street East,683|\n",
      "|   253|4210653310195948|   NewBerlin|United States| EHardy@example.com|(124)321-5|        WI|   53151|   Eugenio|    Hardy|2018-04-21T12:49:...|      trina|123459758|Country Club Road|Country Club Road...|\n",
      "|   301|4210653310356919|      ElPaso|United States| WAyers@example.com|(124)207-4|        TX|   79930|   Wilfred|    Ayers|2018-04-21T12:49:...|        may|123454431|   Madison Street|  Madison Street,301|\n",
      "+------+----------------+------------+-------------+-------------------+----------+----------+--------+----------+---------+--------------------+-----------+---------+-----------------+--------------------+\n",
      "only showing top 5 rows\n",
      "\n"
     ]
    }
   ],
   "source": [
    "#mapping logic Change the format of phone number to (XXX)XXX-XXXX   CUST_PHONE\n",
    "\n",
    "\n",
    "from pyspark.sql.functions import initcap, concat, lit, col, lower, substring\n",
    "cdw_sapp_custmer=cdw_sapp_custmer_json.withColumn(\"FIRST_NAME\" , initcap(col(\"FIRST_NAME\"))  #tile case\n",
    "                                                  ).withColumn(\"LAST_NAME\" , initcap(col(\"LAST_NAME\"))\n",
    "                                                  ).withColumn(\"MIDDLE_NAME\" , lower(col(\"MIDDLE_NAME\"))\n",
    "                                                  ).withColumn(\"FULL_STREET_ADDRESS\" , concat(col(\"STREET_NAME\"), lit(\",\"), (\"APT_NO\"))\n",
    "                                                  ).withColumn(\"CUST_PHONE\",concat(lit('('),substring(col(\"CUST_PHONE\"),1,3),lit(')'),\n",
    "                                                                  substring(col(\"CUST_PHONE\"),4,3),lit('-'),\n",
    "                                                                  substring(col(\"CUST_PHONE\"),7,4)))\n",
    "cdw_sapp_custmer.show(5)\n",
    "\n",
    "#df.select \n",
    "\n"
   ]
  },
  {
   "cell_type": "code",
   "execution_count": 33,
   "metadata": {},
   "outputs": [
    {
     "data": {
      "text/plain": [
       "DataFrame[APT_NO: string, CREDIT_CARD_NO: string, CUST_CITY: string, CUST_COUNTRY: string, CUST_EMAIL: string, CUST_PHONE: string, CUST_STATE: string, CUST_ZIP: int, FIRST_NAME: string, LAST_NAME: string, LAST_UPDATED: timestamp, MIDDLE_NAME: string, SSN: int, STREET_NAME: string, FULL_STREET_ADDRESS: string]"
      ]
     },
     "execution_count": 33,
     "metadata": {},
     "output_type": "execute_result"
    }
   ],
   "source": [
    "from pyspark.sql.functions import initcap, concat, lit, col\n",
    "\n",
    "#convert last name data type to VARCAR\n",
    "cdw_sapp_custmer.withColumn(\"LAST_NAME\", col(\"LAST_NAME\").cast(\"VARCHAR(20)\")\n",
    "                                \n",
    "                                ).withColumn(\"MIDDLE_NAME\", col(\"MIDDLE_NAME\").cast(\"VARCHAR(20)\")\n",
    "                                ).withColumn(\"LAST_NAME\", col(\"LAST_NAME\").cast(\"VARCHAR(20)\")\n",
    "                                ).withColumn(\"APT_NO\", col(\"APT_NO\").cast(\"VARCHAR(20)\")             \n",
    "                                ).withColumn(\"CREDIT_CARD_NO\", col(\"CREDIT_CARD_NO\").cast(\"VARCHAR(20)\")\n",
    "                                ).withColumn(\"CUST_CITY\", col(\"CUST_CITY\").cast(\"VARCHAR(20)\") \n",
    "                                ).withColumn(\"CUST_COUNTRY\", col(\"CUST_COUNTRY\").cast(\"VARCHAR(20)\") \n",
    "                                ).withColumn(\"CUST_EMAIL\", col(\"CUST_EMAIL\").cast(\"VARCHAR(20)\")     \n",
    "                                ).withColumn(\"CUST_PHONE\", col(\"CUST_PHONE\").cast(\"VARCHAR(20)\")\n",
    "                                ).withColumn(\"CUST_STATE\", col(\"CUST_STATE\").cast(\"VARCHAR(20)\")\n",
    "                                ).withColumn(\"CUST_ZIP\", col(\"APT_NO\").cast(\"INT\")\n",
    "                                ).withColumn(\"LAST_UPDATED\", col(\"LAST_UPDATED\").cast(\"TIMESTAMP\")\n",
    "                                ).withColumn(\"SSN\", col(\"SSN\").cast(\"INT\")\n",
    "                                ).withColumn(\"STREET_NAME\", col(\"STREET_NAME\").cast(\"VARCHAR(20)\")\n",
    "                                ).withColumn(\"FULL_STREET_ADDRESS\", col(\"FULL_STREET_ADDRESS\").cast(\"VARCHAR(50)\"))\n",
    "                                             \n",
    "                                             #convert last name data type\n",
    "\n",
    "#Phone (xxx)xxx-xxx"
   ]
  },
  {
   "cell_type": "code",
   "execution_count": 34,
   "metadata": {},
   "outputs": [
    {
     "name": "stdout",
     "output_type": "stream",
     "text": [
      "+------+----------------+------------+-------------+-------------------+----------+----------+--------+----------+---------+--------------------+-----------+---------+-----------------+--------------------+\n",
      "|APT_NO|  CREDIT_CARD_NO|   CUST_CITY| CUST_COUNTRY|         CUST_EMAIL|CUST_PHONE|CUST_STATE|CUST_ZIP|FIRST_NAME|LAST_NAME|        LAST_UPDATED|MIDDLE_NAME|      SSN|      STREET_NAME| FULL_STREET_ADDRESS|\n",
      "+------+----------------+------------+-------------+-------------------+----------+----------+--------+----------+---------+--------------------+-----------+---------+-----------------+--------------------+\n",
      "|   656|4210653310061055|     Natchez|United States|AHooper@example.com|(123)781-8|        MS|   39120|      Alec|   Hooper|2018-04-21T12:49:...|         wm|123456100|Main Street North|Main Street North...|\n",
      "|   829|4210653310102868|Wethersfield|United States|EHolman@example.com|(123)893-3|        CT|   06109|      Etta|   Holman|2018-04-21T12:49:...|    brendan|123453023|    Redwood Drive|   Redwood Drive,829|\n",
      "|   683|4210653310116272|     Huntley|United States|WDunham@example.com|(124)301-8|        IL|   60142|    Wilber|   Dunham|2018-04-21T12:49:...|   ezequiel|123454487| 12th Street East|12th Street East,683|\n",
      "|   253|4210653310195948|   NewBerlin|United States| EHardy@example.com|(124)321-5|        WI|   53151|   Eugenio|    Hardy|2018-04-21T12:49:...|      trina|123459758|Country Club Road|Country Club Road...|\n",
      "|   301|4210653310356919|      ElPaso|United States| WAyers@example.com|(124)207-4|        TX|   79930|   Wilfred|    Ayers|2018-04-21T12:49:...|        may|123454431|   Madison Street|  Madison Street,301|\n",
      "+------+----------------+------------+-------------+-------------------+----------+----------+--------+----------+---------+--------------------+-----------+---------+-----------------+--------------------+\n",
      "only showing top 5 rows\n",
      "\n"
     ]
    }
   ],
   "source": [
    "cdw_sapp_custmer.show(5)  #CUST_PHONE needs area code"
   ]
  },
  {
   "cell_type": "markdown",
   "metadata": {},
   "source": [
    "Mapping cdw_sapp_branch_json fille "
   ]
  },
  {
   "cell_type": "code",
   "execution_count": 35,
   "metadata": {},
   "outputs": [
    {
     "data": {
      "text/plain": [
       "[('BRANCH_CITY', 'string'),\n",
       " ('BRANCH_CODE', 'bigint'),\n",
       " ('BRANCH_NAME', 'string'),\n",
       " ('BRANCH_PHONE', 'string'),\n",
       " ('BRANCH_STATE', 'string'),\n",
       " ('BRANCH_STREET', 'string'),\n",
       " ('BRANCH_ZIP', 'bigint'),\n",
       " ('LAST_UPDATED', 'string')]"
      ]
     },
     "execution_count": 35,
     "metadata": {},
     "output_type": "execute_result"
    }
   ],
   "source": [
    "cdw_sapp_branch_json.dtypes"
   ]
  },
  {
   "cell_type": "markdown",
   "metadata": {},
   "source": [
    "BRANCH_CODE into INT\n",
    "BRANCH_NAME convert to VARCHAR\n",
    "BRANCH_STREET convert to VARCHAR\n",
    "BRANCH_CITY convert to VARCHAR\n",
    "BRANCH_STATE convert to VARCHAR\n",
    "BRANCH_ZIP  INT\n",
    "BRANCH_PHONE convert to VARCHAR\n",
    "LAST_UPDATED convert to TIMESTAMP\n"
   ]
  },
  {
   "cell_type": "code",
   "execution_count": 19,
   "metadata": {},
   "outputs": [
    {
     "data": {
      "text/plain": [
       "DataFrame[BRANCH_CITY: string, BRANCH_CODE: int, BRANCH_NAME: string, BRANCH_PHONE: string, BRANCH_STATE: string, BRANCH_STREET: string, BRANCH_ZIP: int, LAST_UPDATED: timestamp]"
      ]
     },
     "execution_count": 19,
     "metadata": {},
     "output_type": "execute_result"
    }
   ],
   "source": []
  },
  {
   "cell_type": "markdown",
   "metadata": {},
   "source": [
    "Mapping Logic for Branch \n"
   ]
  },
  {
   "cell_type": "markdown",
   "metadata": {},
   "source": [
    "BRANCH_ZIP - If the source value is null load default (99999) value else Direct move\n",
    "BRANCH_PHONE - Change the format of phone number to (XXX)XXX-XXXX\n",
    "\n",
    "\n",
    "\n"
   ]
  },
  {
   "cell_type": "code",
   "execution_count": 36,
   "metadata": {},
   "outputs": [],
   "source": [
    "from pyspark.sql.functions import when,col, substring, concat,lit\n",
    "cdw_sapp_branch = cdw_sapp_branch_json.withColumn(\"BRANCH_ZIP\", when(col(\"BRANCH_ZIP\").isNull(),'99999').otherwise(col(\"BRANCH_ZIP\"))\n",
    "                                ).withColumn(\"BRANCH_PHONE\",concat(lit('('),substring(col(\"BRANCH_PHONE\"),1,3),lit(')'),\n",
    "                                                                  substring(col(\"BRANCH_PHONE\"),4,3),lit('-'),\n",
    "                                                                  substring(col(\"BRANCH_PHONE\"),7,4)))"
   ]
  },
  {
   "cell_type": "code",
   "execution_count": 37,
   "metadata": {},
   "outputs": [
    {
     "data": {
      "text/plain": [
       "DataFrame[BRANCH_CITY: string, BRANCH_CODE: int, BRANCH_NAME: string, BRANCH_PHONE: string, BRANCH_STATE: string, BRANCH_STREET: string, BRANCH_ZIP: int, LAST_UPDATED: timestamp]"
      ]
     },
     "execution_count": 37,
     "metadata": {},
     "output_type": "execute_result"
    }
   ],
   "source": [
    "cdw_sapp_branch.withColumn(\"BRANCH_CODE\", col(\"BRANCH_CODE\").cast(\"INT\")\n",
    "                               ).withColumn('BRANCH_NAME', col('BRANCH_NAME').cast(\"VARCHAR(20)\")\n",
    "                                ).withColumn('BRANCH_STREET', col('BRANCH_STREET').cast(\"VARCHAR(20)\")\n",
    "                                ).withColumn('BRANCH_CITY', col('BRANCH_CITY').cast(\"VARCHAR(20)\") \n",
    "                                ).withColumn('BRANCH_STATE', col('BRANCH_STATE').cast(\"VARCHAR(20)\")\n",
    "                                ).withColumn('BRANCH_ZIP', col('BRANCH_CODE').cast(\"INT\")\n",
    "                                ).withColumn('BRANCH_PHONE', col('BRANCH_PHONE').cast(\"VARCHAR(20)\")\n",
    "                                ).withColumn(\"LAST_UPDATED\", col('LAST_UPDATED').cast(\"TIMESTAMP\"))                              \n",
    "                          "
   ]
  },
  {
   "cell_type": "code",
   "execution_count": 38,
   "metadata": {},
   "outputs": [
    {
     "name": "stdout",
     "output_type": "stream",
     "text": [
      "+-----------------+-----------+------------+-------------+------------+-----------------+----------+--------------------+\n",
      "|      BRANCH_CITY|BRANCH_CODE| BRANCH_NAME| BRANCH_PHONE|BRANCH_STATE|    BRANCH_STREET|BRANCH_ZIP|        LAST_UPDATED|\n",
      "+-----------------+-----------+------------+-------------+------------+-----------------+----------+--------------------+\n",
      "|        Lakeville|          1|Example Bank|(123)456-5276|          MN|     Bridle Court|     55044|2018-04-18T16:51:...|\n",
      "|          Huntley|          2|Example Bank|(123)461-8993|          IL|Washington Street|     60142|2018-04-18T16:51:...|\n",
      "|SouthRichmondHill|          3|Example Bank|(123)498-5926|          NY|    Warren Street|     11419|2018-04-18T16:51:...|\n",
      "|       Middleburg|          4|Example Bank|(123)466-3064|          FL| Cleveland Street|     32068|2018-04-18T16:51:...|\n",
      "|    KingOfPrussia|          5|Example Bank|(123)484-9701|          PA|      14th Street|     19406|2018-04-18T16:51:...|\n",
      "+-----------------+-----------+------------+-------------+------------+-----------------+----------+--------------------+\n",
      "only showing top 5 rows\n",
      "\n"
     ]
    }
   ],
   "source": [
    "cdw_sapp_branch.show(5)\n",
    "\n"
   ]
  },
  {
   "cell_type": "markdown",
   "metadata": {},
   "source": [
    "cdw_sapp_credit.json\n",
    "Mapping Logic\n",
    "Convert DAY, MONTH, and YEAR into a TIMEID (YYYYMMDD)\n",
    "\n",
    "Targeted data type\n",
    "Source File Column Names\n",
    "CREDIT_CARD_NO  convert in to VARCHAR\n",
    "DAY, MONTH, YEAR convert in to VARCHAR\n",
    "CUST_SSN convert in to INT\n",
    "BRANCH_CODE convert in to INT\n",
    "TRANSACTION_TYPE convert in to VARCHAR\n",
    "TRANSACTION_VALUE convert in to DOUBLE\n",
    "TRANSACTION_ID  convert in to INT\n"
   ]
  },
  {
   "cell_type": "code",
   "execution_count": 39,
   "metadata": {},
   "outputs": [
    {
     "name": "stdout",
     "output_type": "stream",
     "text": [
      "+-----------+----------------+---------+---+-----+--------------+----------------+-----------------+----+--------+\n",
      "|BRANCH_CODE|  CREDIT_CARD_NO| CUST_SSN|DAY|MONTH|TRANSACTION_ID|TRANSACTION_TYPE|TRANSACTION_VALUE|YEAR|  TIMEID|\n",
      "+-----------+----------------+---------+---+-----+--------------+----------------+-----------------+----+--------+\n",
      "|        114|4210653349028689|123459988| 14|    2|             1|       Education|             78.9|2018|20180214|\n",
      "|         35|4210653349028689|123459988| 20|    3|             2|   Entertainment|            14.24|2018|20180320|\n",
      "|        160|4210653349028689|123459988|  8|    7|             3|         Grocery|             56.7|2018|20180708|\n",
      "|        114|4210653349028689|123459988| 19|    4|             4|   Entertainment|            59.73|2018|20180419|\n",
      "|         93|4210653349028689|123459988| 10|   10|             5|             Gas|             3.59|2018|20181010|\n",
      "+-----------+----------------+---------+---+-----+--------------+----------------+-----------------+----+--------+\n",
      "only showing top 5 rows\n",
      "\n"
     ]
    }
   ],
   "source": [
    "from pyspark.sql.functions import col, lpad,substring\n",
    "\n",
    "#use lpad function to for month and day because some of them put as one degit\n",
    "\n",
    "cdw_sapp_credit = cdw_sapp_credit_json.withColumn(\"TIMEID\",concat(col(\"YEAR\"),lpad(col(\"MONTH\"),2,\"0\"),lpad(col(\"DAY\"),2,\"0\")))\n",
    "cdw_sapp_credit.show(5)"
   ]
  },
  {
   "cell_type": "code",
   "execution_count": 40,
   "metadata": {},
   "outputs": [
    {
     "name": "stdout",
     "output_type": "stream",
     "text": [
      "+-----------+----------------+---------+---+-----+--------------+----------------+-----------------+----+--------+\n",
      "|BRANCH_CODE|  CREDIT_CARD_NO| CUST_SSN|DAY|MONTH|TRANSACTION_ID|TRANSACTION_TYPE|TRANSACTION_VALUE|YEAR|  TIMEID|\n",
      "+-----------+----------------+---------+---+-----+--------------+----------------+-----------------+----+--------+\n",
      "|        114|4210653349028689|123459988| 14|    2|             1|       Education|             78.9|2018|20180214|\n",
      "|         35|4210653349028689|123459988| 20|    3|             2|   Entertainment|            14.24|2018|20180320|\n",
      "|        160|4210653349028689|123459988|  8|    7|             3|         Grocery|             56.7|2018|20180708|\n",
      "|        114|4210653349028689|123459988| 19|    4|             4|   Entertainment|            59.73|2018|20180419|\n",
      "|         93|4210653349028689|123459988| 10|   10|             5|             Gas|             3.59|2018|20181010|\n",
      "+-----------+----------------+---------+---+-----+--------------+----------------+-----------------+----+--------+\n",
      "only showing top 5 rows\n",
      "\n"
     ]
    }
   ],
   "source": [
    "cdw_sapp_credit.show(5)"
   ]
  },
  {
   "cell_type": "code",
   "execution_count": 41,
   "metadata": {},
   "outputs": [],
   "source": [
    "#Change CREDIT_CARD_NO column name to CUST_CC_NO and cast it VARCHAr\n",
    "cdw_sapp_credit=cdw_sapp_credit.withColumn(\"CUST_CC_NO\", col(\"CREDIT_CARD_NO\").cast(\"VARCHAR(20)\")\n",
    "                           ).withColumn(\"TIMEID\", col(\"TIMEID\").cast(\"VARCHAR(20)\")\n",
    "                           ).withColumn(\"CUST_SSN\", col(\"CUST_SSN\").cast(\"INT\")\n",
    "                           ).withColumn(\"BRANCH_CODE\", col(\"BRANCH_CODE\").cast(\"INT\")\n",
    "                           ).withColumn(\"TRANSACTION_TYPE\", col(\"TRANSACTION_TYPE\").cast(\"VARCHAR(20)\")\n",
    "                           ).withColumn(\"TRANSACTION_VALUE\", col(\"TRANSACTION_VALUE\").cast(\"DOUBLE\")\n",
    "                           ).withColumn(\"TRANSACTION_ID\", col(\"TRANSACTION_ID\").cast(\"INT\"))\n",
    "\n",
    "\n"
   ]
  },
  {
   "cell_type": "code",
   "execution_count": 42,
   "metadata": {},
   "outputs": [],
   "source": [
    "df_cdw_sapp_credit= cdw_sapp_credit.select(\"CUST_CC_NO\", \"TIMEID\",\"CUST_SSN\",\"BRANCH_CODE\",\"TRANSACTION_TYPE\",\"TRANSACTION_VALUE\",\"TRANSACTION_ID\")"
   ]
  },
  {
   "cell_type": "code",
   "execution_count": 43,
   "metadata": {},
   "outputs": [
    {
     "data": {
      "text/plain": [
       "[('CUST_CC_NO', 'string'),\n",
       " ('TIMEID', 'string'),\n",
       " ('CUST_SSN', 'int'),\n",
       " ('BRANCH_CODE', 'int'),\n",
       " ('TRANSACTION_TYPE', 'string'),\n",
       " ('TRANSACTION_VALUE', 'double'),\n",
       " ('TRANSACTION_ID', 'int')]"
      ]
     },
     "execution_count": 43,
     "metadata": {},
     "output_type": "execute_result"
    }
   ],
   "source": [
    "df_cdw_sapp_credit.dtypes"
   ]
  },
  {
   "cell_type": "code",
   "execution_count": 44,
   "metadata": {},
   "outputs": [
    {
     "name": "stdout",
     "output_type": "stream",
     "text": [
      "+---------+----------+-----------+---------+----------------+--------------------+------------+----------+-------------+--------+----------+-------------------+--------------------+\n",
      "|      SSN|FIRST_NAME|MIDDLE_NAME|LAST_NAME|  CREDIT_CARD_NO| FULL_STREET_ADDRESS|   CUST_CITY|CUST_STATE| CUST_COUNTRY|CUST_ZIP|CUST_PHONE|         CUST_EMAIL|        LAST_UPDATED|\n",
      "+---------+----------+-----------+---------+----------------+--------------------+------------+----------+-------------+--------+----------+-------------------+--------------------+\n",
      "|123456100|      Alec|         wm|   Hooper|4210653310061055|Main Street North...|     Natchez|        MS|United States|   39120|(123)781-8|AHooper@example.com|2018-04-21T12:49:...|\n",
      "|123453023|      Etta|    brendan|   Holman|4210653310102868|   Redwood Drive,829|Wethersfield|        CT|United States|   06109|(123)893-3|EHolman@example.com|2018-04-21T12:49:...|\n",
      "|123454487|    Wilber|   ezequiel|   Dunham|4210653310116272|12th Street East,683|     Huntley|        IL|United States|   60142|(124)301-8|WDunham@example.com|2018-04-21T12:49:...|\n",
      "|123459758|   Eugenio|      trina|    Hardy|4210653310195948|Country Club Road...|   NewBerlin|        WI|United States|   53151|(124)321-5| EHardy@example.com|2018-04-21T12:49:...|\n",
      "|123454431|   Wilfred|        may|    Ayers|4210653310356919|  Madison Street,301|      ElPaso|        TX|United States|   79930|(124)207-4| WAyers@example.com|2018-04-21T12:49:...|\n",
      "+---------+----------+-----------+---------+----------------+--------------------+------------+----------+-------------+--------+----------+-------------------+--------------------+\n",
      "only showing top 5 rows\n",
      "\n"
     ]
    }
   ],
   "source": [
    "df_cdw_sapp_custmer=cdw_sapp_custmer.select(\"SSN\", \"FIRST_NAME\",\"MIDDLE_NAME\",\"LAST_NAME\",\"CREDIT_CARD_NO\",\"FULL_STREET_ADDRESS\",\"CUST_CITY\",\"CUST_STATE\",\"CUST_COUNTRY\",\"CUST_ZIP\",\"CUST_PHONE\",\"CUST_EMAIL\",\"LAST_UPDATED\")\n",
    "df_cdw_sapp_custmer.show(5)\n",
    "\n"
   ]
  },
  {
   "cell_type": "code",
   "execution_count": 45,
   "metadata": {},
   "outputs": [
    {
     "name": "stdout",
     "output_type": "stream",
     "text": [
      "+-----------+------------+-----------------+-----------------+------------+----------+-------------+--------------------+\n",
      "|BRANCH_CODE| BRANCH_NAME|    BRANCH_STREET|      BRANCH_CITY|BRANCH_STATE|BRANCH_ZIP| BRANCH_PHONE|        LAST_UPDATED|\n",
      "+-----------+------------+-----------------+-----------------+------------+----------+-------------+--------------------+\n",
      "|          1|Example Bank|     Bridle Court|        Lakeville|          MN|     55044|(123)456-5276|2018-04-18T16:51:...|\n",
      "|          2|Example Bank|Washington Street|          Huntley|          IL|     60142|(123)461-8993|2018-04-18T16:51:...|\n",
      "|          3|Example Bank|    Warren Street|SouthRichmondHill|          NY|     11419|(123)498-5926|2018-04-18T16:51:...|\n",
      "|          4|Example Bank| Cleveland Street|       Middleburg|          FL|     32068|(123)466-3064|2018-04-18T16:51:...|\n",
      "|          5|Example Bank|      14th Street|    KingOfPrussia|          PA|     19406|(123)484-9701|2018-04-18T16:51:...|\n",
      "+-----------+------------+-----------------+-----------------+------------+----------+-------------+--------------------+\n",
      "only showing top 5 rows\n",
      "\n"
     ]
    }
   ],
   "source": [
    "#Making ready datas to load on database\n",
    "df_cdw_sapp_branch=cdw_sapp_branch.select(\"BRANCH_CODE\",\"BRANCH_NAME\",\"BRANCH_STREET\",\"BRANCH_CITY\", \"BRANCH_STATE\",\"BRANCH_ZIP\",\"BRANCH_PHONE\" ,\"LAST_UPDATED\")\n",
    "df_cdw_sapp_branch.show(5)\n",
    "\n"
   ]
  },
  {
   "cell_type": "markdown",
   "metadata": {},
   "source": [
    "df_cdw_sapp_custmer\n",
    "df_cdw_sapp_branch"
   ]
  },
  {
   "cell_type": "code",
   "execution_count": null,
   "metadata": {},
   "outputs": [],
   "source": [
    "#Create a Database in SQL(MySQL), named “creditcard_capstone.”\n",
    "\n",
    "#) Create a Python and Pyspark Program to load/write the “Credit card System Data” into RDBMS(creditcard_capstone).\n",
    "# Tables should be created by the following names in RDBMS:\n",
    "# CDW_SAPP_BRANCH\n",
    "# CDW_SAPP_CREDIT_CARD\n",
    "# CDW_SAPP_CUSTOMER\n"
   ]
  },
  {
   "cell_type": "code",
   "execution_count": 22,
   "metadata": {},
   "outputs": [
    {
     "data": {
      "text/plain": [
       "<pyspark.sql.readwriter.DataFrameWriter at 0x255f9da05e0>"
      ]
     },
     "execution_count": 22,
     "metadata": {},
     "output_type": "execute_result"
    }
   ],
   "source": [
    "spark = SparkSession.builder.master(\"local[*]\").appName(\"creditcard_capstone\").getOrCreate()\n",
    "\n",
    "# Write the spark DataFrame into CompanyABC_DB database \n",
    "# Use CompanyABC_DB database url and credentials\n",
    "# Table name CompanyABC_stock\n",
    "cdw_sapp_branch_json.write.format(\"jdbc\") \\\n",
    "  .mode(\"append\") \\\n",
    "  .option(\"url\", \"jdbc:mysql://localhost:3306/creditcard_capstone\") \\\n",
    "  .option(\"dbtable\", \"df_cdw_sapp_branch\") \\\n",
    "  .option(\"dbtable\", \"df_cdw_sapp_credit\") \\\n",
    "  .option(\"dbtable\", \"df_cdw_sapp_custmer\") \\\n",
    "  .option(\"user\", \"root\") \\\n",
    "  .option(\"password\", \"Godislove@123\") \\\n",
    "  .save()"
   ]
  },
  {
   "cell_type": "code",
   "execution_count": null,
   "metadata": {},
   "outputs": [],
   "source": [
    "\n",
    "\n",
    "# df_Price.write.format(\"jdbc\") \\\n",
    "#   .mode(\"append\") \\\n",
    "#   .option(\"url\", \"jdbc:mysql://localhost:3306/creditcard_capstone\") \\\n",
    "#   .option(\"dbtable\", \"CDW_SAPP_BRANCH\") \\\n",
    "#   .option(\"dbtable\", \"DW_SAPP_CREDIT_CARD\") \\\n",
    "#   .option(\"dbtable\", \"CDW_SAPP_CUSTOMER\") \\\n",
    "#   .option(\"user\", secret.mysql_username) \\\n",
    "#   .option(\"password\", secrets.mysql_password) \\\n",
    "#   .save()"
   ]
  },
  {
   "cell_type": "markdown",
   "metadata": {},
   "source": [
    "###2. Functional Requirements - Application Front-End#"
   ]
  },
  {
   "cell_type": "markdown",
   "metadata": {},
   "source": [
    "Functional Requirements 2.1 \n",
    "\n",
    "1) Used to display the transactions made by customers living in a\n",
    "given zip code for a given month and year. Order by day in\n",
    "descending order.\n",
    "2) Used to display the number and total values of transactions for a\n",
    "given type.\n",
    "3) Used to display the total number and total values of transactions\n",
    "for branches in a given state."
   ]
  },
  {
   "cell_type": "markdown",
   "metadata": {},
   "source": [
    "cdw_sapp_credit_json Have  CUST_SSN which is the primary key and TRANSACTION_ID, YEAR, DAY\n",
    "\n",
    "cdw_sapp_custmer_json Have CUST SSN, CUST_ZIP\n"
   ]
  },
  {
   "cell_type": "code",
   "execution_count": 23,
   "metadata": {},
   "outputs": [
    {
     "name": "stdout",
     "output_type": "stream",
     "text": [
      "+----------------+--------+---------+-----------+----------------+-----------------+--------------+\n",
      "|      CUST_CC_NO|  TIMEID| CUST_SSN|BRANCH_CODE|TRANSACTION_TYPE|TRANSACTION_VALUE|TRANSACTION_ID|\n",
      "+----------------+--------+---------+-----------+----------------+-----------------+--------------+\n",
      "|4210653349028689|20180214|123459988|        114|       Education|             78.9|             1|\n",
      "|4210653349028689|20180320|123459988|         35|   Entertainment|            14.24|             2|\n",
      "|4210653349028689|20180708|123459988|        160|         Grocery|             56.7|             3|\n",
      "|4210653349028689|20180419|123459988|        114|   Entertainment|            59.73|             4|\n",
      "|4210653349028689|20181010|123459988|         93|             Gas|             3.59|             5|\n",
      "+----------------+--------+---------+-----------+----------------+-----------------+--------------+\n",
      "only showing top 5 rows\n",
      "\n",
      "+----------------+--------+---------+-----------+----------------+-----------------+--------------+----+-----+---+\n",
      "|      CUST_CC_NO|  TIMEID| CUST_SSN|BRANCH_CODE|TRANSACTION_TYPE|TRANSACTION_VALUE|TRANSACTION_ID|YEAR|MONTH|DAY|\n",
      "+----------------+--------+---------+-----------+----------------+-----------------+--------------+----+-----+---+\n",
      "|4210653349028689|20180214|123459988|        114|       Education|             78.9|             1|2018|   02| 14|\n",
      "|4210653349028689|20180320|123459988|         35|   Entertainment|            14.24|             2|2018|   03| 20|\n",
      "|4210653349028689|20180708|123459988|        160|         Grocery|             56.7|             3|2018|   07| 08|\n",
      "|4210653349028689|20180419|123459988|        114|   Entertainment|            59.73|             4|2018|   04| 19|\n",
      "|4210653349028689|20181010|123459988|         93|             Gas|             3.59|             5|2018|   10| 10|\n",
      "+----------------+--------+---------+-----------+----------------+-----------------+--------------+----+-----+---+\n",
      "only showing top 5 rows\n",
      "\n"
     ]
    }
   ],
   "source": [
    "#def transaction()\n",
    "# Get zip_code, Month, year from the user\n",
    "zip_code = input(\"Please enter the Zip code: \")\n",
    "Month = input(\"Please enter the month: \")\n",
    "Year = input(\"Please enter the year\")\n",
    "\n",
    "#Split the TIMEID in to Day, Month and Year before satrt the quary \n",
    "df_cdw_sapp_credit.show(5)\n",
    "\n",
    "#use lpad function to for month and day because some of them put as one degit\n",
    "\n",
    "df_TIMEID = df_cdw_sapp_credit.withColumn(\"YEAR\", substring(col(\"TIMEID\"), 1,4).cast(\"VARCHAR(20)\")\n",
    "                                          ).withColumn(\"MONTH\", (substring(col(\"TIMEID\"), 5,2).cast(\"VARCHAR(20)\"))\n",
    "                                          ).withColumn(\"DAY\", (substring(col(\"TIMEID\"), 7,5).cast(\"VARCHAR(20)\")))\n",
    "\n",
    "\n",
    "\n",
    "df_TIMEID.show(5)\n",
    "\n",
    "\n",
    "#transaction = cdw"
   ]
  },
  {
   "cell_type": "code",
   "execution_count": null,
   "metadata": {},
   "outputs": [],
   "source": [
    "#spark = SparkSession.builder.master(\"local[*]\").appName(\"Test SQL app\").getOrCreate()\n",
    "\n",
    "#Used to display the transactions made by customers living in a given zip code for a given month and year. \n",
    "#Order by day in descending order.\n",
    "\n"
   ]
  },
  {
   "cell_type": "markdown",
   "metadata": {},
   "source": [
    "We hav 3 data table now we will create temporary view for each table with out modiffing the orginal file query from tep \n",
    "df_cdw_sapp_branch \n",
    "df_cdw_sapp_credit\n",
    "df_CDW_SAPP_CREDIT_CARD"
   ]
  },
  {
   "cell_type": "code",
   "execution_count": 24,
   "metadata": {},
   "outputs": [
    {
     "name": "stdout",
     "output_type": "stream",
     "text": [
      "+----------------+--------+---------+-----------+----------------+-----------------+--------------+----+-----+---+\n",
      "|      CUST_CC_NO|  TIMEID| CUST_SSN|BRANCH_CODE|TRANSACTION_TYPE|TRANSACTION_VALUE|TRANSACTION_ID|YEAR|MONTH|DAY|\n",
      "+----------------+--------+---------+-----------+----------------+-----------------+--------------+----+-----+---+\n",
      "|4210653349028689|20180214|123459988|        114|       Education|             78.9|             1|2018|   02| 14|\n",
      "|4210653349028689|20180320|123459988|         35|   Entertainment|            14.24|             2|2018|   03| 20|\n",
      "|4210653349028689|20180708|123459988|        160|         Grocery|             56.7|             3|2018|   07| 08|\n",
      "|4210653349028689|20180419|123459988|        114|   Entertainment|            59.73|             4|2018|   04| 19|\n",
      "|4210653349028689|20181010|123459988|         93|             Gas|             3.59|             5|2018|   10| 10|\n",
      "+----------------+--------+---------+-----------+----------------+-----------------+--------------+----+-----+---+\n",
      "only showing top 5 rows\n",
      "\n",
      "+----------+------+--------+-----------+----------------+-----------------+--------------+----+-----+---+---+----------+-----------+---------+--------------+-------------------+---------+----------+------------+--------+----------+----------+------------+\n",
      "|CUST_CC_NO|TIMEID|CUST_SSN|BRANCH_CODE|TRANSACTION_TYPE|TRANSACTION_VALUE|TRANSACTION_ID|YEAR|MONTH|DAY|SSN|FIRST_NAME|MIDDLE_NAME|LAST_NAME|CREDIT_CARD_NO|FULL_STREET_ADDRESS|CUST_CITY|CUST_STATE|CUST_COUNTRY|CUST_ZIP|CUST_PHONE|CUST_EMAIL|LAST_UPDATED|\n",
      "+----------+------+--------+-----------+----------------+-----------------+--------------+----+-----+---+---+----------+-----------+---------+--------------+-------------------+---------+----------+------------+--------+----------+----------+------------+\n",
      "+----------+------+--------+-----------+----------------+-----------------+--------------+----+-----+---+---+----------+-----------+---------+--------------+-------------------+---------+----------+------------+--------+----------+----------+------------+\n",
      "\n"
     ]
    }
   ],
   "source": [
    "#creat temporary from the datafream df_cdw_sapp_credit\n",
    "df_cdw_sapp_credit.createOrReplaceTempView(\"credit_card\")\n",
    "\n",
    "df_cdw_sapp_custmer.createOrReplaceTempView(\"Custmer\")\n",
    "\n",
    "df_cdw_sapp_branch.createOrReplaceTempView(\"branch\")\n",
    "\n",
    "#use spark.sql to query the view and show\n",
    "lol = spark.sql(\"SELECT * FROM credit_Card\")\n",
    "\n",
    "#Conver TIMEID to Month and Year by spelit or using substring slicing \n",
    "df_TIMEID = lol.withColumn(\"YEAR\", substring(col(\"TIMEID\"), 1,4).cast(\"VARCHAR(20)\")\n",
    "                                          ).withColumn(\"MONTH\", (substring(col(\"TIMEID\"), 5,2).cast(\"VARCHAR(20)\"))\n",
    "                                          ).withColumn(\"DAY\", (substring(col(\"TIMEID\"), 7,5).cast(\"VARCHAR(20)\")))\n",
    "\n",
    "\n",
    "df_TIMEID.createOrReplaceTempView(\"df_TIMEID\")\n",
    "df_TIMEID.show(5)\n",
    "\n",
    "# Used to display the transactions made by customers living in agiven zip code for a given month and year.\n",
    "#  Order by day in descending order.\n",
    "\n",
    "spark_sql = f\"\"\" SELECT t.*,c.* FROM df_TIMEID t INNER JOIN custmer c ON t.CUST_SSN = c.SSN WHERE c.CUST_ZIP = '{zip_code}' AND t.MONTH ='{Month}' AND t.YEAR = '{Year}' ORDER BY t.DAY DESC\"\"\"\n",
    "\n",
    "result = spark.sql(spark_sql)    \n",
    "result.show() \n",
    "          \n",
    "          #SELECT * FROM df_TIMEID d INNER JOIN c on d.CREDIT_CARD_NO = c.CREDIT_CARD_NO where d.CUST_ZIP = '{zip_code}'\").show()\n",
    "\n",
    "\n"
   ]
  },
  {
   "cell_type": "code",
   "execution_count": 25,
   "metadata": {},
   "outputs": [
    {
     "name": "stdout",
     "output_type": "stream",
     "text": [
      "+---------------+---+\n",
      "|TRANSATION_TYPE|Gas|\n",
      "+---------------+---+\n",
      "|           6605|Gas|\n",
      "+---------------+---+\n",
      "\n"
     ]
    }
   ],
   "source": [
    "#2) Used to display the number and total values of transactions for agiven type.\n",
    "\n",
    "type = input(\"Please enter a transactions type: \")\n",
    "\n",
    "#use count to get total number of transaction\n",
    "\n",
    "spark_sql= f\"\"\" SELECT COUNT(*) AS TRANSATION_TYPE, '{type}' FROM df_TIMEID WHERE df_TIMEID.TRANSACTION_TYPE = '{type}'\"\"\"\n",
    "\n",
    "result = spark.sql(spark_sql)    \n",
    "result.show() \n",
    "          "
   ]
  },
  {
   "cell_type": "code",
   "execution_count": 26,
   "metadata": {},
   "outputs": [
    {
     "name": "stdout",
     "output_type": "stream",
     "text": [
      "+-----+-----------------+-----------------------+\n",
      "|STATE|TOTAL_TRANSACTION|TOTAL_TRANSACTION_VALUE|\n",
      "+-----+-----------------+-----------------------+\n",
      "|   WA|              833|      43439.25999999999|\n",
      "+-----+-----------------+-----------------------+\n",
      "\n"
     ]
    }
   ],
   "source": [
    "#3) Used to display the total number and total values of transactions for branches in a given state.\n",
    "\n",
    "State = input(\"Please enter the state like(WA): \")\n",
    "\n",
    "spark_sql =f\"\"\" SELECT '{State}' AS STATE, COUNT(df_TIMEID.TRANSACTION_ID) AS TOTAL_TRANSACTION, \n",
    "SUM(df_TIMEID.TRANSACTION_VALUE) AS TOTAL_TRANSACTION_VALUE \n",
    "FROM df_TIMEID JOIN branch ON branch.BRANCH_CODE = df_TIMEID.BRANCH_CODE \n",
    "WHERE branch.BRANCH_STATE = '{State}' \"\"\"\n",
    "\n",
    "\n",
    "result = spark.sql(spark_sql)    \n",
    "result.show() \n",
    "\n",
    "\n",
    "\n",
    "\n"
   ]
  },
  {
   "cell_type": "markdown",
   "metadata": {},
   "source": [
    "2.2 Customer Details Module\n",
    "Req-2.2 Customer Details\n",
    "Functional\n",
    "Requirements 2.2\n",
    "1) Used to check the existing account details of a customer.\n",
    "2) Used to modify the existing account details of a customer.\n",
    "3) Used to generate a monthly bill for a credit card number for a\n",
    "given month and year.\n",
    "4) Used to display the transactions made by a customer between\n",
    "two dates. Order by year, month, and day in descending order"
   ]
  },
  {
   "cell_type": "code",
   "execution_count": 28,
   "metadata": {},
   "outputs": [
    {
     "name": "stdout",
     "output_type": "stream",
     "text": [
      "+---------+----------+-----------+---------+----------------+--------------------+---------+----------+-------------+--------+----------+-------------------+--------------------+\n",
      "|      SSN|FIRST_NAME|MIDDLE_NAME|LAST_NAME|  CREDIT_CARD_NO| FULL_STREET_ADDRESS|CUST_CITY|CUST_STATE| CUST_COUNTRY|CUST_ZIP|CUST_PHONE|         CUST_EMAIL|        LAST_UPDATED|\n",
      "+---------+----------+-----------+---------+----------------+--------------------+---------+----------+-------------+--------+----------+-------------------+--------------------+\n",
      "|123456100|      Alec|         wm|   Hooper|4210653310061055|Main Street North...|  Natchez|        MS|United States|   39120|(123)781-8|AHooper@example.com|2018-04-21T12:49:...|\n",
      "+---------+----------+-----------+---------+----------------+--------------------+---------+----------+-------------+--------+----------+-------------------+--------------------+\n",
      "\n"
     ]
    }
   ],
   "source": [
    "#1) Used to check the existing account details of a customer.\n",
    "\n",
    "SSN = input(\"Please enter the 9 digit of customer SSN(123456100): \")\n",
    "\n",
    "#spark_Sqll = f\"\"\" SELECT '{SSN}', CREDIT_CARD_NO, FIRST_NAME,MIDDLE_NAME,LAST_NAME, CREDIT_CARD_NO, FULL_STREET_ADDRESS, CUST_CITY,CUST_STATE\n",
    "spark_Sql = f\"\"\" SELECT * FROM Custmer WHERE '{SSN}' = SSN \"\"\"\n",
    "result = spark.sql(spark_Sql)\n",
    "result.show()\n"
   ]
  },
  {
   "cell_type": "code",
   "execution_count": 28,
   "metadata": {},
   "outputs": [
    {
     "name": "stdout",
     "output_type": "stream",
     "text": [
      "The table df_cdw_sapp_credit does not exist\n"
     ]
    }
   ],
   "source": [
    "#2) Used to modify the existing account details of a customer\n",
    "\n",
    "spark = SparkSession.builder.master(\"local[*]\").appName(\"creditcard_capstone\").getOrCreate()\n",
    "\n",
    "if \"df_cdw_sapp_credit\" in spark.catalog.listTables():\n",
    "\n",
    "    customer_details = spark.read.table(\"df_cdw_sapp_custmer\")\n",
    "    SSN = input(\"Please enter the 9 digits of Customer SSN(123456000): \")\n",
    "\n",
    "\n",
    "    Custumer_Info = int(input(\"Please enter the number you wish to change:\\n1,FIRST_NAME \\n2,MIDDLE_NAME \\n3,LAST_NAME \\n4,CREDIT_CARD_NO \\n5,FULL_STREET_ADDRESS \\n6,CUST_CITY \\n7,CUST_STATE \\n8,CUST_COUNTRY \\n9,CUST_ZIP \\n10, CUST_PHONE: \")) \n",
    "    update = input(\"Please enter new change: \")\n",
    "\n",
    "    columns = [\"FIRST_NAME\",\"MIDDLE_NAME\",\"LAST_NAME\",\"CREDIT_CARD_NO\",\"FULL_STREET_ADDRESS\",\"CUST_CITY\", \"CUST_STATE\",\"CUST_COUNTRY\",\"CUST_ZIP\",\"CUST_PHON\"]\n",
    "    column_update = columns[update -1]\n",
    "else:\n",
    "    print(\"The table df_cdw_sapp_credit does not exist\")"
   ]
  },
  {
   "cell_type": "code",
   "execution_count": null,
   "metadata": {},
   "outputs": [],
   "source": []
  },
  {
   "cell_type": "code",
   "execution_count": 93,
   "metadata": {},
   "outputs": [
    {
     "ename": "Py4JJavaError",
     "evalue": "An error occurred while calling o25.sql.\n: org.apache.spark.SparkUnsupportedOperationException: UPDATE TABLE is not supported temporarily.\r\n\tat org.apache.spark.sql.errors.QueryExecutionErrors$.ddlUnsupportedTemporarilyError(QueryExecutionErrors.scala:1109)\r\n\tat org.apache.spark.sql.execution.SparkStrategies$BasicOperators$.apply(SparkStrategies.scala:896)\r\n\tat org.apache.spark.sql.catalyst.planning.QueryPlanner.$anonfun$plan$1(QueryPlanner.scala:63)\r\n\tat scala.collection.Iterator$$anon$11.nextCur(Iterator.scala:486)\r\n\tat scala.collection.Iterator$$anon$11.hasNext(Iterator.scala:492)\r\n\tat scala.collection.Iterator$$anon$11.hasNext(Iterator.scala:491)\r\n\tat org.apache.spark.sql.catalyst.planning.QueryPlanner.plan(QueryPlanner.scala:93)\r\n\tat org.apache.spark.sql.execution.SparkStrategies.plan(SparkStrategies.scala:70)\r\n\tat org.apache.spark.sql.catalyst.planning.QueryPlanner.$anonfun$plan$3(QueryPlanner.scala:78)\r\n\tat scala.collection.TraversableOnce$folder$1.apply(TraversableOnce.scala:196)\r\n\tat scala.collection.TraversableOnce$folder$1.apply(TraversableOnce.scala:194)\r\n\tat scala.collection.Iterator.foreach(Iterator.scala:943)\r\n\tat scala.collection.Iterator.foreach$(Iterator.scala:943)\r\n\tat scala.collection.AbstractIterator.foreach(Iterator.scala:1431)\r\n\tat scala.collection.TraversableOnce.foldLeft(TraversableOnce.scala:199)\r\n\tat scala.collection.TraversableOnce.foldLeft$(TraversableOnce.scala:192)\r\n\tat scala.collection.AbstractIterator.foldLeft(Iterator.scala:1431)\r\n\tat org.apache.spark.sql.catalyst.planning.QueryPlanner.$anonfun$plan$2(QueryPlanner.scala:75)\r\n\tat scala.collection.Iterator$$anon$11.nextCur(Iterator.scala:486)\r\n\tat scala.collection.Iterator$$anon$11.hasNext(Iterator.scala:492)\r\n\tat org.apache.spark.sql.catalyst.planning.QueryPlanner.plan(QueryPlanner.scala:93)\r\n\tat org.apache.spark.sql.execution.SparkStrategies.plan(SparkStrategies.scala:70)\r\n\tat org.apache.spark.sql.execution.QueryExecution$.createSparkPlan(QueryExecution.scala:476)\r\n\tat org.apache.spark.sql.execution.QueryExecution.$anonfun$sparkPlan$1(QueryExecution.scala:162)\r\n\tat org.apache.spark.sql.catalyst.QueryPlanningTracker.measurePhase(QueryPlanningTracker.scala:111)\r\n\tat org.apache.spark.sql.execution.QueryExecution.$anonfun$executePhase$2(QueryExecution.scala:202)\r\n\tat org.apache.spark.sql.execution.QueryExecution$.withInternalError(QueryExecution.scala:526)\r\n\tat org.apache.spark.sql.execution.QueryExecution.$anonfun$executePhase$1(QueryExecution.scala:202)\r\n\tat org.apache.spark.sql.SparkSession.withActive(SparkSession.scala:827)\r\n\tat org.apache.spark.sql.execution.QueryExecution.executePhase(QueryExecution.scala:201)\r\n\tat org.apache.spark.sql.execution.QueryExecution.sparkPlan$lzycompute(QueryExecution.scala:162)\r\n\tat org.apache.spark.sql.execution.QueryExecution.sparkPlan(QueryExecution.scala:155)\r\n\tat org.apache.spark.sql.execution.QueryExecution.$anonfun$executedPlan$1(QueryExecution.scala:175)\r\n\tat org.apache.spark.sql.catalyst.QueryPlanningTracker.measurePhase(QueryPlanningTracker.scala:111)\r\n\tat org.apache.spark.sql.execution.QueryExecution.$anonfun$executePhase$2(QueryExecution.scala:202)\r\n\tat org.apache.spark.sql.execution.QueryExecution$.withInternalError(QueryExecution.scala:526)\r\n\tat org.apache.spark.sql.execution.QueryExecution.$anonfun$executePhase$1(QueryExecution.scala:202)\r\n\tat org.apache.spark.sql.SparkSession.withActive(SparkSession.scala:827)\r\n\tat org.apache.spark.sql.execution.QueryExecution.executePhase(QueryExecution.scala:201)\r\n\tat org.apache.spark.sql.execution.QueryExecution.executedPlan$lzycompute(QueryExecution.scala:175)\r\n\tat org.apache.spark.sql.execution.QueryExecution.executedPlan(QueryExecution.scala:168)\r\n\tat org.apache.spark.sql.execution.QueryExecution.simpleString(QueryExecution.scala:221)\r\n\tat org.apache.spark.sql.execution.QueryExecution.org$apache$spark$sql$execution$QueryExecution$$explainString(QueryExecution.scala:266)\r\n\tat org.apache.spark.sql.execution.QueryExecution.explainString(QueryExecution.scala:235)\r\n\tat org.apache.spark.sql.execution.SQLExecution$.$anonfun$withNewExecutionId$6(SQLExecution.scala:112)\r\n\tat org.apache.spark.sql.execution.SQLExecution$.withSQLConfPropagated(SQLExecution.scala:195)\r\n\tat org.apache.spark.sql.execution.SQLExecution$.$anonfun$withNewExecutionId$1(SQLExecution.scala:103)\r\n\tat org.apache.spark.sql.SparkSession.withActive(SparkSession.scala:827)\r\n\tat org.apache.spark.sql.execution.SQLExecution$.withNewExecutionId(SQLExecution.scala:65)\r\n\tat org.apache.spark.sql.execution.QueryExecution$$anonfun$eagerlyExecuteCommands$1.applyOrElse(QueryExecution.scala:98)\r\n\tat org.apache.spark.sql.execution.QueryExecution$$anonfun$eagerlyExecuteCommands$1.applyOrElse(QueryExecution.scala:94)\r\n\tat org.apache.spark.sql.catalyst.trees.TreeNode.$anonfun$transformDownWithPruning$1(TreeNode.scala:512)\r\n\tat org.apache.spark.sql.catalyst.trees.CurrentOrigin$.withOrigin(TreeNode.scala:104)\r\n\tat org.apache.spark.sql.catalyst.trees.TreeNode.transformDownWithPruning(TreeNode.scala:512)\r\n\tat org.apache.spark.sql.catalyst.plans.logical.LogicalPlan.org$apache$spark$sql$catalyst$plans$logical$AnalysisHelper$$super$transformDownWithPruning(LogicalPlan.scala:31)\r\n\tat org.apache.spark.sql.catalyst.plans.logical.AnalysisHelper.transformDownWithPruning(AnalysisHelper.scala:267)\r\n\tat org.apache.spark.sql.catalyst.plans.logical.AnalysisHelper.transformDownWithPruning$(AnalysisHelper.scala:263)\r\n\tat org.apache.spark.sql.catalyst.plans.logical.LogicalPlan.transformDownWithPruning(LogicalPlan.scala:31)\r\n\tat org.apache.spark.sql.catalyst.plans.logical.LogicalPlan.transformDownWithPruning(LogicalPlan.scala:31)\r\n\tat org.apache.spark.sql.catalyst.trees.TreeNode.transformDown(TreeNode.scala:488)\r\n\tat org.apache.spark.sql.execution.QueryExecution.eagerlyExecuteCommands(QueryExecution.scala:94)\r\n\tat org.apache.spark.sql.execution.QueryExecution.commandExecuted$lzycompute(QueryExecution.scala:81)\r\n\tat org.apache.spark.sql.execution.QueryExecution.commandExecuted(QueryExecution.scala:79)\r\n\tat org.apache.spark.sql.Dataset.<init>(Dataset.scala:219)\r\n\tat org.apache.spark.sql.Dataset$.$anonfun$ofRows$2(Dataset.scala:99)\r\n\tat org.apache.spark.sql.SparkSession.withActive(SparkSession.scala:827)\r\n\tat org.apache.spark.sql.Dataset$.ofRows(Dataset.scala:96)\r\n\tat org.apache.spark.sql.SparkSession.$anonfun$sql$1(SparkSession.scala:640)\r\n\tat org.apache.spark.sql.SparkSession.withActive(SparkSession.scala:827)\r\n\tat org.apache.spark.sql.SparkSession.sql(SparkSession.scala:630)\r\n\tat org.apache.spark.sql.SparkSession.sql(SparkSession.scala:662)\r\n\tat jdk.internal.reflect.GeneratedMethodAccessor60.invoke(Unknown Source)\r\n\tat java.base/jdk.internal.reflect.DelegatingMethodAccessorImpl.invoke(DelegatingMethodAccessorImpl.java:52)\r\n\tat java.base/java.lang.reflect.Method.invoke(Method.java:578)\r\n\tat py4j.reflection.MethodInvoker.invoke(MethodInvoker.java:244)\r\n\tat py4j.reflection.ReflectionEngine.invoke(ReflectionEngine.java:374)\r\n\tat py4j.Gateway.invoke(Gateway.java:282)\r\n\tat py4j.commands.AbstractCommand.invokeMethod(AbstractCommand.java:132)\r\n\tat py4j.commands.CallCommand.execute(CallCommand.java:79)\r\n\tat py4j.ClientServerConnection.waitForCommands(ClientServerConnection.java:182)\r\n\tat py4j.ClientServerConnection.run(ClientServerConnection.java:106)\r\n\tat java.base/java.lang.Thread.run(Thread.java:1623)\r\n",
     "output_type": "error",
     "traceback": [
      "\u001b[1;31m---------------------------------------------------------------------------\u001b[0m",
      "\u001b[1;31mPy4JJavaError\u001b[0m                             Traceback (most recent call last)",
      "\u001b[1;32md:\\Perscholas\\Ayele Capstone Project\\CreditCardSystem.ipynb Cell 45\u001b[0m line \u001b[0;36m2\n\u001b[0;32m     <a href='vscode-notebook-cell:/d%3A/Perscholas/Ayele%20Capstone%20Project/CreditCardSystem.ipynb#Y100sZmlsZQ%3D%3D?line=21'>22</a>\u001b[0m    spark_sql \u001b[39m+\u001b[39m\u001b[39m=\u001b[39m \u001b[39mf\u001b[39m\u001b[39m\"\u001b[39m\u001b[39m,CREDIT_CARD_NO= \u001b[39m\u001b[39m'\u001b[39m\u001b[39m{\u001b[39;00mCREDIT_CARD_NO\u001b[39m}\u001b[39;00m\u001b[39m'\u001b[39m\u001b[39m\"\u001b[39m\n\u001b[0;32m     <a href='vscode-notebook-cell:/d%3A/Perscholas/Ayele%20Capstone%20Project/CreditCardSystem.ipynb#Y100sZmlsZQ%3D%3D?line=23'>24</a>\u001b[0m \u001b[39m#Excute the MYSQL query\u001b[39;00m\n\u001b[1;32m---> <a href='vscode-notebook-cell:/d%3A/Perscholas/Ayele%20Capstone%20Project/CreditCardSystem.ipynb#Y100sZmlsZQ%3D%3D?line=24'>25</a>\u001b[0m spark\u001b[39m.\u001b[39;49msql(spark_sql)\n\u001b[0;32m     <a href='vscode-notebook-cell:/d%3A/Perscholas/Ayele%20Capstone%20Project/CreditCardSystem.ipynb#Y100sZmlsZQ%3D%3D?line=25'>26</a>\u001b[0m \u001b[39m#spark.sql(spark_sql)\u001b[39;00m\n\u001b[0;32m     <a href='vscode-notebook-cell:/d%3A/Perscholas/Ayele%20Capstone%20Project/CreditCardSystem.ipynb#Y100sZmlsZQ%3D%3D?line=27'>28</a>\u001b[0m Update_Custumer_info \u001b[39m=\u001b[39m spark\u001b[39m.\u001b[39msql(\u001b[39mf\u001b[39m\u001b[39m\"\u001b[39m\u001b[39mSELECT * FROM Custmer WHERE SSN = \u001b[39m\u001b[39m'\u001b[39m\u001b[39m{\u001b[39;00mSSN\u001b[39m}\u001b[39;00m\u001b[39m'\u001b[39m\u001b[39m\"\u001b[39m)\n",
      "File \u001b[1;32mc:\\Users\\ribka\\AppData\\Local\\Programs\\Python\\Python310\\lib\\site-packages\\pyspark\\sql\\session.py:1440\u001b[0m, in \u001b[0;36mSparkSession.sql\u001b[1;34m(self, sqlQuery, args, **kwargs)\u001b[0m\n\u001b[0;32m   1438\u001b[0m \u001b[39mtry\u001b[39;00m:\n\u001b[0;32m   1439\u001b[0m     litArgs \u001b[39m=\u001b[39m {k: _to_java_column(lit(v)) \u001b[39mfor\u001b[39;00m k, v \u001b[39min\u001b[39;00m (args \u001b[39mor\u001b[39;00m {})\u001b[39m.\u001b[39mitems()}\n\u001b[1;32m-> 1440\u001b[0m     \u001b[39mreturn\u001b[39;00m DataFrame(\u001b[39mself\u001b[39;49m\u001b[39m.\u001b[39;49m_jsparkSession\u001b[39m.\u001b[39;49msql(sqlQuery, litArgs), \u001b[39mself\u001b[39m)\n\u001b[0;32m   1441\u001b[0m \u001b[39mfinally\u001b[39;00m:\n\u001b[0;32m   1442\u001b[0m     \u001b[39mif\u001b[39;00m \u001b[39mlen\u001b[39m(kwargs) \u001b[39m>\u001b[39m \u001b[39m0\u001b[39m:\n",
      "File \u001b[1;32mc:\\Users\\ribka\\AppData\\Local\\Programs\\Python\\Python310\\lib\\site-packages\\py4j\\java_gateway.py:1322\u001b[0m, in \u001b[0;36mJavaMember.__call__\u001b[1;34m(self, *args)\u001b[0m\n\u001b[0;32m   1316\u001b[0m command \u001b[39m=\u001b[39m proto\u001b[39m.\u001b[39mCALL_COMMAND_NAME \u001b[39m+\u001b[39m\\\n\u001b[0;32m   1317\u001b[0m     \u001b[39mself\u001b[39m\u001b[39m.\u001b[39mcommand_header \u001b[39m+\u001b[39m\\\n\u001b[0;32m   1318\u001b[0m     args_command \u001b[39m+\u001b[39m\\\n\u001b[0;32m   1319\u001b[0m     proto\u001b[39m.\u001b[39mEND_COMMAND_PART\n\u001b[0;32m   1321\u001b[0m answer \u001b[39m=\u001b[39m \u001b[39mself\u001b[39m\u001b[39m.\u001b[39mgateway_client\u001b[39m.\u001b[39msend_command(command)\n\u001b[1;32m-> 1322\u001b[0m return_value \u001b[39m=\u001b[39m get_return_value(\n\u001b[0;32m   1323\u001b[0m     answer, \u001b[39mself\u001b[39;49m\u001b[39m.\u001b[39;49mgateway_client, \u001b[39mself\u001b[39;49m\u001b[39m.\u001b[39;49mtarget_id, \u001b[39mself\u001b[39;49m\u001b[39m.\u001b[39;49mname)\n\u001b[0;32m   1325\u001b[0m \u001b[39mfor\u001b[39;00m temp_arg \u001b[39min\u001b[39;00m temp_args:\n\u001b[0;32m   1326\u001b[0m     \u001b[39mif\u001b[39;00m \u001b[39mhasattr\u001b[39m(temp_arg, \u001b[39m\"\u001b[39m\u001b[39m_detach\u001b[39m\u001b[39m\"\u001b[39m):\n",
      "File \u001b[1;32mc:\\Users\\ribka\\AppData\\Local\\Programs\\Python\\Python310\\lib\\site-packages\\pyspark\\errors\\exceptions\\captured.py:169\u001b[0m, in \u001b[0;36mcapture_sql_exception.<locals>.deco\u001b[1;34m(*a, **kw)\u001b[0m\n\u001b[0;32m    167\u001b[0m \u001b[39mdef\u001b[39;00m \u001b[39mdeco\u001b[39m(\u001b[39m*\u001b[39ma: Any, \u001b[39m*\u001b[39m\u001b[39m*\u001b[39mkw: Any) \u001b[39m-\u001b[39m\u001b[39m>\u001b[39m Any:\n\u001b[0;32m    168\u001b[0m     \u001b[39mtry\u001b[39;00m:\n\u001b[1;32m--> 169\u001b[0m         \u001b[39mreturn\u001b[39;00m f(\u001b[39m*\u001b[39ma, \u001b[39m*\u001b[39m\u001b[39m*\u001b[39mkw)\n\u001b[0;32m    170\u001b[0m     \u001b[39mexcept\u001b[39;00m Py4JJavaError \u001b[39mas\u001b[39;00m e:\n\u001b[0;32m    171\u001b[0m         converted \u001b[39m=\u001b[39m convert_exception(e\u001b[39m.\u001b[39mjava_exception)\n",
      "File \u001b[1;32mc:\\Users\\ribka\\AppData\\Local\\Programs\\Python\\Python310\\lib\\site-packages\\py4j\\protocol.py:326\u001b[0m, in \u001b[0;36mget_return_value\u001b[1;34m(answer, gateway_client, target_id, name)\u001b[0m\n\u001b[0;32m    324\u001b[0m value \u001b[39m=\u001b[39m OUTPUT_CONVERTER[\u001b[39mtype\u001b[39m](answer[\u001b[39m2\u001b[39m:], gateway_client)\n\u001b[0;32m    325\u001b[0m \u001b[39mif\u001b[39;00m answer[\u001b[39m1\u001b[39m] \u001b[39m==\u001b[39m REFERENCE_TYPE:\n\u001b[1;32m--> 326\u001b[0m     \u001b[39mraise\u001b[39;00m Py4JJavaError(\n\u001b[0;32m    327\u001b[0m         \u001b[39m\"\u001b[39m\u001b[39mAn error occurred while calling \u001b[39m\u001b[39m{0}\u001b[39;00m\u001b[39m{1}\u001b[39;00m\u001b[39m{2}\u001b[39;00m\u001b[39m.\u001b[39m\u001b[39m\\n\u001b[39;00m\u001b[39m\"\u001b[39m\u001b[39m.\u001b[39m\n\u001b[0;32m    328\u001b[0m         \u001b[39mformat\u001b[39m(target_id, \u001b[39m\"\u001b[39m\u001b[39m.\u001b[39m\u001b[39m\"\u001b[39m, name), value)\n\u001b[0;32m    329\u001b[0m \u001b[39melse\u001b[39;00m:\n\u001b[0;32m    330\u001b[0m     \u001b[39mraise\u001b[39;00m Py4JError(\n\u001b[0;32m    331\u001b[0m         \u001b[39m\"\u001b[39m\u001b[39mAn error occurred while calling \u001b[39m\u001b[39m{0}\u001b[39;00m\u001b[39m{1}\u001b[39;00m\u001b[39m{2}\u001b[39;00m\u001b[39m. Trace:\u001b[39m\u001b[39m\\n\u001b[39;00m\u001b[39m{3}\u001b[39;00m\u001b[39m\\n\u001b[39;00m\u001b[39m\"\u001b[39m\u001b[39m.\u001b[39m\n\u001b[0;32m    332\u001b[0m         \u001b[39mformat\u001b[39m(target_id, \u001b[39m\"\u001b[39m\u001b[39m.\u001b[39m\u001b[39m\"\u001b[39m, name, value))\n",
      "\u001b[1;31mPy4JJavaError\u001b[0m: An error occurred while calling o25.sql.\n: org.apache.spark.SparkUnsupportedOperationException: UPDATE TABLE is not supported temporarily.\r\n\tat org.apache.spark.sql.errors.QueryExecutionErrors$.ddlUnsupportedTemporarilyError(QueryExecutionErrors.scala:1109)\r\n\tat org.apache.spark.sql.execution.SparkStrategies$BasicOperators$.apply(SparkStrategies.scala:896)\r\n\tat org.apache.spark.sql.catalyst.planning.QueryPlanner.$anonfun$plan$1(QueryPlanner.scala:63)\r\n\tat scala.collection.Iterator$$anon$11.nextCur(Iterator.scala:486)\r\n\tat scala.collection.Iterator$$anon$11.hasNext(Iterator.scala:492)\r\n\tat scala.collection.Iterator$$anon$11.hasNext(Iterator.scala:491)\r\n\tat org.apache.spark.sql.catalyst.planning.QueryPlanner.plan(QueryPlanner.scala:93)\r\n\tat org.apache.spark.sql.execution.SparkStrategies.plan(SparkStrategies.scala:70)\r\n\tat org.apache.spark.sql.catalyst.planning.QueryPlanner.$anonfun$plan$3(QueryPlanner.scala:78)\r\n\tat scala.collection.TraversableOnce$folder$1.apply(TraversableOnce.scala:196)\r\n\tat scala.collection.TraversableOnce$folder$1.apply(TraversableOnce.scala:194)\r\n\tat scala.collection.Iterator.foreach(Iterator.scala:943)\r\n\tat scala.collection.Iterator.foreach$(Iterator.scala:943)\r\n\tat scala.collection.AbstractIterator.foreach(Iterator.scala:1431)\r\n\tat scala.collection.TraversableOnce.foldLeft(TraversableOnce.scala:199)\r\n\tat scala.collection.TraversableOnce.foldLeft$(TraversableOnce.scala:192)\r\n\tat scala.collection.AbstractIterator.foldLeft(Iterator.scala:1431)\r\n\tat org.apache.spark.sql.catalyst.planning.QueryPlanner.$anonfun$plan$2(QueryPlanner.scala:75)\r\n\tat scala.collection.Iterator$$anon$11.nextCur(Iterator.scala:486)\r\n\tat scala.collection.Iterator$$anon$11.hasNext(Iterator.scala:492)\r\n\tat org.apache.spark.sql.catalyst.planning.QueryPlanner.plan(QueryPlanner.scala:93)\r\n\tat org.apache.spark.sql.execution.SparkStrategies.plan(SparkStrategies.scala:70)\r\n\tat org.apache.spark.sql.execution.QueryExecution$.createSparkPlan(QueryExecution.scala:476)\r\n\tat org.apache.spark.sql.execution.QueryExecution.$anonfun$sparkPlan$1(QueryExecution.scala:162)\r\n\tat org.apache.spark.sql.catalyst.QueryPlanningTracker.measurePhase(QueryPlanningTracker.scala:111)\r\n\tat org.apache.spark.sql.execution.QueryExecution.$anonfun$executePhase$2(QueryExecution.scala:202)\r\n\tat org.apache.spark.sql.execution.QueryExecution$.withInternalError(QueryExecution.scala:526)\r\n\tat org.apache.spark.sql.execution.QueryExecution.$anonfun$executePhase$1(QueryExecution.scala:202)\r\n\tat org.apache.spark.sql.SparkSession.withActive(SparkSession.scala:827)\r\n\tat org.apache.spark.sql.execution.QueryExecution.executePhase(QueryExecution.scala:201)\r\n\tat org.apache.spark.sql.execution.QueryExecution.sparkPlan$lzycompute(QueryExecution.scala:162)\r\n\tat org.apache.spark.sql.execution.QueryExecution.sparkPlan(QueryExecution.scala:155)\r\n\tat org.apache.spark.sql.execution.QueryExecution.$anonfun$executedPlan$1(QueryExecution.scala:175)\r\n\tat org.apache.spark.sql.catalyst.QueryPlanningTracker.measurePhase(QueryPlanningTracker.scala:111)\r\n\tat org.apache.spark.sql.execution.QueryExecution.$anonfun$executePhase$2(QueryExecution.scala:202)\r\n\tat org.apache.spark.sql.execution.QueryExecution$.withInternalError(QueryExecution.scala:526)\r\n\tat org.apache.spark.sql.execution.QueryExecution.$anonfun$executePhase$1(QueryExecution.scala:202)\r\n\tat org.apache.spark.sql.SparkSession.withActive(SparkSession.scala:827)\r\n\tat org.apache.spark.sql.execution.QueryExecution.executePhase(QueryExecution.scala:201)\r\n\tat org.apache.spark.sql.execution.QueryExecution.executedPlan$lzycompute(QueryExecution.scala:175)\r\n\tat org.apache.spark.sql.execution.QueryExecution.executedPlan(QueryExecution.scala:168)\r\n\tat org.apache.spark.sql.execution.QueryExecution.simpleString(QueryExecution.scala:221)\r\n\tat org.apache.spark.sql.execution.QueryExecution.org$apache$spark$sql$execution$QueryExecution$$explainString(QueryExecution.scala:266)\r\n\tat org.apache.spark.sql.execution.QueryExecution.explainString(QueryExecution.scala:235)\r\n\tat org.apache.spark.sql.execution.SQLExecution$.$anonfun$withNewExecutionId$6(SQLExecution.scala:112)\r\n\tat org.apache.spark.sql.execution.SQLExecution$.withSQLConfPropagated(SQLExecution.scala:195)\r\n\tat org.apache.spark.sql.execution.SQLExecution$.$anonfun$withNewExecutionId$1(SQLExecution.scala:103)\r\n\tat org.apache.spark.sql.SparkSession.withActive(SparkSession.scala:827)\r\n\tat org.apache.spark.sql.execution.SQLExecution$.withNewExecutionId(SQLExecution.scala:65)\r\n\tat org.apache.spark.sql.execution.QueryExecution$$anonfun$eagerlyExecuteCommands$1.applyOrElse(QueryExecution.scala:98)\r\n\tat org.apache.spark.sql.execution.QueryExecution$$anonfun$eagerlyExecuteCommands$1.applyOrElse(QueryExecution.scala:94)\r\n\tat org.apache.spark.sql.catalyst.trees.TreeNode.$anonfun$transformDownWithPruning$1(TreeNode.scala:512)\r\n\tat org.apache.spark.sql.catalyst.trees.CurrentOrigin$.withOrigin(TreeNode.scala:104)\r\n\tat org.apache.spark.sql.catalyst.trees.TreeNode.transformDownWithPruning(TreeNode.scala:512)\r\n\tat org.apache.spark.sql.catalyst.plans.logical.LogicalPlan.org$apache$spark$sql$catalyst$plans$logical$AnalysisHelper$$super$transformDownWithPruning(LogicalPlan.scala:31)\r\n\tat org.apache.spark.sql.catalyst.plans.logical.AnalysisHelper.transformDownWithPruning(AnalysisHelper.scala:267)\r\n\tat org.apache.spark.sql.catalyst.plans.logical.AnalysisHelper.transformDownWithPruning$(AnalysisHelper.scala:263)\r\n\tat org.apache.spark.sql.catalyst.plans.logical.LogicalPlan.transformDownWithPruning(LogicalPlan.scala:31)\r\n\tat org.apache.spark.sql.catalyst.plans.logical.LogicalPlan.transformDownWithPruning(LogicalPlan.scala:31)\r\n\tat org.apache.spark.sql.catalyst.trees.TreeNode.transformDown(TreeNode.scala:488)\r\n\tat org.apache.spark.sql.execution.QueryExecution.eagerlyExecuteCommands(QueryExecution.scala:94)\r\n\tat org.apache.spark.sql.execution.QueryExecution.commandExecuted$lzycompute(QueryExecution.scala:81)\r\n\tat org.apache.spark.sql.execution.QueryExecution.commandExecuted(QueryExecution.scala:79)\r\n\tat org.apache.spark.sql.Dataset.<init>(Dataset.scala:219)\r\n\tat org.apache.spark.sql.Dataset$.$anonfun$ofRows$2(Dataset.scala:99)\r\n\tat org.apache.spark.sql.SparkSession.withActive(SparkSession.scala:827)\r\n\tat org.apache.spark.sql.Dataset$.ofRows(Dataset.scala:96)\r\n\tat org.apache.spark.sql.SparkSession.$anonfun$sql$1(SparkSession.scala:640)\r\n\tat org.apache.spark.sql.SparkSession.withActive(SparkSession.scala:827)\r\n\tat org.apache.spark.sql.SparkSession.sql(SparkSession.scala:630)\r\n\tat org.apache.spark.sql.SparkSession.sql(SparkSession.scala:662)\r\n\tat jdk.internal.reflect.GeneratedMethodAccessor60.invoke(Unknown Source)\r\n\tat java.base/jdk.internal.reflect.DelegatingMethodAccessorImpl.invoke(DelegatingMethodAccessorImpl.java:52)\r\n\tat java.base/java.lang.reflect.Method.invoke(Method.java:578)\r\n\tat py4j.reflection.MethodInvoker.invoke(MethodInvoker.java:244)\r\n\tat py4j.reflection.ReflectionEngine.invoke(ReflectionEngine.java:374)\r\n\tat py4j.Gateway.invoke(Gateway.java:282)\r\n\tat py4j.commands.AbstractCommand.invokeMethod(AbstractCommand.java:132)\r\n\tat py4j.commands.CallCommand.execute(CallCommand.java:79)\r\n\tat py4j.ClientServerConnection.waitForCommands(ClientServerConnection.java:182)\r\n\tat py4j.ClientServerConnection.run(ClientServerConnection.java:106)\r\n\tat java.base/java.lang.Thread.run(Thread.java:1623)\r\n"
     ]
    }
   ],
   "source": [
    "#2) Used to modify the existing account details of a customer\n",
    "SSN = input(\"Please enter the 9 digits of Customer SSN(123456000): \")\n",
    "\n",
    "\n",
    "Custumer_Info = int(input(\"Please enter the number you wish to change:\\n1,FIRST_NAME \\n2,MIDDLE_NAME \\n3,LAST_NAME \\n4,CREDIT_CARD_NO \\n5,FULL_STREET_ADDRESS \\n6,CUST_CITY \\n7,CUST_STATE \\n8,CUST_COUNTRY \\n9,CUST_ZIP \\n10, CUST_PHONE: \"))       \n",
    "              \n",
    "spark_sql = f\"UPDATE Custmer SET SSN = '{SSN}'\"\n",
    "\n",
    "#spark_sql = f\"UPDATE Customer SET SSN ='{SSN}'\"\n",
    "\n",
    "if Custumer_Info == '1':\n",
    "  FIRST_NAME = input(\"Please enter the new First Name: \")\n",
    "  spark_sql += f\", FIRST_NAME = '{FIRST_NAME}'\"\n",
    "elif Custumer_Info ==2:\n",
    "  MIDDLE_NAME = input(\"Please enetr the Middle Name: \")\n",
    "  spark_sql += f\",MIDDLE_NAME = '{MIDDLE_NAME}'\"\n",
    "elif Custumer_Info ==3:\n",
    "   LAST_NAME = input(\"Please enter the new Last Name: \") \n",
    "   spark_sql += f\",LAST_NAME= '{LAST_NAME}'\"\n",
    "elif Custumer_Info ==4:\n",
    "   CREDIT_CARD_NO = input(\"Please enter new CREDIT_CARD_NO:  \")\n",
    "   spark_sql += f\",CREDIT_CARD_NO= '{CREDIT_CARD_NO}'\"\n",
    "\n",
    "#Excute the MYSQL query\n",
    "spark.sql(spark_sql)\n",
    "#spark.sql(spark_sql)\n",
    "\n",
    "Update_Custumer_info = spark.sql(f\"SELECT * FROM Custmer WHERE SSN = '{SSN}'\")\n",
    "Update_Custumer_info.show()\n"
   ]
  },
  {
   "cell_type": "markdown",
   "metadata": {},
   "source": [
    "3. Functional Requirements - Data Analysis and Visualization\n",
    "After data is loaded into the database, users can make changes from the front end, and they can also\n",
    "view data from the front end. Now, the business analyst team wants to analyze and visualize the data.\n",
    "Use Python libraries for the below requirements:\n",
    "Page 4 of 7\n",
    "9/27/2023 – edited VLB\n",
    "Req - 3 Data Analysis and Visualization\n",
    "Functional\n",
    "Requirements 3.1\n",
    "Find and plot which transaction type has the highest transaction count.\n",
    "Note: Save a copy of the visualization to a folder in your github,\n",
    "making sure it is PROPERLY NAMED!\n",
    "Functional\n",
    "Requirements 3.2\n",
    "Find and plot which state has a high number of customers.\n",
    "Note: Save a copy of the visualization to a folder in your github,\n",
    "making sure it is PROPERLY NAMED!\n",
    "Functional\n",
    "Requirements 3.3\n",
    "Find and plot the sum of all transactions for the top 10 customers,\n",
    "and which customer has the highest transaction amount.\n",
    "Hint (use CUST_SSN).\n",
    "Note: Save a copy of the visualization t"
   ]
  },
  {
   "cell_type": "code",
   "execution_count": 51,
   "metadata": {},
   "outputs": [
    {
     "name": "stdout",
     "output_type": "stream",
     "text": [
      "Total Amount spent: 358.91\n"
     ]
    }
   ],
   "source": [
    "#3) Used to generate a monthly bill for a credit card number for a given month and year.\n",
    "\n",
    "credits_Card_number = input(\"Please enter the credit card number(ex:4210653349028689): \")\n",
    "Month = input(\"Please enter the month: \")\n",
    "Year = input(\"Please enter the year: \")\n",
    "\n",
    "#spark_Sqll = f\"\"\" SELECT '{SSN}', CREDIT_CARD_NO, FIRST_NAME,MIDDLE_NAME,LAST_NAME, CREDIT_CARD_NO, FULL_STREET_ADDRESS, CUST_CITY,CUST_STATE\n",
    "spark_Sql = f\"\"\" SELECT  SUM(TRANSACTION_VALUE) AS Transaction FROM df_TIMEID , credit_card.FIRST_NAME,credit_card.MIDDLE_NAME credit_card.LAST_NAME|  CREDIT_CARD_NO \n",
    "WHERE '{credits_Card_number }' = CUST_CC_NO AND YEAR = '{Year}' AND MONTH = '{Month}'\"\"\"\n",
    "\n",
    "Total_amount_spent = spark.sql(spark_Sql).collect()[0][\"Transaction\"]\n",
    "print(f\"Total Amount spent: {Total_amount_spent}\")\n",
    "\n"
   ]
  },
  {
   "cell_type": "code",
   "execution_count": 52,
   "metadata": {},
   "outputs": [
    {
     "name": "stdout",
     "output_type": "stream",
     "text": [
      "In order to display the transactions made by a custommer needs date\n"
     ]
    },
    {
     "ename": "ConnectionRefusedError",
     "evalue": "[WinError 10061] No connection could be made because the target machine actively refused it",
     "output_type": "error",
     "traceback": [
      "\u001b[1;31m---------------------------------------------------------------------------\u001b[0m",
      "\u001b[1;31mConnectionResetError\u001b[0m                      Traceback (most recent call last)",
      "File \u001b[1;32mc:\\Users\\ribka\\AppData\\Local\\Programs\\Python\\Python310\\lib\\site-packages\\py4j\\clientserver.py:503\u001b[0m, in \u001b[0;36mClientServerConnection.send_command\u001b[1;34m(self, command)\u001b[0m\n\u001b[0;32m    502\u001b[0m \u001b[39mtry\u001b[39;00m:\n\u001b[1;32m--> 503\u001b[0m     \u001b[39mself\u001b[39;49m\u001b[39m.\u001b[39;49msocket\u001b[39m.\u001b[39;49msendall(command\u001b[39m.\u001b[39;49mencode(\u001b[39m\"\u001b[39;49m\u001b[39mutf-8\u001b[39;49m\u001b[39m\"\u001b[39;49m))\n\u001b[0;32m    504\u001b[0m \u001b[39mexcept\u001b[39;00m \u001b[39mException\u001b[39;00m \u001b[39mas\u001b[39;00m e:\n",
      "\u001b[1;31mConnectionResetError\u001b[0m: [WinError 10054] An existing connection was forcibly closed by the remote host",
      "\nDuring handling of the above exception, another exception occurred:\n",
      "\u001b[1;31mPy4JNetworkError\u001b[0m                          Traceback (most recent call last)",
      "File \u001b[1;32mc:\\Users\\ribka\\AppData\\Local\\Programs\\Python\\Python310\\lib\\site-packages\\py4j\\java_gateway.py:1038\u001b[0m, in \u001b[0;36mGatewayClient.send_command\u001b[1;34m(self, command, retry, binary)\u001b[0m\n\u001b[0;32m   1037\u001b[0m \u001b[39mtry\u001b[39;00m:\n\u001b[1;32m-> 1038\u001b[0m     response \u001b[39m=\u001b[39m connection\u001b[39m.\u001b[39;49msend_command(command)\n\u001b[0;32m   1039\u001b[0m     \u001b[39mif\u001b[39;00m binary:\n",
      "File \u001b[1;32mc:\\Users\\ribka\\AppData\\Local\\Programs\\Python\\Python310\\lib\\site-packages\\py4j\\clientserver.py:506\u001b[0m, in \u001b[0;36mClientServerConnection.send_command\u001b[1;34m(self, command)\u001b[0m\n\u001b[0;32m    505\u001b[0m     logger\u001b[39m.\u001b[39minfo(\u001b[39m\"\u001b[39m\u001b[39mError while sending or receiving.\u001b[39m\u001b[39m\"\u001b[39m, exc_info\u001b[39m=\u001b[39m\u001b[39mTrue\u001b[39;00m)\n\u001b[1;32m--> 506\u001b[0m     \u001b[39mraise\u001b[39;00m Py4JNetworkError(\n\u001b[0;32m    507\u001b[0m         \u001b[39m\"\u001b[39m\u001b[39mError while sending\u001b[39m\u001b[39m\"\u001b[39m, e, proto\u001b[39m.\u001b[39mERROR_ON_SEND)\n\u001b[0;32m    509\u001b[0m \u001b[39mtry\u001b[39;00m:\n",
      "\u001b[1;31mPy4JNetworkError\u001b[0m: Error while sending",
      "\nDuring handling of the above exception, another exception occurred:\n",
      "\u001b[1;31mConnectionRefusedError\u001b[0m                    Traceback (most recent call last)",
      "\u001b[1;32md:\\Perscholas\\Ayele Capstone Project\\CreditCardSystem.ipynb Cell 50\u001b[0m line \u001b[0;36m1\n\u001b[0;32m      <a href='vscode-notebook-cell:/d%3A/Perscholas/Ayele%20Capstone%20Project/CreditCardSystem.ipynb#X64sZmlsZQ%3D%3D?line=7'>8</a>\u001b[0m \u001b[39m#use credit_card \u001b[39;00m\n\u001b[0;32m      <a href='vscode-notebook-cell:/d%3A/Perscholas/Ayele%20Capstone%20Project/CreditCardSystem.ipynb#X64sZmlsZQ%3D%3D?line=8'>9</a>\u001b[0m spark_sql \u001b[39m=\u001b[39m \u001b[39mf\u001b[39m\u001b[39m\"\"\"\u001b[39m\u001b[39m SELECT * FROM TIMEID WHERE CUST_CC_NO = \u001b[39m\u001b[39m'\u001b[39m\u001b[39m{\u001b[39;00mcredits_Card_number\u001b[39m}\u001b[39;00m\u001b[39m'\u001b[39m\u001b[39m AND TIMEID >= \u001b[39m\u001b[39m{\u001b[39;00mStart_Date\u001b[39m}\u001b[39;00m\u001b[39m <= \u001b[39m\u001b[39m{\u001b[39;00mEnd_Date\u001b[39m \u001b[39m\u001b[39m}\u001b[39;00m\n\u001b[0;32m     <a href='vscode-notebook-cell:/d%3A/Perscholas/Ayele%20Capstone%20Project/CreditCardSystem.ipynb#X64sZmlsZQ%3D%3D?line=9'>10</a>\u001b[0m \u001b[39mORDER BY TIMEID, DESC TIMEID \u001b[39m\u001b[39m\"\"\"\u001b[39m\n\u001b[1;32m---> <a href='vscode-notebook-cell:/d%3A/Perscholas/Ayele%20Capstone%20Project/CreditCardSystem.ipynb#X64sZmlsZQ%3D%3D?line=11'>12</a>\u001b[0m result \u001b[39m=\u001b[39m spark\u001b[39m.\u001b[39;49msql(spark_sql)\n\u001b[0;32m     <a href='vscode-notebook-cell:/d%3A/Perscholas/Ayele%20Capstone%20Project/CreditCardSystem.ipynb#X64sZmlsZQ%3D%3D?line=13'>14</a>\u001b[0m result\u001b[39m.\u001b[39mshow()\n",
      "File \u001b[1;32mc:\\Users\\ribka\\AppData\\Local\\Programs\\Python\\Python310\\lib\\site-packages\\pyspark\\sql\\session.py:1440\u001b[0m, in \u001b[0;36mSparkSession.sql\u001b[1;34m(self, sqlQuery, args, **kwargs)\u001b[0m\n\u001b[0;32m   1438\u001b[0m \u001b[39mtry\u001b[39;00m:\n\u001b[0;32m   1439\u001b[0m     litArgs \u001b[39m=\u001b[39m {k: _to_java_column(lit(v)) \u001b[39mfor\u001b[39;00m k, v \u001b[39min\u001b[39;00m (args \u001b[39mor\u001b[39;00m {})\u001b[39m.\u001b[39mitems()}\n\u001b[1;32m-> 1440\u001b[0m     \u001b[39mreturn\u001b[39;00m DataFrame(\u001b[39mself\u001b[39;49m\u001b[39m.\u001b[39;49m_jsparkSession\u001b[39m.\u001b[39;49msql(sqlQuery, litArgs), \u001b[39mself\u001b[39m)\n\u001b[0;32m   1441\u001b[0m \u001b[39mfinally\u001b[39;00m:\n\u001b[0;32m   1442\u001b[0m     \u001b[39mif\u001b[39;00m \u001b[39mlen\u001b[39m(kwargs) \u001b[39m>\u001b[39m \u001b[39m0\u001b[39m:\n",
      "File \u001b[1;32mc:\\Users\\ribka\\AppData\\Local\\Programs\\Python\\Python310\\lib\\site-packages\\py4j\\java_gateway.py:1314\u001b[0m, in \u001b[0;36mJavaMember.__call__\u001b[1;34m(self, *args)\u001b[0m\n\u001b[0;32m   1313\u001b[0m \u001b[39mdef\u001b[39;00m \u001b[39m__call__\u001b[39m(\u001b[39mself\u001b[39m, \u001b[39m*\u001b[39margs):\n\u001b[1;32m-> 1314\u001b[0m     args_command, temp_args \u001b[39m=\u001b[39m \u001b[39mself\u001b[39;49m\u001b[39m.\u001b[39;49m_build_args(\u001b[39m*\u001b[39;49margs)\n\u001b[0;32m   1316\u001b[0m     command \u001b[39m=\u001b[39m proto\u001b[39m.\u001b[39mCALL_COMMAND_NAME \u001b[39m+\u001b[39m\\\n\u001b[0;32m   1317\u001b[0m         \u001b[39mself\u001b[39m\u001b[39m.\u001b[39mcommand_header \u001b[39m+\u001b[39m\\\n\u001b[0;32m   1318\u001b[0m         args_command \u001b[39m+\u001b[39m\\\n\u001b[0;32m   1319\u001b[0m         proto\u001b[39m.\u001b[39mEND_COMMAND_PART\n\u001b[0;32m   1321\u001b[0m     answer \u001b[39m=\u001b[39m \u001b[39mself\u001b[39m\u001b[39m.\u001b[39mgateway_client\u001b[39m.\u001b[39msend_command(command)\n",
      "File \u001b[1;32mc:\\Users\\ribka\\AppData\\Local\\Programs\\Python\\Python310\\lib\\site-packages\\py4j\\java_gateway.py:1277\u001b[0m, in \u001b[0;36mJavaMember._build_args\u001b[1;34m(self, *args)\u001b[0m\n\u001b[0;32m   1275\u001b[0m \u001b[39mdef\u001b[39;00m \u001b[39m_build_args\u001b[39m(\u001b[39mself\u001b[39m, \u001b[39m*\u001b[39margs):\n\u001b[0;32m   1276\u001b[0m     \u001b[39mif\u001b[39;00m \u001b[39mself\u001b[39m\u001b[39m.\u001b[39mconverters \u001b[39mis\u001b[39;00m \u001b[39mnot\u001b[39;00m \u001b[39mNone\u001b[39;00m \u001b[39mand\u001b[39;00m \u001b[39mlen\u001b[39m(\u001b[39mself\u001b[39m\u001b[39m.\u001b[39mconverters) \u001b[39m>\u001b[39m \u001b[39m0\u001b[39m:\n\u001b[1;32m-> 1277\u001b[0m         (new_args, temp_args) \u001b[39m=\u001b[39m \u001b[39mself\u001b[39;49m\u001b[39m.\u001b[39;49m_get_args(args)\n\u001b[0;32m   1278\u001b[0m     \u001b[39melse\u001b[39;00m:\n\u001b[0;32m   1279\u001b[0m         new_args \u001b[39m=\u001b[39m args\n",
      "File \u001b[1;32mc:\\Users\\ribka\\AppData\\Local\\Programs\\Python\\Python310\\lib\\site-packages\\py4j\\java_gateway.py:1264\u001b[0m, in \u001b[0;36mJavaMember._get_args\u001b[1;34m(self, args)\u001b[0m\n\u001b[0;32m   1262\u001b[0m \u001b[39mfor\u001b[39;00m converter \u001b[39min\u001b[39;00m \u001b[39mself\u001b[39m\u001b[39m.\u001b[39mgateway_client\u001b[39m.\u001b[39mconverters:\n\u001b[0;32m   1263\u001b[0m     \u001b[39mif\u001b[39;00m converter\u001b[39m.\u001b[39mcan_convert(arg):\n\u001b[1;32m-> 1264\u001b[0m         temp_arg \u001b[39m=\u001b[39m converter\u001b[39m.\u001b[39;49mconvert(arg, \u001b[39mself\u001b[39;49m\u001b[39m.\u001b[39;49mgateway_client)\n\u001b[0;32m   1265\u001b[0m         temp_args\u001b[39m.\u001b[39mappend(temp_arg)\n\u001b[0;32m   1266\u001b[0m         new_args\u001b[39m.\u001b[39mappend(temp_arg)\n",
      "File \u001b[1;32mc:\\Users\\ribka\\AppData\\Local\\Programs\\Python\\Python310\\lib\\site-packages\\py4j\\java_collections.py:521\u001b[0m, in \u001b[0;36mMapConverter.convert\u001b[1;34m(self, object, gateway_client)\u001b[0m\n\u001b[0;32m    519\u001b[0m \u001b[39mdef\u001b[39;00m \u001b[39mconvert\u001b[39m(\u001b[39mself\u001b[39m, \u001b[39mobject\u001b[39m, gateway_client):\n\u001b[0;32m    520\u001b[0m     HashMap \u001b[39m=\u001b[39m JavaClass(\u001b[39m\"\u001b[39m\u001b[39mjava.util.HashMap\u001b[39m\u001b[39m\"\u001b[39m, gateway_client)\n\u001b[1;32m--> 521\u001b[0m     java_map \u001b[39m=\u001b[39m HashMap()\n\u001b[0;32m    522\u001b[0m     \u001b[39mfor\u001b[39;00m key \u001b[39min\u001b[39;00m \u001b[39mobject\u001b[39m\u001b[39m.\u001b[39mkeys():\n\u001b[0;32m    523\u001b[0m         java_map[key] \u001b[39m=\u001b[39m \u001b[39mobject\u001b[39m[key]\n",
      "File \u001b[1;32mc:\\Users\\ribka\\AppData\\Local\\Programs\\Python\\Python310\\lib\\site-packages\\py4j\\java_gateway.py:1586\u001b[0m, in \u001b[0;36mJavaClass.__call__\u001b[1;34m(self, *args)\u001b[0m\n\u001b[0;32m   1578\u001b[0m args_command \u001b[39m=\u001b[39m \u001b[39m\"\u001b[39m\u001b[39m\"\u001b[39m\u001b[39m.\u001b[39mjoin(\n\u001b[0;32m   1579\u001b[0m     [get_command_part(arg, \u001b[39mself\u001b[39m\u001b[39m.\u001b[39m_pool) \u001b[39mfor\u001b[39;00m arg \u001b[39min\u001b[39;00m new_args])\n\u001b[0;32m   1581\u001b[0m command \u001b[39m=\u001b[39m proto\u001b[39m.\u001b[39mCONSTRUCTOR_COMMAND_NAME \u001b[39m+\u001b[39m\\\n\u001b[0;32m   1582\u001b[0m     \u001b[39mself\u001b[39m\u001b[39m.\u001b[39m_command_header \u001b[39m+\u001b[39m\\\n\u001b[0;32m   1583\u001b[0m     args_command \u001b[39m+\u001b[39m\\\n\u001b[0;32m   1584\u001b[0m     proto\u001b[39m.\u001b[39mEND_COMMAND_PART\n\u001b[1;32m-> 1586\u001b[0m answer \u001b[39m=\u001b[39m \u001b[39mself\u001b[39;49m\u001b[39m.\u001b[39;49m_gateway_client\u001b[39m.\u001b[39;49msend_command(command)\n\u001b[0;32m   1587\u001b[0m return_value \u001b[39m=\u001b[39m get_return_value(\n\u001b[0;32m   1588\u001b[0m     answer, \u001b[39mself\u001b[39m\u001b[39m.\u001b[39m_gateway_client, \u001b[39mNone\u001b[39;00m, \u001b[39mself\u001b[39m\u001b[39m.\u001b[39m_fqn)\n\u001b[0;32m   1590\u001b[0m \u001b[39mfor\u001b[39;00m temp_arg \u001b[39min\u001b[39;00m temp_args:\n",
      "File \u001b[1;32mc:\\Users\\ribka\\AppData\\Local\\Programs\\Python\\Python310\\lib\\site-packages\\py4j\\java_gateway.py:1053\u001b[0m, in \u001b[0;36mGatewayClient.send_command\u001b[1;34m(self, command, retry, binary)\u001b[0m\n\u001b[0;32m   1051\u001b[0m \u001b[39mif\u001b[39;00m \u001b[39mself\u001b[39m\u001b[39m.\u001b[39m_should_retry(retry, connection, pne):\n\u001b[0;32m   1052\u001b[0m     logging\u001b[39m.\u001b[39minfo(\u001b[39m\"\u001b[39m\u001b[39mException while sending command.\u001b[39m\u001b[39m\"\u001b[39m, exc_info\u001b[39m=\u001b[39m\u001b[39mTrue\u001b[39;00m)\n\u001b[1;32m-> 1053\u001b[0m     response \u001b[39m=\u001b[39m \u001b[39mself\u001b[39;49m\u001b[39m.\u001b[39;49msend_command(command, binary\u001b[39m=\u001b[39;49mbinary)\n\u001b[0;32m   1054\u001b[0m \u001b[39melse\u001b[39;00m:\n\u001b[0;32m   1055\u001b[0m     logging\u001b[39m.\u001b[39mexception(\n\u001b[0;32m   1056\u001b[0m         \u001b[39m\"\u001b[39m\u001b[39mException while sending command.\u001b[39m\u001b[39m\"\u001b[39m)\n",
      "File \u001b[1;32mc:\\Users\\ribka\\AppData\\Local\\Programs\\Python\\Python310\\lib\\site-packages\\py4j\\java_gateway.py:1036\u001b[0m, in \u001b[0;36mGatewayClient.send_command\u001b[1;34m(self, command, retry, binary)\u001b[0m\n\u001b[0;32m   1015\u001b[0m \u001b[39mdef\u001b[39;00m \u001b[39msend_command\u001b[39m(\u001b[39mself\u001b[39m, command, retry\u001b[39m=\u001b[39m\u001b[39mTrue\u001b[39;00m, binary\u001b[39m=\u001b[39m\u001b[39mFalse\u001b[39;00m):\n\u001b[0;32m   1016\u001b[0m \u001b[39m    \u001b[39m\u001b[39m\"\"\"Sends a command to the JVM. This method is not intended to be\u001b[39;00m\n\u001b[0;32m   1017\u001b[0m \u001b[39m       called directly by Py4J users. It is usually called by\u001b[39;00m\n\u001b[0;32m   1018\u001b[0m \u001b[39m       :class:`JavaMember` instances.\u001b[39;00m\n\u001b[1;32m   (...)\u001b[0m\n\u001b[0;32m   1034\u001b[0m \u001b[39m     if `binary` is `True`.\u001b[39;00m\n\u001b[0;32m   1035\u001b[0m \u001b[39m    \"\"\"\u001b[39;00m\n\u001b[1;32m-> 1036\u001b[0m     connection \u001b[39m=\u001b[39m \u001b[39mself\u001b[39;49m\u001b[39m.\u001b[39;49m_get_connection()\n\u001b[0;32m   1037\u001b[0m     \u001b[39mtry\u001b[39;00m:\n\u001b[0;32m   1038\u001b[0m         response \u001b[39m=\u001b[39m connection\u001b[39m.\u001b[39msend_command(command)\n",
      "File \u001b[1;32mc:\\Users\\ribka\\AppData\\Local\\Programs\\Python\\Python310\\lib\\site-packages\\py4j\\clientserver.py:284\u001b[0m, in \u001b[0;36mJavaClient._get_connection\u001b[1;34m(self)\u001b[0m\n\u001b[0;32m    281\u001b[0m     \u001b[39mpass\u001b[39;00m\n\u001b[0;32m    283\u001b[0m \u001b[39mif\u001b[39;00m connection \u001b[39mis\u001b[39;00m \u001b[39mNone\u001b[39;00m \u001b[39mor\u001b[39;00m connection\u001b[39m.\u001b[39msocket \u001b[39mis\u001b[39;00m \u001b[39mNone\u001b[39;00m:\n\u001b[1;32m--> 284\u001b[0m     connection \u001b[39m=\u001b[39m \u001b[39mself\u001b[39;49m\u001b[39m.\u001b[39;49m_create_new_connection()\n\u001b[0;32m    285\u001b[0m \u001b[39mreturn\u001b[39;00m connection\n",
      "File \u001b[1;32mc:\\Users\\ribka\\AppData\\Local\\Programs\\Python\\Python310\\lib\\site-packages\\py4j\\clientserver.py:291\u001b[0m, in \u001b[0;36mJavaClient._create_new_connection\u001b[1;34m(self)\u001b[0m\n\u001b[0;32m    287\u001b[0m \u001b[39mdef\u001b[39;00m \u001b[39m_create_new_connection\u001b[39m(\u001b[39mself\u001b[39m):\n\u001b[0;32m    288\u001b[0m     connection \u001b[39m=\u001b[39m ClientServerConnection(\n\u001b[0;32m    289\u001b[0m         \u001b[39mself\u001b[39m\u001b[39m.\u001b[39mjava_parameters, \u001b[39mself\u001b[39m\u001b[39m.\u001b[39mpython_parameters,\n\u001b[0;32m    290\u001b[0m         \u001b[39mself\u001b[39m\u001b[39m.\u001b[39mgateway_property, \u001b[39mself\u001b[39m)\n\u001b[1;32m--> 291\u001b[0m     connection\u001b[39m.\u001b[39;49mconnect_to_java_server()\n\u001b[0;32m    292\u001b[0m     \u001b[39mself\u001b[39m\u001b[39m.\u001b[39mset_thread_connection(connection)\n\u001b[0;32m    293\u001b[0m     \u001b[39mreturn\u001b[39;00m connection\n",
      "File \u001b[1;32mc:\\Users\\ribka\\AppData\\Local\\Programs\\Python\\Python310\\lib\\site-packages\\py4j\\clientserver.py:438\u001b[0m, in \u001b[0;36mClientServerConnection.connect_to_java_server\u001b[1;34m(self)\u001b[0m\n\u001b[0;32m    435\u001b[0m \u001b[39mif\u001b[39;00m \u001b[39mself\u001b[39m\u001b[39m.\u001b[39mssl_context:\n\u001b[0;32m    436\u001b[0m     \u001b[39mself\u001b[39m\u001b[39m.\u001b[39msocket \u001b[39m=\u001b[39m \u001b[39mself\u001b[39m\u001b[39m.\u001b[39mssl_context\u001b[39m.\u001b[39mwrap_socket(\n\u001b[0;32m    437\u001b[0m         \u001b[39mself\u001b[39m\u001b[39m.\u001b[39msocket, server_hostname\u001b[39m=\u001b[39m\u001b[39mself\u001b[39m\u001b[39m.\u001b[39mjava_address)\n\u001b[1;32m--> 438\u001b[0m \u001b[39mself\u001b[39;49m\u001b[39m.\u001b[39;49msocket\u001b[39m.\u001b[39;49mconnect((\u001b[39mself\u001b[39;49m\u001b[39m.\u001b[39;49mjava_address, \u001b[39mself\u001b[39;49m\u001b[39m.\u001b[39;49mjava_port))\n\u001b[0;32m    439\u001b[0m \u001b[39mself\u001b[39m\u001b[39m.\u001b[39mstream \u001b[39m=\u001b[39m \u001b[39mself\u001b[39m\u001b[39m.\u001b[39msocket\u001b[39m.\u001b[39mmakefile(\u001b[39m\"\u001b[39m\u001b[39mrb\u001b[39m\u001b[39m\"\u001b[39m)\n\u001b[0;32m    440\u001b[0m \u001b[39mself\u001b[39m\u001b[39m.\u001b[39mis_connected \u001b[39m=\u001b[39m \u001b[39mTrue\u001b[39;00m\n",
      "\u001b[1;31mConnectionRefusedError\u001b[0m: [WinError 10061] No connection could be made because the target machine actively refused it"
     ]
    }
   ],
   "source": [
    "#4) Used to display the transactions made by a customer between two dates. Order by year, month, and day in descending order.\n",
    "\n",
    "credits_Card_number = input(\"Please enter the credit card number(ex:4210653349028689): \")\n",
    "print(\"In order to display the transactions made by a custommer needs date\")\n",
    "Start_Date = input(\"Please enter starting  day,month and year [20180210]: \")\n",
    "End_Date = input(\"Please enter end data [20180210]\")\n",
    "\n",
    "#use credit_card \n",
    "spark_sql = f\"\"\" SELECT * FROM TIMEID WHERE CUST_CC_NO = '{credits_Card_number}' AND TIMEID >= {Start_Date} <= {End_Date }\n",
    "ORDER BY TIMEID, DESC TIMEID \"\"\"\n",
    "\n",
    "result = spark.sql(spark_sql)\n",
    "\n",
    "result.show()\n"
   ]
  },
  {
   "cell_type": "markdown",
   "metadata": {},
   "source": [
    "Req - 3 Data Analysis and Visualization\n"
   ]
  },
  {
   "cell_type": "code",
   "execution_count": 53,
   "metadata": {},
   "outputs": [
    {
     "ename": "ConnectionRefusedError",
     "evalue": "[WinError 10061] No connection could be made because the target machine actively refused it",
     "output_type": "error",
     "traceback": [
      "\u001b[1;31m---------------------------------------------------------------------------\u001b[0m",
      "\u001b[1;31mConnectionRefusedError\u001b[0m                    Traceback (most recent call last)",
      "\u001b[1;32md:\\Perscholas\\Ayele Capstone Project\\CreditCardSystem.ipynb Cell 52\u001b[0m line \u001b[0;36m9\n\u001b[0;32m      <a href='vscode-notebook-cell:/d%3A/Perscholas/Ayele%20Capstone%20Project/CreditCardSystem.ipynb#Y103sZmlsZQ%3D%3D?line=5'>6</a>\u001b[0m \u001b[39mimport\u001b[39;00m \u001b[39mmatplotlib\u001b[39;00m\u001b[39m.\u001b[39;00m\u001b[39mpyplot\u001b[39;00m \u001b[39mas\u001b[39;00m \u001b[39mplt\u001b[39;00m\n\u001b[0;32m      <a href='vscode-notebook-cell:/d%3A/Perscholas/Ayele%20Capstone%20Project/CreditCardSystem.ipynb#Y103sZmlsZQ%3D%3D?line=7'>8</a>\u001b[0m \u001b[39m#From df_cdw_sapp_credit dataframe group transaction type and count the transactions\u001b[39;00m\n\u001b[1;32m----> <a href='vscode-notebook-cell:/d%3A/Perscholas/Ayele%20Capstone%20Project/CreditCardSystem.ipynb#Y103sZmlsZQ%3D%3D?line=8'>9</a>\u001b[0m count \u001b[39m=\u001b[39m df_cdw_sapp_credit[\u001b[39m'\u001b[39;49m\u001b[39mTRANSACTION_TYPE\u001b[39;49m\u001b[39m'\u001b[39;49m]\u001b[39m.\u001b[39mvalue_counts()\n\u001b[0;32m     <a href='vscode-notebook-cell:/d%3A/Perscholas/Ayele%20Capstone%20Project/CreditCardSystem.ipynb#Y103sZmlsZQ%3D%3D?line=10'>11</a>\u001b[0m \u001b[39m#Get transaction type and highest count\u001b[39;00m\n\u001b[0;32m     <a href='vscode-notebook-cell:/d%3A/Perscholas/Ayele%20Capstone%20Project/CreditCardSystem.ipynb#Y103sZmlsZQ%3D%3D?line=11'>12</a>\u001b[0m top_transaction_type \u001b[39m=\u001b[39m count\u001b[39m.\u001b[39mcounts\u001b[39m.\u001b[39midxmax()\n",
      "File \u001b[1;32mc:\\Users\\ribka\\AppData\\Local\\Programs\\Python\\Python310\\lib\\site-packages\\pyspark\\sql\\dataframe.py:2928\u001b[0m, in \u001b[0;36mDataFrame.__getitem__\u001b[1;34m(self, item)\u001b[0m\n\u001b[0;32m   2856\u001b[0m \u001b[39m\u001b[39m\u001b[39m\"\"\"Returns the column as a :class:`Column`.\u001b[39;00m\n\u001b[0;32m   2857\u001b[0m \n\u001b[0;32m   2858\u001b[0m \u001b[39m.. versionadded:: 1.3.0\u001b[39;00m\n\u001b[1;32m   (...)\u001b[0m\n\u001b[0;32m   2925\u001b[0m \u001b[39m+---+----+\u001b[39;00m\n\u001b[0;32m   2926\u001b[0m \u001b[39m\"\"\"\u001b[39;00m\n\u001b[0;32m   2927\u001b[0m \u001b[39mif\u001b[39;00m \u001b[39misinstance\u001b[39m(item, \u001b[39mstr\u001b[39m):\n\u001b[1;32m-> 2928\u001b[0m     jc \u001b[39m=\u001b[39m \u001b[39mself\u001b[39;49m\u001b[39m.\u001b[39;49m_jdf\u001b[39m.\u001b[39;49mapply(item)\n\u001b[0;32m   2929\u001b[0m     \u001b[39mreturn\u001b[39;00m Column(jc)\n\u001b[0;32m   2930\u001b[0m \u001b[39melif\u001b[39;00m \u001b[39misinstance\u001b[39m(item, Column):\n",
      "File \u001b[1;32mc:\\Users\\ribka\\AppData\\Local\\Programs\\Python\\Python310\\lib\\site-packages\\py4j\\java_gateway.py:1321\u001b[0m, in \u001b[0;36mJavaMember.__call__\u001b[1;34m(self, *args)\u001b[0m\n\u001b[0;32m   1314\u001b[0m args_command, temp_args \u001b[39m=\u001b[39m \u001b[39mself\u001b[39m\u001b[39m.\u001b[39m_build_args(\u001b[39m*\u001b[39margs)\n\u001b[0;32m   1316\u001b[0m command \u001b[39m=\u001b[39m proto\u001b[39m.\u001b[39mCALL_COMMAND_NAME \u001b[39m+\u001b[39m\\\n\u001b[0;32m   1317\u001b[0m     \u001b[39mself\u001b[39m\u001b[39m.\u001b[39mcommand_header \u001b[39m+\u001b[39m\\\n\u001b[0;32m   1318\u001b[0m     args_command \u001b[39m+\u001b[39m\\\n\u001b[0;32m   1319\u001b[0m     proto\u001b[39m.\u001b[39mEND_COMMAND_PART\n\u001b[1;32m-> 1321\u001b[0m answer \u001b[39m=\u001b[39m \u001b[39mself\u001b[39;49m\u001b[39m.\u001b[39;49mgateway_client\u001b[39m.\u001b[39;49msend_command(command)\n\u001b[0;32m   1322\u001b[0m return_value \u001b[39m=\u001b[39m get_return_value(\n\u001b[0;32m   1323\u001b[0m     answer, \u001b[39mself\u001b[39m\u001b[39m.\u001b[39mgateway_client, \u001b[39mself\u001b[39m\u001b[39m.\u001b[39mtarget_id, \u001b[39mself\u001b[39m\u001b[39m.\u001b[39mname)\n\u001b[0;32m   1325\u001b[0m \u001b[39mfor\u001b[39;00m temp_arg \u001b[39min\u001b[39;00m temp_args:\n",
      "File \u001b[1;32mc:\\Users\\ribka\\AppData\\Local\\Programs\\Python\\Python310\\lib\\site-packages\\py4j\\java_gateway.py:1036\u001b[0m, in \u001b[0;36mGatewayClient.send_command\u001b[1;34m(self, command, retry, binary)\u001b[0m\n\u001b[0;32m   1015\u001b[0m \u001b[39mdef\u001b[39;00m \u001b[39msend_command\u001b[39m(\u001b[39mself\u001b[39m, command, retry\u001b[39m=\u001b[39m\u001b[39mTrue\u001b[39;00m, binary\u001b[39m=\u001b[39m\u001b[39mFalse\u001b[39;00m):\n\u001b[0;32m   1016\u001b[0m \u001b[39m    \u001b[39m\u001b[39m\"\"\"Sends a command to the JVM. This method is not intended to be\u001b[39;00m\n\u001b[0;32m   1017\u001b[0m \u001b[39m       called directly by Py4J users. It is usually called by\u001b[39;00m\n\u001b[0;32m   1018\u001b[0m \u001b[39m       :class:`JavaMember` instances.\u001b[39;00m\n\u001b[1;32m   (...)\u001b[0m\n\u001b[0;32m   1034\u001b[0m \u001b[39m     if `binary` is `True`.\u001b[39;00m\n\u001b[0;32m   1035\u001b[0m \u001b[39m    \"\"\"\u001b[39;00m\n\u001b[1;32m-> 1036\u001b[0m     connection \u001b[39m=\u001b[39m \u001b[39mself\u001b[39;49m\u001b[39m.\u001b[39;49m_get_connection()\n\u001b[0;32m   1037\u001b[0m     \u001b[39mtry\u001b[39;00m:\n\u001b[0;32m   1038\u001b[0m         response \u001b[39m=\u001b[39m connection\u001b[39m.\u001b[39msend_command(command)\n",
      "File \u001b[1;32mc:\\Users\\ribka\\AppData\\Local\\Programs\\Python\\Python310\\lib\\site-packages\\py4j\\clientserver.py:284\u001b[0m, in \u001b[0;36mJavaClient._get_connection\u001b[1;34m(self)\u001b[0m\n\u001b[0;32m    281\u001b[0m     \u001b[39mpass\u001b[39;00m\n\u001b[0;32m    283\u001b[0m \u001b[39mif\u001b[39;00m connection \u001b[39mis\u001b[39;00m \u001b[39mNone\u001b[39;00m \u001b[39mor\u001b[39;00m connection\u001b[39m.\u001b[39msocket \u001b[39mis\u001b[39;00m \u001b[39mNone\u001b[39;00m:\n\u001b[1;32m--> 284\u001b[0m     connection \u001b[39m=\u001b[39m \u001b[39mself\u001b[39;49m\u001b[39m.\u001b[39;49m_create_new_connection()\n\u001b[0;32m    285\u001b[0m \u001b[39mreturn\u001b[39;00m connection\n",
      "File \u001b[1;32mc:\\Users\\ribka\\AppData\\Local\\Programs\\Python\\Python310\\lib\\site-packages\\py4j\\clientserver.py:291\u001b[0m, in \u001b[0;36mJavaClient._create_new_connection\u001b[1;34m(self)\u001b[0m\n\u001b[0;32m    287\u001b[0m \u001b[39mdef\u001b[39;00m \u001b[39m_create_new_connection\u001b[39m(\u001b[39mself\u001b[39m):\n\u001b[0;32m    288\u001b[0m     connection \u001b[39m=\u001b[39m ClientServerConnection(\n\u001b[0;32m    289\u001b[0m         \u001b[39mself\u001b[39m\u001b[39m.\u001b[39mjava_parameters, \u001b[39mself\u001b[39m\u001b[39m.\u001b[39mpython_parameters,\n\u001b[0;32m    290\u001b[0m         \u001b[39mself\u001b[39m\u001b[39m.\u001b[39mgateway_property, \u001b[39mself\u001b[39m)\n\u001b[1;32m--> 291\u001b[0m     connection\u001b[39m.\u001b[39;49mconnect_to_java_server()\n\u001b[0;32m    292\u001b[0m     \u001b[39mself\u001b[39m\u001b[39m.\u001b[39mset_thread_connection(connection)\n\u001b[0;32m    293\u001b[0m     \u001b[39mreturn\u001b[39;00m connection\n",
      "File \u001b[1;32mc:\\Users\\ribka\\AppData\\Local\\Programs\\Python\\Python310\\lib\\site-packages\\py4j\\clientserver.py:438\u001b[0m, in \u001b[0;36mClientServerConnection.connect_to_java_server\u001b[1;34m(self)\u001b[0m\n\u001b[0;32m    435\u001b[0m \u001b[39mif\u001b[39;00m \u001b[39mself\u001b[39m\u001b[39m.\u001b[39mssl_context:\n\u001b[0;32m    436\u001b[0m     \u001b[39mself\u001b[39m\u001b[39m.\u001b[39msocket \u001b[39m=\u001b[39m \u001b[39mself\u001b[39m\u001b[39m.\u001b[39mssl_context\u001b[39m.\u001b[39mwrap_socket(\n\u001b[0;32m    437\u001b[0m         \u001b[39mself\u001b[39m\u001b[39m.\u001b[39msocket, server_hostname\u001b[39m=\u001b[39m\u001b[39mself\u001b[39m\u001b[39m.\u001b[39mjava_address)\n\u001b[1;32m--> 438\u001b[0m \u001b[39mself\u001b[39;49m\u001b[39m.\u001b[39;49msocket\u001b[39m.\u001b[39;49mconnect((\u001b[39mself\u001b[39;49m\u001b[39m.\u001b[39;49mjava_address, \u001b[39mself\u001b[39;49m\u001b[39m.\u001b[39;49mjava_port))\n\u001b[0;32m    439\u001b[0m \u001b[39mself\u001b[39m\u001b[39m.\u001b[39mstream \u001b[39m=\u001b[39m \u001b[39mself\u001b[39m\u001b[39m.\u001b[39msocket\u001b[39m.\u001b[39mmakefile(\u001b[39m\"\u001b[39m\u001b[39mrb\u001b[39m\u001b[39m\"\u001b[39m)\n\u001b[0;32m    440\u001b[0m \u001b[39mself\u001b[39m\u001b[39m.\u001b[39mis_connected \u001b[39m=\u001b[39m \u001b[39mTrue\u001b[39;00m\n",
      "\u001b[1;31mConnectionRefusedError\u001b[0m: [WinError 10061] No connection could be made because the target machine actively refused it"
     ]
    }
   ],
   "source": [
    "#Find and plot which transaction type has the highest transaction\n",
    "#count.Note: Take a screenshot of the graphs.\n",
    "\n",
    "\n",
    "import pandas as pd \n",
    "import matplotlib.pyplot as plt\n",
    "\n",
    "#From df_cdw_sapp_credit dataframe group transaction type and count the transactions\n",
    "count = df_cdw_sapp_credit['TRANSACTION_TYPE'].value_counts()\n",
    "\n",
    "#Get transaction type and highest count\n",
    "top_transaction_type = count.counts.idxmax()\n",
    "top_transaction_count = count.count.max()\n",
    "\n",
    "#Plot transaction \n",
    "\n",
    "count.plot(kind = 'bar', title = 'Transaction Type with the Highest Transaction Count')\n",
    "\n",
    "plt.xlable('Transaction Type')\n",
    "plt.ylabel('Transaction Count')\n",
    "\n",
    "plt.show()\n",
    "\n"
   ]
  }
 ],
 "metadata": {
  "kernelspec": {
   "display_name": "Python 3",
   "language": "python",
   "name": "python3"
  },
  "language_info": {
   "codemirror_mode": {
    "name": "ipython",
    "version": 3
   },
   "file_extension": ".py",
   "mimetype": "text/x-python",
   "name": "python",
   "nbconvert_exporter": "python",
   "pygments_lexer": "ipython3",
   "version": "3.10.11"
  },
  "orig_nbformat": 4
 },
 "nbformat": 4,
 "nbformat_minor": 2
}
